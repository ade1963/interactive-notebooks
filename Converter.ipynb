{
 "cells": [
  {
   "cell_type": "code",
   "execution_count": 1,
   "metadata": {},
   "outputs": [],
   "source": [
    "from __future__ import print_function\n",
    "from ipywidgets import interact, interactive, fixed, interact_manual\n",
    "import ipywidgets as widgets"
   ]
  },
  {
   "cell_type": "code",
   "execution_count": 2,
   "metadata": {},
   "outputs": [],
   "source": [
    "import codecs\n",
    "\n",
    "def hex2base64(hex_str):\n",
    "    b64_str=''\n",
    "    err='OK'\n",
    "    try: \n",
    "        b64_str = codecs.encode(codecs.decode(hex_str, 'hex'), 'base64').decode()\n",
    "    except:\n",
    "        err='Error, hex string contains only numbers'\n",
    "    return b64_str.strip(), err \n"
   ]
  },
  {
   "cell_type": "code",
   "execution_count": 3,
   "metadata": {},
   "outputs": [
    {
     "data": {
      "application/vnd.jupyter.widget-view+json": {
       "model_id": "57b8e7b036b347749746923b34a2b555",
       "version_major": 2,
       "version_minor": 0
      },
      "text/plain": [
       "Text(value='01020304')"
      ]
     },
     "metadata": {},
     "output_type": "display_data"
    },
    {
     "data": {
      "application/vnd.jupyter.widget-view+json": {
       "model_id": "d8542043b9b7458491d8d4f9108743dc",
       "version_major": 2,
       "version_minor": 0
      },
      "text/plain": [
       "Text(value='AQIDBA==')"
      ]
     },
     "metadata": {},
     "output_type": "display_data"
    },
    {
     "data": {
      "application/vnd.jupyter.widget-view+json": {
       "model_id": "fa27db31d91241fc8406702a80db393b",
       "version_major": 2,
       "version_minor": 0
      },
      "text/plain": [
       "Label(value='OK')"
      ]
     },
     "metadata": {},
     "output_type": "display_data"
    }
   ],
   "source": [
    "hexText = widgets.Text(value='01020304')\n",
    "b64, err = hex2base64(hexText.value)\n",
    "b64Text = widgets.Text(value=b64)\n",
    "errLabel = widgets.Label(value=err)\n",
    "def handle_hex_change(change):\n",
    "    b64Text.value, errLabel.value = hex2base64(change.new)\n",
    "\n",
    "hexText.observe(handle_hex_change, names='value')\n",
    "\n",
    "display(hexText, b64Text, errLabel)"
   ]
  },
  {
   "cell_type": "code",
   "execution_count": null,
   "metadata": {},
   "outputs": [],
   "source": []
  }
 ],
 "metadata": {
  "kernelspec": {
   "display_name": "Python 3",
   "language": "python",
   "name": "python3"
  },
  "language_info": {
   "codemirror_mode": {
    "name": "ipython",
    "version": 3
   },
   "file_extension": ".py",
   "mimetype": "text/x-python",
   "name": "python",
   "nbconvert_exporter": "python",
   "pygments_lexer": "ipython3",
   "version": "3.6.5"
  },
  "widgets": {
   "application/vnd.jupyter.widget-state+json": {
    "state": {
     "068d9d97ece24d7080988d8554a48993": {
      "model_module": "@jupyter-widgets/controls",
      "model_module_version": "1.2.0",
      "model_name": "DescriptionStyleModel",
      "state": {
       "description_width": ""
      }
     },
     "0743810a1c6441fca4d973f3b2751a14": {
      "model_module": "@jupyter-widgets/base",
      "model_module_version": "1.0.0",
      "model_name": "LayoutModel",
      "state": {}
     },
     "57b8e7b036b347749746923b34a2b555": {
      "model_module": "@jupyter-widgets/controls",
      "model_module_version": "1.2.0",
      "model_name": "TextModel",
      "state": {
       "layout": "IPY_MODEL_efd02d5aa9ec487d839cb01afe35102c",
       "style": "IPY_MODEL_068d9d97ece24d7080988d8554a48993",
       "value": "01020304"
      }
     },
     "91eeaa4bfc7f4252874ca76db3cc7524": {
      "model_module": "@jupyter-widgets/base",
      "model_module_version": "1.0.0",
      "model_name": "LayoutModel",
      "state": {}
     },
     "a0e15a8b45534eb9b3d457e71ff68843": {
      "model_module": "@jupyter-widgets/controls",
      "model_module_version": "1.2.0",
      "model_name": "DescriptionStyleModel",
      "state": {
       "description_width": ""
      }
     },
     "b2c3179f6a584831879de8f0b179dcc7": {
      "model_module": "@jupyter-widgets/controls",
      "model_module_version": "1.2.0",
      "model_name": "DescriptionStyleModel",
      "state": {
       "description_width": ""
      }
     },
     "d8542043b9b7458491d8d4f9108743dc": {
      "model_module": "@jupyter-widgets/controls",
      "model_module_version": "1.2.0",
      "model_name": "TextModel",
      "state": {
       "layout": "IPY_MODEL_0743810a1c6441fca4d973f3b2751a14",
       "style": "IPY_MODEL_b2c3179f6a584831879de8f0b179dcc7",
       "value": "AQIDBA=="
      }
     },
     "efd02d5aa9ec487d839cb01afe35102c": {
      "model_module": "@jupyter-widgets/base",
      "model_module_version": "1.0.0",
      "model_name": "LayoutModel",
      "state": {}
     },
     "fa27db31d91241fc8406702a80db393b": {
      "model_module": "@jupyter-widgets/controls",
      "model_module_version": "1.2.0",
      "model_name": "LabelModel",
      "state": {
       "layout": "IPY_MODEL_91eeaa4bfc7f4252874ca76db3cc7524",
       "style": "IPY_MODEL_a0e15a8b45534eb9b3d457e71ff68843",
       "value": "OK"
      }
     }
    },
    "version_major": 2,
    "version_minor": 0
   }
  }
 },
 "nbformat": 4,
 "nbformat_minor": 2
}
