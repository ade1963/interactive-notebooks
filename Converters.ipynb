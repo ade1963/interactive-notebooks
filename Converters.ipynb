{
 "cells": [
  {
   "cell_type": "code",
   "execution_count": 1,
   "metadata": {},
   "outputs": [],
   "source": [
    "from __future__ import print_function\n",
    "from ipywidgets import interact, interactive, fixed, interact_manual\n",
    "import ipywidgets as widgets"
   ]
  },
  {
   "cell_type": "code",
   "execution_count": 2,
   "metadata": {},
   "outputs": [],
   "source": [
    "def f(x):\n",
    "    return x"
   ]
  },
  {
   "cell_type": "code",
   "execution_count": 3,
   "metadata": {},
   "outputs": [
    {
     "data": {
      "application/vnd.jupyter.widget-view+json": {
       "model_id": "1c20f852fcf44631a4cab7220628b30e",
       "version_major": 2,
       "version_minor": 0
      },
      "text/plain": [
       "interactive(children=(Text(value='010203', description='x'), Output()), _dom_classes=('widget-interact',))"
      ]
     },
     "metadata": {},
     "output_type": "display_data"
    }
   ],
   "source": [
    "#interact(hex2base64, hex_str='010203');\n",
    "interact(f, x='010203');"
   ]
  },
  {
   "cell_type": "code",
   "execution_count": null,
   "metadata": {},
   "outputs": [],
   "source": []
  },
  {
   "cell_type": "code",
   "execution_count": null,
   "metadata": {},
   "outputs": [],
   "source": []
  }
 ],
 "metadata": {
  "kernelspec": {
   "display_name": "Python 3",
   "language": "python",
   "name": "python3"
  },
  "language_info": {
   "codemirror_mode": {
    "name": "ipython",
    "version": 3
   },
   "file_extension": ".py",
   "mimetype": "text/x-python",
   "name": "python",
   "nbconvert_exporter": "python",
   "pygments_lexer": "ipython3",
   "version": "3.6.5"
  },
  "widgets": {
   "application/vnd.jupyter.widget-state+json": {
    "state": {
     "099236e2ed334e22a2b05d5550927438": {
      "model_module": "@jupyter-widgets/controls",
      "model_module_version": "1.2.0",
      "model_name": "TextModel",
      "state": {
       "description": "x",
       "layout": "IPY_MODEL_4283785cff884d09affb3bf17351b7f4",
       "style": "IPY_MODEL_f9f62155e13846c0b52cbf6fe16d1e72",
       "value": "01020304"
      }
     },
     "183ebf34f755401eb5e9dcc0ea41d4b9": {
      "model_module": "@jupyter-widgets/controls",
      "model_module_version": "1.2.0",
      "model_name": "DescriptionStyleModel",
      "state": {
       "description_width": ""
      }
     },
     "1ba8458410e3416a9d945545fbfd6920": {
      "model_module": "@jupyter-widgets/controls",
      "model_module_version": "1.2.0",
      "model_name": "TextModel",
      "state": {
       "description": "x",
       "layout": "IPY_MODEL_423967abaa7b49d980a9c8878e224e18",
       "style": "IPY_MODEL_183ebf34f755401eb5e9dcc0ea41d4b9",
       "value": "010203"
      }
     },
     "1c20f852fcf44631a4cab7220628b30e": {
      "model_module": "@jupyter-widgets/controls",
      "model_module_version": "1.2.0",
      "model_name": "VBoxModel",
      "state": {
       "_dom_classes": [
        "widget-interact"
       ],
       "children": [
        "IPY_MODEL_099236e2ed334e22a2b05d5550927438",
        "IPY_MODEL_dca53aa436d944b2b270773af7bf34bc"
       ],
       "layout": "IPY_MODEL_c7e18f7a7b134c0fb538be5e85e0c4e6"
      }
     },
     "1c380ad87cd645738cce06faa7075c4f": {
      "model_module": "@jupyter-widgets/base",
      "model_module_version": "1.0.0",
      "model_name": "LayoutModel",
      "state": {}
     },
     "2fbf60a06e914288a7324d1408caba55": {
      "model_module": "@jupyter-widgets/output",
      "model_module_version": "1.0.0",
      "model_name": "OutputModel",
      "state": {
       "layout": "IPY_MODEL_a5f96ea6f8534b1183cd0298d8eb1354",
       "outputs": [
        {
         "data": {
          "text/plain": "'010203'"
         },
         "metadata": {},
         "output_type": "display_data"
        }
       ]
      }
     },
     "423967abaa7b49d980a9c8878e224e18": {
      "model_module": "@jupyter-widgets/base",
      "model_module_version": "1.0.0",
      "model_name": "LayoutModel",
      "state": {}
     },
     "4283785cff884d09affb3bf17351b7f4": {
      "model_module": "@jupyter-widgets/base",
      "model_module_version": "1.0.0",
      "model_name": "LayoutModel",
      "state": {}
     },
     "5c9890db51e0468b932e624fd38fb6ec": {
      "model_module": "@jupyter-widgets/base",
      "model_module_version": "1.0.0",
      "model_name": "LayoutModel",
      "state": {}
     },
     "a5f96ea6f8534b1183cd0298d8eb1354": {
      "model_module": "@jupyter-widgets/base",
      "model_module_version": "1.0.0",
      "model_name": "LayoutModel",
      "state": {}
     },
     "b9e6009f606a4c7f989a9ae6867e4827": {
      "model_module": "@jupyter-widgets/controls",
      "model_module_version": "1.2.0",
      "model_name": "VBoxModel",
      "state": {
       "_dom_classes": [
        "widget-interact"
       ],
       "children": [
        "IPY_MODEL_1ba8458410e3416a9d945545fbfd6920",
        "IPY_MODEL_2fbf60a06e914288a7324d1408caba55"
       ],
       "layout": "IPY_MODEL_5c9890db51e0468b932e624fd38fb6ec"
      }
     },
     "c7e18f7a7b134c0fb538be5e85e0c4e6": {
      "model_module": "@jupyter-widgets/base",
      "model_module_version": "1.0.0",
      "model_name": "LayoutModel",
      "state": {}
     },
     "dca53aa436d944b2b270773af7bf34bc": {
      "model_module": "@jupyter-widgets/output",
      "model_module_version": "1.0.0",
      "model_name": "OutputModel",
      "state": {
       "layout": "IPY_MODEL_1c380ad87cd645738cce06faa7075c4f",
       "outputs": [
        {
         "data": {
          "text/plain": "'01020304'"
         },
         "metadata": {},
         "output_type": "display_data"
        }
       ]
      }
     },
     "f9f62155e13846c0b52cbf6fe16d1e72": {
      "model_module": "@jupyter-widgets/controls",
      "model_module_version": "1.2.0",
      "model_name": "DescriptionStyleModel",
      "state": {
       "description_width": ""
      }
     }
    },
    "version_major": 2,
    "version_minor": 0
   }
  }
 },
 "nbformat": 4,
 "nbformat_minor": 2
}
