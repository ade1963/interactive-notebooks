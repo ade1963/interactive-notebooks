{
 "cells": [
  {
   "cell_type": "code",
   "execution_count": 1,
   "metadata": {},
   "outputs": [],
   "source": [
    "from __future__ import print_function\n",
    "from ipywidgets import interact, interactive, fixed, interact_manual\n",
    "import ipywidgets as widgets"
   ]
  },
  {
   "cell_type": "code",
   "execution_count": 2,
   "metadata": {},
   "outputs": [],
   "source": [
    "import codecs\n",
    "def hex2base64(hex_str):\n",
    "    err='OK'\n",
    "    b64_str=''\n",
    "    try: \n",
    "        b64_str = codecs.encode(codecs.decode(hex_str, 'hex'), 'base64').decode()\n",
    "    except:\n",
    "        err = 'Error, hex string contains only numbers'\n",
    "    return b64_str.strip(), err "
   ]
  },
  {
   "cell_type": "code",
   "execution_count": 3,
   "metadata": {},
   "outputs": [
    {
     "data": {
      "application/vnd.jupyter.widget-view+json": {
       "model_id": "f13102f53d444cb69da0f7211b6b9227",
       "version_major": 2,
       "version_minor": 0
      },
      "text/plain": [
       "interactive(children=(Text(value='010203', description='hex_str'), Output()), _dom_classes=('widget-interact',…"
      ]
     },
     "metadata": {},
     "output_type": "display_data"
    }
   ],
   "source": [
    "interact(hex2base64, hex_str='010203');"
   ]
  },
  {
   "cell_type": "code",
   "execution_count": 4,
   "metadata": {},
   "outputs": [
    {
     "data": {
      "text/plain": [
       "'\\nimport plotly\\nfrom plotly.graph_objs import graph_objs as go\\nfrom IPython.html.widgets import interact\\n\\nplotly.offline.init_notebook_mode()\\nfrom plotly.offline import iplot\\ndef view_image(w):\\n    x_data = [1,2,3]\\n    x1 = [i+w for i in x_data]\\n    fig1 = go.Scatter(x=x1,y=[4,5,6])\\n    fig2 = go.Scatter(x=x_data,y=[4,5,6])\\n    iplot([fig1,fig2])\\ninteract(view_image, w=(0,100))\\n'"
      ]
     },
     "execution_count": 4,
     "metadata": {},
     "output_type": "execute_result"
    }
   ],
   "source": [
    "\"\"\"\n",
    "import plotly\n",
    "from plotly.graph_objs import graph_objs as go\n",
    "from IPython.html.widgets import interact\n",
    "\n",
    "plotly.offline.init_notebook_mode()\n",
    "from plotly.offline import iplot\n",
    "def view_image(w):\n",
    "    x_data = [1,2,3]\n",
    "    x1 = [i+w for i in x_data]\n",
    "    fig1 = go.Scatter(x=x1,y=[4,5,6])\n",
    "    fig2 = go.Scatter(x=x_data,y=[4,5,6])\n",
    "    iplot([fig1,fig2])\n",
    "interact(view_image, w=(0,100))\n",
    "\"\"\""
   ]
  },
  {
   "cell_type": "code",
   "execution_count": null,
   "metadata": {},
   "outputs": [],
   "source": []
  }
 ],
 "metadata": {
  "kernelspec": {
   "display_name": "Python 3",
   "language": "python",
   "name": "python3"
  },
  "language_info": {
   "codemirror_mode": {
    "name": "ipython",
    "version": 3
   },
   "file_extension": ".py",
   "mimetype": "text/x-python",
   "name": "python",
   "nbconvert_exporter": "python",
   "pygments_lexer": "ipython3",
   "version": "3.6.5"
  },
  "widgets": {
   "application/vnd.jupyter.widget-state+json": {
    "state": {
     "0493e421f84d463aba94386db3ca4009": {
      "model_module": "@jupyter-widgets/controls",
      "model_module_version": "1.2.0",
      "model_name": "VBoxModel",
      "state": {
       "_dom_classes": [
        "widget-interact"
       ],
       "children": [
        "IPY_MODEL_1f0a58a60fe34a3a9a51c5a077553925",
        "IPY_MODEL_2d2a9b9619dd4903beb466e2c6869d33"
       ],
       "layout": "IPY_MODEL_51fb12329e4d447984b7327239e70273"
      }
     },
     "06775820fe2d4fe2b13b76bc95c0068e": {
      "model_module": "@jupyter-widgets/base",
      "model_module_version": "1.0.0",
      "model_name": "LayoutModel",
      "state": {}
     },
     "08c5929d9b244a2d9500ebb5da40d997": {
      "model_module": "@jupyter-widgets/base",
      "model_module_version": "1.0.0",
      "model_name": "LayoutModel",
      "state": {}
     },
     "09428a842ddd4d1782c8363bf4f8b38f": {
      "model_module": "@jupyter-widgets/controls",
      "model_module_version": "1.2.0",
      "model_name": "VBoxModel",
      "state": {
       "_dom_classes": [
        "widget-interact"
       ],
       "children": [
        "IPY_MODEL_4b755d5d974c4a5fbb42ee6f8438c456",
        "IPY_MODEL_a5e7d7d265894538a49192aa4d7a78ab"
       ],
       "layout": "IPY_MODEL_ec0b76b01ca54676a18e5b7f468b9fec"
      }
     },
     "0a1a109ab5694e0bb880bf0485c51337": {
      "model_module": "@jupyter-widgets/output",
      "model_module_version": "1.0.0",
      "model_name": "OutputModel",
      "state": {
       "layout": "IPY_MODEL_4effe752ead946e0b60a94236d8d4bd6",
       "outputs": [
        {
         "data": {
          "text/plain": "('AQID', 'OK')"
         },
         "metadata": {},
         "output_type": "display_data"
        }
       ]
      }
     },
     "0a5e5efb77b14b3089e8de186903d9c2": {
      "model_module": "@jupyter-widgets/base",
      "model_module_version": "1.0.0",
      "model_name": "LayoutModel",
      "state": {}
     },
     "0cfc4a56c4394d75bf4f5b8632f074c4": {
      "model_module": "@jupyter-widgets/base",
      "model_module_version": "1.0.0",
      "model_name": "LayoutModel",
      "state": {}
     },
     "0de69e91acd94206a85c04aa75be95de": {
      "model_module": "@jupyter-widgets/base",
      "model_module_version": "1.0.0",
      "model_name": "LayoutModel",
      "state": {}
     },
     "0f5b03b2bbe2427ebdacd3b5fe1311ef": {
      "model_module": "@jupyter-widgets/base",
      "model_module_version": "1.0.0",
      "model_name": "LayoutModel",
      "state": {}
     },
     "1041c3845b80403fb2455c5973770766": {
      "model_module": "@jupyter-widgets/output",
      "model_module_version": "1.0.0",
      "model_name": "OutputModel",
      "state": {
       "layout": "IPY_MODEL_e2e5d921834c44c597d9dd5f88b49053",
       "outputs": [
        {
         "data": {
          "text/plain": "10"
         },
         "metadata": {},
         "output_type": "display_data"
        }
       ]
      }
     },
     "1258bba6792d4898951edddff87c3aa8": {
      "model_module": "@jupyter-widgets/controls",
      "model_module_version": "1.2.0",
      "model_name": "TextModel",
      "state": {
       "description": "hex_str",
       "layout": "IPY_MODEL_0a5e5efb77b14b3089e8de186903d9c2",
       "style": "IPY_MODEL_3a4c96d5d7044c699f6c5d5ab87925e3",
       "value": "010203"
      }
     },
     "14cfa89e768144f982a9147fdf46eeee": {
      "model_module": "@jupyter-widgets/base",
      "model_module_version": "1.0.0",
      "model_name": "LayoutModel",
      "state": {}
     },
     "14db77ff98134fdda172d141a98978c0": {
      "model_module": "@jupyter-widgets/controls",
      "model_module_version": "1.2.0",
      "model_name": "TextModel",
      "state": {
       "description": "hex_str",
       "layout": "IPY_MODEL_0cfc4a56c4394d75bf4f5b8632f074c4",
       "style": "IPY_MODEL_7f06accd2704471a8fd5631a673f8477",
       "value": "010203040506000000"
      }
     },
     "14df481b7ddd4ff98ed2fd35791654ab": {
      "model_module": "@jupyter-widgets/base",
      "model_module_version": "1.0.0",
      "model_name": "LayoutModel",
      "state": {}
     },
     "1779726714d54178ac555cbfd8f95a5e": {
      "model_module": "@jupyter-widgets/controls",
      "model_module_version": "1.2.0",
      "model_name": "VBoxModel",
      "state": {
       "_dom_classes": [
        "widget-interact"
       ],
       "children": [
        "IPY_MODEL_71951afd48cd446c83da2a4f4a7ebdb4",
        "IPY_MODEL_611453d52afb40f5928a3ead3779704a"
       ],
       "layout": "IPY_MODEL_2a1588ba37d544c4aad3453947de01f6"
      }
     },
     "1f0a58a60fe34a3a9a51c5a077553925": {
      "model_module": "@jupyter-widgets/controls",
      "model_module_version": "1.2.0",
      "model_name": "TextModel",
      "state": {
       "description": "hex_str",
       "layout": "IPY_MODEL_62a79a6e4ee74e38bc85dbf62db7b68f",
       "style": "IPY_MODEL_8ae63815871d4160934713676f4a3074",
       "value": "010203"
      }
     },
     "207227c585ae4b43a2cfd4d1fc351eaf": {
      "model_module": "@jupyter-widgets/base",
      "model_module_version": "1.0.0",
      "model_name": "LayoutModel",
      "state": {}
     },
     "211ba74b79b349daa01aac8801d33d5b": {
      "model_module": "@jupyter-widgets/base",
      "model_module_version": "1.0.0",
      "model_name": "LayoutModel",
      "state": {}
     },
     "27677f657a1a4f7f8dbe8e7c5f415d5e": {
      "model_module": "@jupyter-widgets/output",
      "model_module_version": "1.0.0",
      "model_name": "OutputModel",
      "state": {
       "layout": "IPY_MODEL_f12ba38709f64f0595d6ad43bec5105b",
       "outputs": [
        {
         "data": {
          "text/plain": "'wwweee'"
         },
         "metadata": {},
         "output_type": "display_data"
        }
       ]
      }
     },
     "286113fb95d445d4ac109aa07bada887": {
      "model_module": "@jupyter-widgets/output",
      "model_module_version": "1.0.0",
      "model_name": "OutputModel",
      "state": {
       "layout": "IPY_MODEL_b14372280fce4ba3bbf931f10d66b743",
       "outputs": [
        {
         "data": {
          "text/plain": "2"
         },
         "metadata": {},
         "output_type": "display_data"
        }
       ]
      }
     },
     "2a1588ba37d544c4aad3453947de01f6": {
      "model_module": "@jupyter-widgets/base",
      "model_module_version": "1.0.0",
      "model_name": "LayoutModel",
      "state": {}
     },
     "2b54dcf50510411a9bc3bdffe163305c": {
      "model_module": "@jupyter-widgets/base",
      "model_module_version": "1.0.0",
      "model_name": "LayoutModel",
      "state": {}
     },
     "2c4b8bdce86f4c5b9971bc16faaccbe3": {
      "model_module": "@jupyter-widgets/output",
      "model_module_version": "1.0.0",
      "model_name": "OutputModel",
      "state": {
       "layout": "IPY_MODEL_a21aa68915634e32b5642d42cfc7f5d9",
       "outputs": [
        {
         "data": {
          "text/plain": "('AQID', 'OK')"
         },
         "metadata": {},
         "output_type": "display_data"
        }
       ]
      }
     },
     "2c99b1f9023e40f2bc4e7baeb9348295": {
      "model_module": "@jupyter-widgets/base",
      "model_module_version": "1.0.0",
      "model_name": "LayoutModel",
      "state": {}
     },
     "2d2a9b9619dd4903beb466e2c6869d33": {
      "model_module": "@jupyter-widgets/output",
      "model_module_version": "1.0.0",
      "model_name": "OutputModel",
      "state": {
       "layout": "IPY_MODEL_626f7b23f7a242bb8567c51402cc412f",
       "outputs": [
        {
         "data": {
          "text/plain": "('AQID', 'OK')"
         },
         "metadata": {},
         "output_type": "display_data"
        }
       ]
      }
     },
     "2d4e6538dfd743aeb2a047dcd94a09c2": {
      "model_module": "@jupyter-widgets/controls",
      "model_module_version": "1.2.0",
      "model_name": "VBoxModel",
      "state": {
       "_dom_classes": [
        "widget-interact"
       ],
       "children": [
        "IPY_MODEL_5f3a4301b381427190103f9c5234d05f",
        "IPY_MODEL_27677f657a1a4f7f8dbe8e7c5f415d5e"
       ],
       "layout": "IPY_MODEL_dc12eb1955cf42e58a95e51632b8913d"
      }
     },
     "31c299f49d5c4defa14198f870f80e3b": {
      "model_module": "@jupyter-widgets/output",
      "model_module_version": "1.0.0",
      "model_name": "OutputModel",
      "state": {
       "layout": "IPY_MODEL_a055ee30bb984a5fa2db737b49178438",
       "outputs": [
        {
         "data": {
          "text/plain": "'www'"
         },
         "metadata": {},
         "output_type": "display_data"
        }
       ]
      }
     },
     "34f2a2ef570940f796be5245dac3b26f": {
      "model_module": "@jupyter-widgets/base",
      "model_module_version": "1.0.0",
      "model_name": "LayoutModel",
      "state": {}
     },
     "366888c3b16648e980d11a270dfcbe1c": {
      "model_module": "@jupyter-widgets/controls",
      "model_module_version": "1.2.0",
      "model_name": "TextModel",
      "state": {
       "description": "hex_str",
       "layout": "IPY_MODEL_4d5be9b22150421886681611cf55fbaf",
       "style": "IPY_MODEL_6bf3b20b611b4ac49259f349d479344a",
       "value": "010203"
      }
     },
     "3862201806dc4257a673c8a8925fccf3": {
      "model_module": "@jupyter-widgets/controls",
      "model_module_version": "1.2.0",
      "model_name": "TextModel",
      "state": {
       "description": "hex_str",
       "layout": "IPY_MODEL_abd8f20b348449b19182441851829c48",
       "style": "IPY_MODEL_6c1d60b51f14495c89221d5d52fcdfc5",
       "value": "010203888"
      }
     },
     "39ca320fb8174587b3173fa9c985d35c": {
      "model_module": "@jupyter-widgets/controls",
      "model_module_version": "1.2.0",
      "model_name": "VBoxModel",
      "state": {
       "_dom_classes": [
        "widget-interact"
       ],
       "children": [
        "IPY_MODEL_74d52e96c478479aa701c0e0c3851797",
        "IPY_MODEL_acc358df843e4809a7756abfa0ab9788"
       ],
       "layout": "IPY_MODEL_82fe2373f6ce4dd89a258bb790bf2e4f"
      }
     },
     "39d05129922442e3a98cc93f78168ad2": {
      "model_module": "@jupyter-widgets/base",
      "model_module_version": "1.0.0",
      "model_name": "LayoutModel",
      "state": {}
     },
     "3a4c96d5d7044c699f6c5d5ab87925e3": {
      "model_module": "@jupyter-widgets/controls",
      "model_module_version": "1.2.0",
      "model_name": "DescriptionStyleModel",
      "state": {
       "description_width": ""
      }
     },
     "3d82b7b6c48d40beb2638e23411e216f": {
      "model_module": "@jupyter-widgets/controls",
      "model_module_version": "1.2.0",
      "model_name": "VBoxModel",
      "state": {
       "_dom_classes": [
        "widget-interact"
       ],
       "children": [
        "IPY_MODEL_3862201806dc4257a673c8a8925fccf3",
        "IPY_MODEL_420eccf00c574b50a636fadedd597177"
       ],
       "layout": "IPY_MODEL_aa3a774215f54d6f9fa06782b1936eca"
      }
     },
     "3db27e1804a74bbb989bc22307126bf9": {
      "model_module": "@jupyter-widgets/controls",
      "model_module_version": "1.2.0",
      "model_name": "VBoxModel",
      "state": {
       "_dom_classes": [
        "widget-interact"
       ],
       "children": [
        "IPY_MODEL_59d2386c370543c78a4d55bf2d0c4526",
        "IPY_MODEL_d771f00f205b4a229731f4ad42d934f7"
       ],
       "layout": "IPY_MODEL_e35feea5bdcf4692b391aeb8b41d8426"
      }
     },
     "3f7a83a1c5ff429082679334fe442a42": {
      "model_module": "@jupyter-widgets/base",
      "model_module_version": "1.0.0",
      "model_name": "LayoutModel",
      "state": {}
     },
     "40b564ce05c0449b8880bba9e1868167": {
      "model_module": "@jupyter-widgets/controls",
      "model_module_version": "1.2.0",
      "model_name": "TextModel",
      "state": {
       "description": "hex_str",
       "layout": "IPY_MODEL_6b108dd359ea4d00b70f112a611c2786",
       "style": "IPY_MODEL_91ddf039cda146d1aaa8a841285984bb",
       "value": "01020304"
      }
     },
     "420eccf00c574b50a636fadedd597177": {
      "model_module": "@jupyter-widgets/output",
      "model_module_version": "1.0.0",
      "model_name": "OutputModel",
      "state": {
       "layout": "IPY_MODEL_641965f721bc43509fbdc08567cb414c",
       "outputs": [
        {
         "ename": "UnboundLocalError",
         "evalue": "local variable 'b64_str' referenced before assignment",
         "output_type": "error",
         "traceback": [
          "\u001b[1;31m---------------------------------------------------------------------------\u001b[0m",
          "\u001b[1;31mUnboundLocalError\u001b[0m                         Traceback (most recent call last)",
          "\u001b[1;32mC:\\Anaconda3\\lib\\site-packages\\ipywidgets\\widgets\\interaction.py\u001b[0m in \u001b[0;36mupdate\u001b[1;34m(self, *args)\u001b[0m\n\u001b[0;32m    249\u001b[0m                     \u001b[0mvalue\u001b[0m \u001b[1;33m=\u001b[0m \u001b[0mwidget\u001b[0m\u001b[1;33m.\u001b[0m\u001b[0mget_interact_value\u001b[0m\u001b[1;33m(\u001b[0m\u001b[1;33m)\u001b[0m\u001b[1;33m\u001b[0m\u001b[0m\n\u001b[0;32m    250\u001b[0m                     \u001b[0mself\u001b[0m\u001b[1;33m.\u001b[0m\u001b[0mkwargs\u001b[0m\u001b[1;33m[\u001b[0m\u001b[0mwidget\u001b[0m\u001b[1;33m.\u001b[0m\u001b[0m_kwarg\u001b[0m\u001b[1;33m]\u001b[0m \u001b[1;33m=\u001b[0m \u001b[0mvalue\u001b[0m\u001b[1;33m\u001b[0m\u001b[0m\n\u001b[1;32m--> 251\u001b[1;33m                 \u001b[0mself\u001b[0m\u001b[1;33m.\u001b[0m\u001b[0mresult\u001b[0m \u001b[1;33m=\u001b[0m \u001b[0mself\u001b[0m\u001b[1;33m.\u001b[0m\u001b[0mf\u001b[0m\u001b[1;33m(\u001b[0m\u001b[1;33m**\u001b[0m\u001b[0mself\u001b[0m\u001b[1;33m.\u001b[0m\u001b[0mkwargs\u001b[0m\u001b[1;33m)\u001b[0m\u001b[1;33m\u001b[0m\u001b[0m\n\u001b[0m\u001b[0;32m    252\u001b[0m                 \u001b[0mshow_inline_matplotlib_plots\u001b[0m\u001b[1;33m(\u001b[0m\u001b[1;33m)\u001b[0m\u001b[1;33m\u001b[0m\u001b[0m\n\u001b[0;32m    253\u001b[0m                 \u001b[1;32mif\u001b[0m \u001b[0mself\u001b[0m\u001b[1;33m.\u001b[0m\u001b[0mauto_display\u001b[0m \u001b[1;32mand\u001b[0m \u001b[0mself\u001b[0m\u001b[1;33m.\u001b[0m\u001b[0mresult\u001b[0m \u001b[1;32mis\u001b[0m \u001b[1;32mnot\u001b[0m \u001b[1;32mNone\u001b[0m\u001b[1;33m:\u001b[0m\u001b[1;33m\u001b[0m\u001b[0m\n",
          "\u001b[1;32m<ipython-input-30-e3e88b9a28c2>\u001b[0m in \u001b[0;36mhex2base64\u001b[1;34m(hex_str)\u001b[0m\n\u001b[0;32m      6\u001b[0m     \u001b[1;32mexcept\u001b[0m\u001b[1;33m:\u001b[0m\u001b[1;33m\u001b[0m\u001b[0m\n\u001b[0;32m      7\u001b[0m         \u001b[0merror\u001b[0m \u001b[1;33m=\u001b[0m \u001b[1;34m'Error, hex string contains only numbers'\u001b[0m\u001b[1;33m\u001b[0m\u001b[0m\n\u001b[1;32m----> 8\u001b[1;33m     \u001b[1;32mreturn\u001b[0m \u001b[0mb64_str\u001b[0m\u001b[1;33m,\u001b[0m \u001b[0merr\u001b[0m\u001b[1;33m\u001b[0m\u001b[0m\n\u001b[0m",
          "\u001b[1;31mUnboundLocalError\u001b[0m: local variable 'b64_str' referenced before assignment"
         ]
        }
       ]
      }
     },
     "42cf6089c207480188425fe0886470a4": {
      "model_module": "@jupyter-widgets/base",
      "model_module_version": "1.0.0",
      "model_name": "LayoutModel",
      "state": {}
     },
     "4480379e8fd742a8907022ace6c9412a": {
      "model_module": "@jupyter-widgets/controls",
      "model_module_version": "1.2.0",
      "model_name": "DescriptionStyleModel",
      "state": {
       "description_width": ""
      }
     },
     "49263ae2f6c746fbbb5317715d26a541": {
      "model_module": "@jupyter-widgets/controls",
      "model_module_version": "1.2.0",
      "model_name": "SliderStyleModel",
      "state": {
       "description_width": ""
      }
     },
     "4b755d5d974c4a5fbb42ee6f8438c456": {
      "model_module": "@jupyter-widgets/controls",
      "model_module_version": "1.2.0",
      "model_name": "TextModel",
      "state": {
       "description": "hex_str",
       "layout": "IPY_MODEL_2b54dcf50510411a9bc3bdffe163305c",
       "style": "IPY_MODEL_6c41bcfe622347579f55967bffb39e7d",
       "value": "0102039"
      }
     },
     "4d5be9b22150421886681611cf55fbaf": {
      "model_module": "@jupyter-widgets/base",
      "model_module_version": "1.0.0",
      "model_name": "LayoutModel",
      "state": {}
     },
     "4ddf59d44d6b4690ab740f591bf62c91": {
      "model_module": "@jupyter-widgets/output",
      "model_module_version": "1.0.0",
      "model_name": "OutputModel",
      "state": {
       "layout": "IPY_MODEL_0f5b03b2bbe2427ebdacd3b5fe1311ef",
       "outputs": [
        {
         "data": {
          "text/plain": "('AQID', 'OK')"
         },
         "metadata": {},
         "output_type": "display_data"
        }
       ]
      }
     },
     "4effe752ead946e0b60a94236d8d4bd6": {
      "model_module": "@jupyter-widgets/base",
      "model_module_version": "1.0.0",
      "model_name": "LayoutModel",
      "state": {}
     },
     "51fb12329e4d447984b7327239e70273": {
      "model_module": "@jupyter-widgets/base",
      "model_module_version": "1.0.0",
      "model_name": "LayoutModel",
      "state": {}
     },
     "52aab67a058d4f4ab67d4f810a4d8a6c": {
      "model_module": "@jupyter-widgets/base",
      "model_module_version": "1.0.0",
      "model_name": "LayoutModel",
      "state": {}
     },
     "534f3d72fc79441eae7744cebad759f0": {
      "model_module": "@jupyter-widgets/base",
      "model_module_version": "1.0.0",
      "model_name": "LayoutModel",
      "state": {}
     },
     "55459cbfa176429e8299841bca66955a": {
      "model_module": "@jupyter-widgets/base",
      "model_module_version": "1.0.0",
      "model_name": "LayoutModel",
      "state": {}
     },
     "5579fce2ffe64067bbdd0991d5eb6882": {
      "model_module": "@jupyter-widgets/base",
      "model_module_version": "1.0.0",
      "model_name": "LayoutModel",
      "state": {}
     },
     "59d2386c370543c78a4d55bf2d0c4526": {
      "model_module": "@jupyter-widgets/controls",
      "model_module_version": "1.2.0",
      "model_name": "TextModel",
      "state": {
       "description": "x",
       "layout": "IPY_MODEL_e04992a55e104bb2a9eccc3ee5ada11a",
       "style": "IPY_MODEL_a2e110df56334353a6b4921b1364545d",
       "value": "0000"
      }
     },
     "59fc9666e48c4b338548146bec620bab": {
      "model_module": "@jupyter-widgets/output",
      "model_module_version": "1.0.0",
      "model_name": "OutputModel",
      "state": {
       "layout": "IPY_MODEL_f3587168f8bd47c2baa8eebae201a68d",
       "outputs": [
        {
         "data": {
          "text/plain": "'AQIDBAUGAAAA\\n'"
         },
         "metadata": {},
         "output_type": "display_data"
        }
       ]
      }
     },
     "5f3a4301b381427190103f9c5234d05f": {
      "model_module": "@jupyter-widgets/controls",
      "model_module_version": "1.2.0",
      "model_name": "TextModel",
      "state": {
       "description": "x",
       "layout": "IPY_MODEL_2c99b1f9023e40f2bc4e7baeb9348295",
       "style": "IPY_MODEL_617bbbfccbc54b0face74a19aab16031",
       "value": "wwweee"
      }
     },
     "61104725518e4ee1bdeaebd702378834": {
      "model_module": "@jupyter-widgets/controls",
      "model_module_version": "1.2.0",
      "model_name": "VBoxModel",
      "state": {
       "_dom_classes": [
        "widget-interact"
       ],
       "layout": "IPY_MODEL_65dd56d880f443599848f009e4308cb6"
      }
     },
     "611453d52afb40f5928a3ead3779704a": {
      "model_module": "@jupyter-widgets/output",
      "model_module_version": "1.0.0",
      "model_name": "OutputModel",
      "state": {
       "layout": "IPY_MODEL_0de69e91acd94206a85c04aa75be95de",
       "outputs": [
        {
         "data": {
          "text/plain": "('AQID', 'OK')"
         },
         "metadata": {},
         "output_type": "display_data"
        }
       ]
      }
     },
     "617bbbfccbc54b0face74a19aab16031": {
      "model_module": "@jupyter-widgets/controls",
      "model_module_version": "1.2.0",
      "model_name": "DescriptionStyleModel",
      "state": {
       "description_width": ""
      }
     },
     "626f7b23f7a242bb8567c51402cc412f": {
      "model_module": "@jupyter-widgets/base",
      "model_module_version": "1.0.0",
      "model_name": "LayoutModel",
      "state": {}
     },
     "62a79a6e4ee74e38bc85dbf62db7b68f": {
      "model_module": "@jupyter-widgets/base",
      "model_module_version": "1.0.0",
      "model_name": "LayoutModel",
      "state": {}
     },
     "641965f721bc43509fbdc08567cb414c": {
      "model_module": "@jupyter-widgets/base",
      "model_module_version": "1.0.0",
      "model_name": "LayoutModel",
      "state": {}
     },
     "6515be2052a247ae91b979b71a992a64": {
      "model_module": "@jupyter-widgets/base",
      "model_module_version": "1.0.0",
      "model_name": "LayoutModel",
      "state": {}
     },
     "65410917b0124155a88e1fccc06f1c9e": {
      "model_module": "@jupyter-widgets/controls",
      "model_module_version": "1.2.0",
      "model_name": "VBoxModel",
      "state": {
       "_dom_classes": [
        "widget-interact"
       ],
       "children": [
        "IPY_MODEL_366888c3b16648e980d11a270dfcbe1c",
        "IPY_MODEL_4ddf59d44d6b4690ab740f591bf62c91"
       ],
       "layout": "IPY_MODEL_efae44c085aa40ab8d7cf091e6a67946"
      }
     },
     "65dd56d880f443599848f009e4308cb6": {
      "model_module": "@jupyter-widgets/base",
      "model_module_version": "1.0.0",
      "model_name": "LayoutModel",
      "state": {}
     },
     "68676f5036a7440ba37e25a22bef8883": {
      "model_module": "@jupyter-widgets/output",
      "model_module_version": "1.0.0",
      "model_name": "OutputModel",
      "state": {
       "layout": "IPY_MODEL_5579fce2ffe64067bbdd0991d5eb6882",
       "outputs": [
        {
         "data": {
          "text/plain": "('AQIDBA==', 'OK')"
         },
         "metadata": {},
         "output_type": "display_data"
        }
       ]
      }
     },
     "6b108dd359ea4d00b70f112a611c2786": {
      "model_module": "@jupyter-widgets/base",
      "model_module_version": "1.0.0",
      "model_name": "LayoutModel",
      "state": {}
     },
     "6b80a54acd894ab889b4056d348772fe": {
      "model_module": "@jupyter-widgets/controls",
      "model_module_version": "1.2.0",
      "model_name": "VBoxModel",
      "state": {
       "_dom_classes": [
        "widget-interact"
       ],
       "children": [
        "IPY_MODEL_7ac516889acd4a9cbe0654495edb2098",
        "IPY_MODEL_ed299d694d9240748726f99c02069b42"
       ],
       "layout": "IPY_MODEL_3f7a83a1c5ff429082679334fe442a42"
      }
     },
     "6bc1f6ed011d4004a440e136acab5e5e": {
      "model_module": "@jupyter-widgets/controls",
      "model_module_version": "1.2.0",
      "model_name": "DescriptionStyleModel",
      "state": {
       "description_width": ""
      }
     },
     "6bf3b20b611b4ac49259f349d479344a": {
      "model_module": "@jupyter-widgets/controls",
      "model_module_version": "1.2.0",
      "model_name": "DescriptionStyleModel",
      "state": {
       "description_width": ""
      }
     },
     "6c1d60b51f14495c89221d5d52fcdfc5": {
      "model_module": "@jupyter-widgets/controls",
      "model_module_version": "1.2.0",
      "model_name": "DescriptionStyleModel",
      "state": {
       "description_width": ""
      }
     },
     "6c41bcfe622347579f55967bffb39e7d": {
      "model_module": "@jupyter-widgets/controls",
      "model_module_version": "1.2.0",
      "model_name": "DescriptionStyleModel",
      "state": {
       "description_width": ""
      }
     },
     "71951afd48cd446c83da2a4f4a7ebdb4": {
      "model_module": "@jupyter-widgets/controls",
      "model_module_version": "1.2.0",
      "model_name": "TextModel",
      "state": {
       "description": "hex_str",
       "layout": "IPY_MODEL_96afb76ad2394e2c99c0b09b4cc3f2a3",
       "style": "IPY_MODEL_9e905940119b4cd79c766d2841bd2eec",
       "value": "010203"
      }
     },
     "732615c99b3345b0b4dca76b42307193": {
      "model_module": "@jupyter-widgets/base",
      "model_module_version": "1.0.0",
      "model_name": "LayoutModel",
      "state": {}
     },
     "74d52e96c478479aa701c0e0c3851797": {
      "model_module": "@jupyter-widgets/controls",
      "model_module_version": "1.2.0",
      "model_name": "TextModel",
      "state": {
       "description": "hex_str",
       "layout": "IPY_MODEL_f3fe62355d544210b2288b259e969ee0",
       "style": "IPY_MODEL_6bc1f6ed011d4004a440e136acab5e5e",
       "value": "010203"
      }
     },
     "7525702c42454caa8ffbe0232a88f477": {
      "model_module": "@jupyter-widgets/base",
      "model_module_version": "1.0.0",
      "model_name": "LayoutModel",
      "state": {}
     },
     "77e7ebbcc52047689ca9607276125353": {
      "model_module": "@jupyter-widgets/controls",
      "model_module_version": "1.2.0",
      "model_name": "IntSliderModel",
      "state": {
       "description": "x",
       "layout": "IPY_MODEL_bfb6cbcd06e44a38b98d08241a99ac96",
       "max": 3,
       "min": -1,
       "style": "IPY_MODEL_877688d79e244083aabbec9ec4e50964",
       "value": 2
      }
     },
     "7805a0fd15f548d0a8f8c2fd5ab69384": {
      "model_module": "@jupyter-widgets/controls",
      "model_module_version": "1.2.0",
      "model_name": "DescriptionStyleModel",
      "state": {
       "description_width": ""
      }
     },
     "78aff075f767490b9ca7e05723bce0ce": {
      "model_module": "@jupyter-widgets/controls",
      "model_module_version": "1.2.0",
      "model_name": "VBoxModel",
      "state": {
       "_dom_classes": [
        "widget-interact"
       ],
       "children": [
        "IPY_MODEL_14db77ff98134fdda172d141a98978c0",
        "IPY_MODEL_59fc9666e48c4b338548146bec620bab"
       ],
       "layout": "IPY_MODEL_f18e756682b24605ac266c281621a914"
      }
     },
     "793146fcaea048759fd21f63d90c9ff4": {
      "model_module": "@jupyter-widgets/controls",
      "model_module_version": "1.2.0",
      "model_name": "IntSliderModel",
      "state": {
       "description": "x",
       "layout": "IPY_MODEL_e3fc0de931f142ff915b5915f0fe4a57",
       "max": 30,
       "min": -10,
       "style": "IPY_MODEL_bdcac8e3173249279f66a11b658a93af",
       "value": 8
      }
     },
     "7ac516889acd4a9cbe0654495edb2098": {
      "model_module": "@jupyter-widgets/controls",
      "model_module_version": "1.2.0",
      "model_name": "TextModel",
      "state": {
       "description": "hex_str",
       "layout": "IPY_MODEL_207227c585ae4b43a2cfd4d1fc351eaf",
       "style": "IPY_MODEL_ef18e401d5144194aeaadb1b15e4fb7b",
       "value": "33"
      }
     },
     "7c98cc10f8f44251aa4a7b9159bbfea0": {
      "model_module": "@jupyter-widgets/output",
      "model_module_version": "1.0.0",
      "model_name": "OutputModel",
      "state": {
       "layout": "IPY_MODEL_06775820fe2d4fe2b13b76bc95c0068e",
       "outputs": [
        {
         "data": {
          "text/plain": "('AQIDBA==', 'OK')"
         },
         "metadata": {},
         "output_type": "display_data"
        }
       ]
      }
     },
     "7f06accd2704471a8fd5631a673f8477": {
      "model_module": "@jupyter-widgets/controls",
      "model_module_version": "1.2.0",
      "model_name": "DescriptionStyleModel",
      "state": {
       "description_width": ""
      }
     },
     "7f9708bd2bbd4b4f97937c6d4c089d83": {
      "model_module": "@jupyter-widgets/base",
      "model_module_version": "1.0.0",
      "model_name": "LayoutModel",
      "state": {}
     },
     "7f98a4f3fb194d99a3e92df33c947201": {
      "model_module": "@jupyter-widgets/controls",
      "model_module_version": "1.2.0",
      "model_name": "TextModel",
      "state": {
       "description": "hex_str",
       "layout": "IPY_MODEL_732615c99b3345b0b4dca76b42307193",
       "style": "IPY_MODEL_adc816e94a1d4f2baa714f89e55a398a",
       "value": "010203"
      }
     },
     "82fe2373f6ce4dd89a258bb790bf2e4f": {
      "model_module": "@jupyter-widgets/base",
      "model_module_version": "1.0.0",
      "model_name": "LayoutModel",
      "state": {}
     },
     "877688d79e244083aabbec9ec4e50964": {
      "model_module": "@jupyter-widgets/controls",
      "model_module_version": "1.2.0",
      "model_name": "SliderStyleModel",
      "state": {
       "description_width": ""
      }
     },
     "87e195fb55454e85b5ec6a8d438f62aa": {
      "model_module": "@jupyter-widgets/controls",
      "model_module_version": "1.2.0",
      "model_name": "TextModel",
      "state": {
       "description": "hex_str",
       "layout": "IPY_MODEL_e81d09ed00d14b6eaac8e5dca10221e9",
       "style": "IPY_MODEL_7805a0fd15f548d0a8f8c2fd5ab69384",
       "value": "010203"
      }
     },
     "89b9f50294db4c1186e0ffd132b8c8f8": {
      "model_module": "@jupyter-widgets/controls",
      "model_module_version": "1.2.0",
      "model_name": "DescriptionStyleModel",
      "state": {
       "description_width": ""
      }
     },
     "8ae63815871d4160934713676f4a3074": {
      "model_module": "@jupyter-widgets/controls",
      "model_module_version": "1.2.0",
      "model_name": "DescriptionStyleModel",
      "state": {
       "description_width": ""
      }
     },
     "8d4cfcc540ce4c0b9b6bfef4c23871d8": {
      "model_module": "@jupyter-widgets/controls",
      "model_module_version": "1.2.0",
      "model_name": "VBoxModel",
      "state": {
       "_dom_classes": [
        "widget-interact"
       ],
       "children": [
        "IPY_MODEL_95489883e49a49399088e48723edab1b",
        "IPY_MODEL_31c299f49d5c4defa14198f870f80e3b"
       ],
       "layout": "IPY_MODEL_b900c403aee74c40a648a15ab3481b3d"
      }
     },
     "90a3601960bd4c3faa9b474b95f1f959": {
      "model_module": "@jupyter-widgets/base",
      "model_module_version": "1.0.0",
      "model_name": "LayoutModel",
      "state": {}
     },
     "91a2d257fd7d48268697bd4d2968350c": {
      "model_module": "@jupyter-widgets/controls",
      "model_module_version": "1.2.0",
      "model_name": "TextModel",
      "state": {
       "description": "hex_str",
       "layout": "IPY_MODEL_14df481b7ddd4ff98ed2fd35791654ab",
       "style": "IPY_MODEL_fdfcefd4db184538bef97fd4f1101895",
       "value": "01020304"
      }
     },
     "91ddf039cda146d1aaa8a841285984bb": {
      "model_module": "@jupyter-widgets/controls",
      "model_module_version": "1.2.0",
      "model_name": "DescriptionStyleModel",
      "state": {
       "description_width": ""
      }
     },
     "95489883e49a49399088e48723edab1b": {
      "model_module": "@jupyter-widgets/controls",
      "model_module_version": "1.2.0",
      "model_name": "TextModel",
      "state": {
       "description": "x",
       "layout": "IPY_MODEL_39d05129922442e3a98cc93f78168ad2",
       "style": "IPY_MODEL_89b9f50294db4c1186e0ffd132b8c8f8",
       "value": "www"
      }
     },
     "965c7495c930461bad04907a3402dd55": {
      "model_module": "@jupyter-widgets/controls",
      "model_module_version": "1.2.0",
      "model_name": "VBoxModel",
      "state": {
       "_dom_classes": [
        "widget-interact"
       ],
       "layout": "IPY_MODEL_211ba74b79b349daa01aac8801d33d5b"
      }
     },
     "96afb76ad2394e2c99c0b09b4cc3f2a3": {
      "model_module": "@jupyter-widgets/base",
      "model_module_version": "1.0.0",
      "model_name": "LayoutModel",
      "state": {}
     },
     "96c72eca763e4fe3980bb93f24af70c1": {
      "model_module": "@jupyter-widgets/controls",
      "model_module_version": "1.2.0",
      "model_name": "VBoxModel",
      "state": {
       "_dom_classes": [
        "widget-interact"
       ],
       "children": [
        "IPY_MODEL_1258bba6792d4898951edddff87c3aa8",
        "IPY_MODEL_0a1a109ab5694e0bb880bf0485c51337"
       ],
       "layout": "IPY_MODEL_55459cbfa176429e8299841bca66955a"
      }
     },
     "9732774bddea44e191c17325f189837b": {
      "model_module": "@jupyter-widgets/base",
      "model_module_version": "1.0.0",
      "model_name": "LayoutModel",
      "state": {}
     },
     "998bc705d64d435b842c7a2d2423ffe2": {
      "model_module": "@jupyter-widgets/controls",
      "model_module_version": "1.2.0",
      "model_name": "VBoxModel",
      "state": {
       "_dom_classes": [
        "widget-interact"
       ],
       "children": [
        "IPY_MODEL_bf4eedd5469d47db983c781ce30354a7",
        "IPY_MODEL_ac187b99dcfc49fa82a0234e532bc343"
       ],
       "layout": "IPY_MODEL_cb0c12ba70a14faa8422512c3bcac49b"
      }
     },
     "9e905940119b4cd79c766d2841bd2eec": {
      "model_module": "@jupyter-widgets/controls",
      "model_module_version": "1.2.0",
      "model_name": "DescriptionStyleModel",
      "state": {
       "description_width": ""
      }
     },
     "a055ee30bb984a5fa2db737b49178438": {
      "model_module": "@jupyter-widgets/base",
      "model_module_version": "1.0.0",
      "model_name": "LayoutModel",
      "state": {}
     },
     "a18eb4ac8d014abe8c19d90d6170c51b": {
      "model_module": "@jupyter-widgets/base",
      "model_module_version": "1.0.0",
      "model_name": "LayoutModel",
      "state": {}
     },
     "a21aa68915634e32b5642d42cfc7f5d9": {
      "model_module": "@jupyter-widgets/base",
      "model_module_version": "1.0.0",
      "model_name": "LayoutModel",
      "state": {}
     },
     "a2e110df56334353a6b4921b1364545d": {
      "model_module": "@jupyter-widgets/controls",
      "model_module_version": "1.2.0",
      "model_name": "DescriptionStyleModel",
      "state": {
       "description_width": ""
      }
     },
     "a5e7d7d265894538a49192aa4d7a78ab": {
      "model_module": "@jupyter-widgets/output",
      "model_module_version": "1.0.0",
      "model_name": "OutputModel",
      "state": {
       "layout": "IPY_MODEL_42cf6089c207480188425fe0886470a4",
       "outputs": [
        {
         "data": {
          "text/plain": "('', 'OK')"
         },
         "metadata": {},
         "output_type": "display_data"
        }
       ]
      }
     },
     "a63e3675093e4f459c134d374f4d6b60": {
      "model_module": "@jupyter-widgets/base",
      "model_module_version": "1.0.0",
      "model_name": "LayoutModel",
      "state": {}
     },
     "aa3a774215f54d6f9fa06782b1936eca": {
      "model_module": "@jupyter-widgets/base",
      "model_module_version": "1.0.0",
      "model_name": "LayoutModel",
      "state": {}
     },
     "abd8f20b348449b19182441851829c48": {
      "model_module": "@jupyter-widgets/base",
      "model_module_version": "1.0.0",
      "model_name": "LayoutModel",
      "state": {}
     },
     "ac187b99dcfc49fa82a0234e532bc343": {
      "model_module": "@jupyter-widgets/output",
      "model_module_version": "1.0.0",
      "model_name": "OutputModel",
      "state": {
       "layout": "IPY_MODEL_ff9598b8076b4278bccf295598b8c426",
       "outputs": [
        {
         "data": {
          "text/plain": "('AQID', 'OK')"
         },
         "metadata": {},
         "output_type": "display_data"
        }
       ]
      }
     },
     "acc358df843e4809a7756abfa0ab9788": {
      "model_module": "@jupyter-widgets/output",
      "model_module_version": "1.0.0",
      "model_name": "OutputModel",
      "state": {
       "layout": "IPY_MODEL_d8b8c0ef59c14bf9a803904e85c84d87",
       "outputs": [
        {
         "ename": "AttributeError",
         "evalue": "'str' object has no attribute 'decode'",
         "output_type": "error",
         "traceback": [
          "\u001b[1;31m---------------------------------------------------------------------------\u001b[0m",
          "\u001b[1;31mAttributeError\u001b[0m                            Traceback (most recent call last)",
          "\u001b[1;32mC:\\Anaconda3\\lib\\site-packages\\ipywidgets\\widgets\\interaction.py\u001b[0m in \u001b[0;36mupdate\u001b[1;34m(self, *args)\u001b[0m\n\u001b[0;32m    249\u001b[0m                     \u001b[0mvalue\u001b[0m \u001b[1;33m=\u001b[0m \u001b[0mwidget\u001b[0m\u001b[1;33m.\u001b[0m\u001b[0mget_interact_value\u001b[0m\u001b[1;33m(\u001b[0m\u001b[1;33m)\u001b[0m\u001b[1;33m\u001b[0m\u001b[0m\n\u001b[0;32m    250\u001b[0m                     \u001b[0mself\u001b[0m\u001b[1;33m.\u001b[0m\u001b[0mkwargs\u001b[0m\u001b[1;33m[\u001b[0m\u001b[0mwidget\u001b[0m\u001b[1;33m.\u001b[0m\u001b[0m_kwarg\u001b[0m\u001b[1;33m]\u001b[0m \u001b[1;33m=\u001b[0m \u001b[0mvalue\u001b[0m\u001b[1;33m\u001b[0m\u001b[0m\n\u001b[1;32m--> 251\u001b[1;33m                 \u001b[0mself\u001b[0m\u001b[1;33m.\u001b[0m\u001b[0mresult\u001b[0m \u001b[1;33m=\u001b[0m \u001b[0mself\u001b[0m\u001b[1;33m.\u001b[0m\u001b[0mf\u001b[0m\u001b[1;33m(\u001b[0m\u001b[1;33m**\u001b[0m\u001b[0mself\u001b[0m\u001b[1;33m.\u001b[0m\u001b[0mkwargs\u001b[0m\u001b[1;33m)\u001b[0m\u001b[1;33m\u001b[0m\u001b[0m\n\u001b[0m\u001b[0;32m    252\u001b[0m                 \u001b[0mshow_inline_matplotlib_plots\u001b[0m\u001b[1;33m(\u001b[0m\u001b[1;33m)\u001b[0m\u001b[1;33m\u001b[0m\u001b[0m\n\u001b[0;32m    253\u001b[0m                 \u001b[1;32mif\u001b[0m \u001b[0mself\u001b[0m\u001b[1;33m.\u001b[0m\u001b[0mauto_display\u001b[0m \u001b[1;32mand\u001b[0m \u001b[0mself\u001b[0m\u001b[1;33m.\u001b[0m\u001b[0mresult\u001b[0m \u001b[1;32mis\u001b[0m \u001b[1;32mnot\u001b[0m \u001b[1;32mNone\u001b[0m\u001b[1;33m:\u001b[0m\u001b[1;33m\u001b[0m\u001b[0m\n",
          "\u001b[1;32m<ipython-input-21-b1beb9b86fb3>\u001b[0m in \u001b[0;36mhex2base64\u001b[1;34m(hex_str)\u001b[0m\n\u001b[0;32m      1\u001b[0m \u001b[1;32mdef\u001b[0m \u001b[0mhex2base64\u001b[0m\u001b[1;33m(\u001b[0m\u001b[0mhex_str\u001b[0m\u001b[1;33m)\u001b[0m\u001b[1;33m:\u001b[0m\u001b[1;33m\u001b[0m\u001b[0m\n\u001b[1;32m----> 2\u001b[1;33m     \u001b[0mb64_str\u001b[0m \u001b[1;33m=\u001b[0m \u001b[0mhex_str\u001b[0m\u001b[1;33m.\u001b[0m\u001b[0mdecode\u001b[0m\u001b[1;33m(\u001b[0m\u001b[1;34m\"hex\"\u001b[0m\u001b[1;33m)\u001b[0m\u001b[1;33m.\u001b[0m\u001b[0mencode\u001b[0m\u001b[1;33m(\u001b[0m\u001b[1;34m\"base64\"\u001b[0m\u001b[1;33m)\u001b[0m\u001b[1;33m\u001b[0m\u001b[0m\n\u001b[0m\u001b[0;32m      3\u001b[0m     \u001b[1;31m#b64_str='->'+hex_str\u001b[0m\u001b[1;33m\u001b[0m\u001b[1;33m\u001b[0m\u001b[0m\n\u001b[0;32m      4\u001b[0m     \u001b[1;32mreturn\u001b[0m \u001b[0mb64_str\u001b[0m\u001b[1;33m\u001b[0m\u001b[0m\n",
          "\u001b[1;31mAttributeError\u001b[0m: 'str' object has no attribute 'decode'"
         ]
        }
       ]
      }
     },
     "adc816e94a1d4f2baa714f89e55a398a": {
      "model_module": "@jupyter-widgets/controls",
      "model_module_version": "1.2.0",
      "model_name": "DescriptionStyleModel",
      "state": {
       "description_width": ""
      }
     },
     "b07ac196aad4433990b5e008f246d20e": {
      "model_module": "@jupyter-widgets/controls",
      "model_module_version": "1.2.0",
      "model_name": "VBoxModel",
      "state": {
       "_dom_classes": [
        "widget-interact"
       ],
       "children": [
        "IPY_MODEL_fe2b0c3ff35b4b3aabcfc59778ba6f4b",
        "IPY_MODEL_f197605f573545d79fba60a9efe157f3"
       ],
       "layout": "IPY_MODEL_9732774bddea44e191c17325f189837b"
      }
     },
     "b14372280fce4ba3bbf931f10d66b743": {
      "model_module": "@jupyter-widgets/base",
      "model_module_version": "1.0.0",
      "model_name": "LayoutModel",
      "state": {}
     },
     "b52b37c5d9234081b6e725a7629a8e53": {
      "model_module": "@jupyter-widgets/base",
      "model_module_version": "1.0.0",
      "model_name": "LayoutModel",
      "state": {}
     },
     "b900c403aee74c40a648a15ab3481b3d": {
      "model_module": "@jupyter-widgets/base",
      "model_module_version": "1.0.0",
      "model_name": "LayoutModel",
      "state": {}
     },
     "ba3c8e7b70aa437283cf98c0ab3a3f22": {
      "model_module": "@jupyter-widgets/controls",
      "model_module_version": "1.2.0",
      "model_name": "VBoxModel",
      "state": {
       "_dom_classes": [
        "widget-interact"
       ],
       "children": [
        "IPY_MODEL_77e7ebbcc52047689ca9607276125353",
        "IPY_MODEL_286113fb95d445d4ac109aa07bada887"
       ],
       "layout": "IPY_MODEL_7f9708bd2bbd4b4f97937c6d4c089d83"
      }
     },
     "bdcac8e3173249279f66a11b658a93af": {
      "model_module": "@jupyter-widgets/controls",
      "model_module_version": "1.2.0",
      "model_name": "SliderStyleModel",
      "state": {
       "description_width": ""
      }
     },
     "bf4eedd5469d47db983c781ce30354a7": {
      "model_module": "@jupyter-widgets/controls",
      "model_module_version": "1.2.0",
      "model_name": "TextModel",
      "state": {
       "description": "hex_str",
       "layout": "IPY_MODEL_7525702c42454caa8ffbe0232a88f477",
       "style": "IPY_MODEL_ca39d08b7c1447eba3572a996bc5fe98",
       "value": "010203"
      }
     },
     "bf6501fee8c9458084e4406d2cd0d979": {
      "model_module": "@jupyter-widgets/base",
      "model_module_version": "1.0.0",
      "model_name": "LayoutModel",
      "state": {}
     },
     "bfb6cbcd06e44a38b98d08241a99ac96": {
      "model_module": "@jupyter-widgets/base",
      "model_module_version": "1.0.0",
      "model_name": "LayoutModel",
      "state": {}
     },
     "ca39d08b7c1447eba3572a996bc5fe98": {
      "model_module": "@jupyter-widgets/controls",
      "model_module_version": "1.2.0",
      "model_name": "DescriptionStyleModel",
      "state": {
       "description_width": ""
      }
     },
     "cb0c12ba70a14faa8422512c3bcac49b": {
      "model_module": "@jupyter-widgets/base",
      "model_module_version": "1.0.0",
      "model_name": "LayoutModel",
      "state": {}
     },
     "d466756174104ef8a50fd270c29a31ea": {
      "model_module": "@jupyter-widgets/controls",
      "model_module_version": "1.2.0",
      "model_name": "VBoxModel",
      "state": {
       "_dom_classes": [
        "widget-interact"
       ],
       "children": [
        "IPY_MODEL_87e195fb55454e85b5ec6a8d438f62aa",
        "IPY_MODEL_e2e11d118f554a14942370d68b045fb4"
       ],
       "layout": "IPY_MODEL_34f2a2ef570940f796be5245dac3b26f"
      }
     },
     "d49203c7689747ceb45f4e56332758f1": {
      "model_module": "@jupyter-widgets/base",
      "model_module_version": "1.0.0",
      "model_name": "LayoutModel",
      "state": {}
     },
     "d771f00f205b4a229731f4ad42d934f7": {
      "model_module": "@jupyter-widgets/output",
      "model_module_version": "1.0.0",
      "model_name": "OutputModel",
      "state": {
       "layout": "IPY_MODEL_bf6501fee8c9458084e4406d2cd0d979",
       "outputs": [
        {
         "data": {
          "text/plain": "'0000'"
         },
         "metadata": {},
         "output_type": "display_data"
        }
       ]
      }
     },
     "d8b8c0ef59c14bf9a803904e85c84d87": {
      "model_module": "@jupyter-widgets/base",
      "model_module_version": "1.0.0",
      "model_name": "LayoutModel",
      "state": {}
     },
     "d97398bf0e0c4a32a127281f39b6e07b": {
      "model_module": "@jupyter-widgets/controls",
      "model_module_version": "1.2.0",
      "model_name": "VBoxModel",
      "state": {
       "_dom_classes": [
        "widget-interact"
       ],
       "children": [
        "IPY_MODEL_793146fcaea048759fd21f63d90c9ff4",
        "IPY_MODEL_1041c3845b80403fb2455c5973770766"
       ],
       "layout": "IPY_MODEL_52aab67a058d4f4ab67d4f810a4d8a6c"
      }
     },
     "dc12eb1955cf42e58a95e51632b8913d": {
      "model_module": "@jupyter-widgets/base",
      "model_module_version": "1.0.0",
      "model_name": "LayoutModel",
      "state": {}
     },
     "e04992a55e104bb2a9eccc3ee5ada11a": {
      "model_module": "@jupyter-widgets/base",
      "model_module_version": "1.0.0",
      "model_name": "LayoutModel",
      "state": {}
     },
     "e2e11d118f554a14942370d68b045fb4": {
      "model_module": "@jupyter-widgets/output",
      "model_module_version": "1.0.0",
      "model_name": "OutputModel",
      "state": {
       "layout": "IPY_MODEL_b52b37c5d9234081b6e725a7629a8e53",
       "outputs": [
        {
         "data": {
          "text/plain": "('AQID\\n', 'OK')"
         },
         "metadata": {},
         "output_type": "display_data"
        }
       ]
      }
     },
     "e2e5d921834c44c597d9dd5f88b49053": {
      "model_module": "@jupyter-widgets/base",
      "model_module_version": "1.0.0",
      "model_name": "LayoutModel",
      "state": {}
     },
     "e35feea5bdcf4692b391aeb8b41d8426": {
      "model_module": "@jupyter-widgets/base",
      "model_module_version": "1.0.0",
      "model_name": "LayoutModel",
      "state": {}
     },
     "e3fc0de931f142ff915b5915f0fe4a57": {
      "model_module": "@jupyter-widgets/base",
      "model_module_version": "1.0.0",
      "model_name": "LayoutModel",
      "state": {}
     },
     "e574dca3d7c848fd8b031fc190c3ebdb": {
      "model_module": "@jupyter-widgets/controls",
      "model_module_version": "1.2.0",
      "model_name": "VBoxModel",
      "state": {
       "_dom_classes": [
        "widget-interact"
       ],
       "children": [
        "IPY_MODEL_91a2d257fd7d48268697bd4d2968350c",
        "IPY_MODEL_7c98cc10f8f44251aa4a7b9159bbfea0"
       ],
       "layout": "IPY_MODEL_a18eb4ac8d014abe8c19d90d6170c51b"
      }
     },
     "e66a0bd7dd154770b2291976e5c4b33f": {
      "model_module": "@jupyter-widgets/output",
      "model_module_version": "1.0.0",
      "model_name": "OutputModel",
      "state": {
       "layout": "IPY_MODEL_d49203c7689747ceb45f4e56332758f1",
       "outputs": [
        {
         "data": {
          "text/plain": "'->010203'"
         },
         "metadata": {},
         "output_type": "display_data"
        }
       ]
      }
     },
     "e81d09ed00d14b6eaac8e5dca10221e9": {
      "model_module": "@jupyter-widgets/base",
      "model_module_version": "1.0.0",
      "model_name": "LayoutModel",
      "state": {}
     },
     "ec0b76b01ca54676a18e5b7f468b9fec": {
      "model_module": "@jupyter-widgets/base",
      "model_module_version": "1.0.0",
      "model_name": "LayoutModel",
      "state": {}
     },
     "ed299d694d9240748726f99c02069b42": {
      "model_module": "@jupyter-widgets/output",
      "model_module_version": "1.0.0",
      "model_name": "OutputModel",
      "state": {
       "layout": "IPY_MODEL_fae1c82a23984404b01cf98c912e03cf",
       "outputs": [
        {
         "data": {
          "text/plain": "('Mw==\\n', 'OK')"
         },
         "metadata": {},
         "output_type": "display_data"
        }
       ]
      }
     },
     "ed5f671e66db42fb9c3be21d74b9a6a3": {
      "model_module": "@jupyter-widgets/controls",
      "model_module_version": "1.2.0",
      "model_name": "VBoxModel",
      "state": {
       "_dom_classes": [
        "widget-interact"
       ],
       "children": [
        "IPY_MODEL_7f98a4f3fb194d99a3e92df33c947201",
        "IPY_MODEL_e66a0bd7dd154770b2291976e5c4b33f"
       ],
       "layout": "IPY_MODEL_08c5929d9b244a2d9500ebb5da40d997"
      }
     },
     "ef18e401d5144194aeaadb1b15e4fb7b": {
      "model_module": "@jupyter-widgets/controls",
      "model_module_version": "1.2.0",
      "model_name": "DescriptionStyleModel",
      "state": {
       "description_width": ""
      }
     },
     "efae44c085aa40ab8d7cf091e6a67946": {
      "model_module": "@jupyter-widgets/base",
      "model_module_version": "1.0.0",
      "model_name": "LayoutModel",
      "state": {}
     },
     "f12ba38709f64f0595d6ad43bec5105b": {
      "model_module": "@jupyter-widgets/base",
      "model_module_version": "1.0.0",
      "model_name": "LayoutModel",
      "state": {}
     },
     "f13102f53d444cb69da0f7211b6b9227": {
      "model_module": "@jupyter-widgets/controls",
      "model_module_version": "1.2.0",
      "model_name": "VBoxModel",
      "state": {
       "_dom_classes": [
        "widget-interact"
       ],
       "children": [
        "IPY_MODEL_f21ec73de07c4b9e93a9067dab91c7bd",
        "IPY_MODEL_2c4b8bdce86f4c5b9971bc16faaccbe3"
       ],
       "layout": "IPY_MODEL_14cfa89e768144f982a9147fdf46eeee"
      }
     },
     "f18e756682b24605ac266c281621a914": {
      "model_module": "@jupyter-widgets/base",
      "model_module_version": "1.0.0",
      "model_name": "LayoutModel",
      "state": {}
     },
     "f197605f573545d79fba60a9efe157f3": {
      "model_module": "@jupyter-widgets/output",
      "model_module_version": "1.0.0",
      "model_name": "OutputModel",
      "state": {
       "layout": "IPY_MODEL_90a3601960bd4c3faa9b474b95f1f959",
       "outputs": [
        {
         "data": {
          "application/vnd.plotly.v1+json": {
           "data": [
            {
             "type": "scatter",
             "uid": "8ea5a75f-dc71-45e4-b7a3-d7f9c03ee3ec",
             "x": [
              83,
              84,
              85
             ],
             "y": [
              4,
              5,
              6
             ]
            },
            {
             "type": "scatter",
             "uid": "c78ae343-c2b5-4aaa-a405-7ade100a8b7e",
             "x": [
              1,
              2,
              3
             ],
             "y": [
              4,
              5,
              6
             ]
            }
           ],
           "layout": {}
          },
          "text/html": "<div id=\"64e1164c-a46c-469e-b642-f78af86bd8d5\" style=\"height: 525px; width: 100%;\" class=\"plotly-graph-div\"></div><script type=\"text/javascript\">require([\"plotly\"], function(Plotly) { window.PLOTLYENV=window.PLOTLYENV || {};window.PLOTLYENV.BASE_URL=\"https://plot.ly\";Plotly.newPlot(\"64e1164c-a46c-469e-b642-f78af86bd8d5\", [{\"x\": [83, 84, 85], \"y\": [4, 5, 6], \"type\": \"scatter\", \"uid\": \"276273e3-0e66-412c-a213-5c30146265de\"}, {\"x\": [1, 2, 3], \"y\": [4, 5, 6], \"type\": \"scatter\", \"uid\": \"ca786184-e3c5-4a1d-a72e-88efcb090bf0\"}], {}, {\"showLink\": true, \"linkText\": \"Export to plot.ly\"})});</script><script type=\"text/javascript\">window.addEventListener(\"resize\", function(){window._Plotly.Plots.resize(document.getElementById(\"64e1164c-a46c-469e-b642-f78af86bd8d5\"));});</script>",
          "text/vnd.plotly.v1+html": "<div id=\"64e1164c-a46c-469e-b642-f78af86bd8d5\" style=\"height: 525px; width: 100%;\" class=\"plotly-graph-div\"></div><script type=\"text/javascript\">require([\"plotly\"], function(Plotly) { window.PLOTLYENV=window.PLOTLYENV || {};window.PLOTLYENV.BASE_URL=\"https://plot.ly\";Plotly.newPlot(\"64e1164c-a46c-469e-b642-f78af86bd8d5\", [{\"x\": [83, 84, 85], \"y\": [4, 5, 6], \"type\": \"scatter\", \"uid\": \"276273e3-0e66-412c-a213-5c30146265de\"}, {\"x\": [1, 2, 3], \"y\": [4, 5, 6], \"type\": \"scatter\", \"uid\": \"ca786184-e3c5-4a1d-a72e-88efcb090bf0\"}], {}, {\"showLink\": true, \"linkText\": \"Export to plot.ly\"})});</script><script type=\"text/javascript\">window.addEventListener(\"resize\", function(){window._Plotly.Plots.resize(document.getElementById(\"64e1164c-a46c-469e-b642-f78af86bd8d5\"));});</script>"
         },
         "metadata": {},
         "output_type": "display_data"
        }
       ]
      }
     },
     "f21ec73de07c4b9e93a9067dab91c7bd": {
      "model_module": "@jupyter-widgets/controls",
      "model_module_version": "1.2.0",
      "model_name": "TextModel",
      "state": {
       "description": "hex_str",
       "layout": "IPY_MODEL_534f3d72fc79441eae7744cebad759f0",
       "style": "IPY_MODEL_4480379e8fd742a8907022ace6c9412a",
       "value": "010203"
      }
     },
     "f3587168f8bd47c2baa8eebae201a68d": {
      "model_module": "@jupyter-widgets/base",
      "model_module_version": "1.0.0",
      "model_name": "LayoutModel",
      "state": {}
     },
     "f3fe62355d544210b2288b259e969ee0": {
      "model_module": "@jupyter-widgets/base",
      "model_module_version": "1.0.0",
      "model_name": "LayoutModel",
      "state": {}
     },
     "fae1c82a23984404b01cf98c912e03cf": {
      "model_module": "@jupyter-widgets/base",
      "model_module_version": "1.0.0",
      "model_name": "LayoutModel",
      "state": {}
     },
     "fcd54197c6d541b2b8e6e91ab4001bb9": {
      "model_module": "@jupyter-widgets/controls",
      "model_module_version": "1.2.0",
      "model_name": "VBoxModel",
      "state": {
       "_dom_classes": [
        "widget-interact"
       ],
       "children": [
        "IPY_MODEL_40b564ce05c0449b8880bba9e1868167",
        "IPY_MODEL_68676f5036a7440ba37e25a22bef8883"
       ],
       "layout": "IPY_MODEL_6515be2052a247ae91b979b71a992a64"
      }
     },
     "fdfcefd4db184538bef97fd4f1101895": {
      "model_module": "@jupyter-widgets/controls",
      "model_module_version": "1.2.0",
      "model_name": "DescriptionStyleModel",
      "state": {
       "description_width": ""
      }
     },
     "fe2b0c3ff35b4b3aabcfc59778ba6f4b": {
      "model_module": "@jupyter-widgets/controls",
      "model_module_version": "1.2.0",
      "model_name": "IntSliderModel",
      "state": {
       "description": "w",
       "layout": "IPY_MODEL_a63e3675093e4f459c134d374f4d6b60",
       "style": "IPY_MODEL_49263ae2f6c746fbbb5317715d26a541",
       "value": 82
      }
     },
     "ff9598b8076b4278bccf295598b8c426": {
      "model_module": "@jupyter-widgets/base",
      "model_module_version": "1.0.0",
      "model_name": "LayoutModel",
      "state": {}
     }
    },
    "version_major": 2,
    "version_minor": 0
   }
  }
 },
 "nbformat": 4,
 "nbformat_minor": 2
}
