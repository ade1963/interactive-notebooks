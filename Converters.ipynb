{
 "cells": [
  {
   "cell_type": "code",
   "execution_count": 1,
   "metadata": {},
   "outputs": [],
   "source": [
    "from __future__ import print_function\n",
    "from ipywidgets import interact, interactive, fixed, interact_manual, VBox\n",
    "import ipywidgets as widgets"
   ]
  },
  {
   "cell_type": "code",
   "execution_count": 2,
   "metadata": {},
   "outputs": [],
   "source": [
    "import codecs\n",
    "\n",
    "def hex2base64(hex_str):\n",
    "    b64_str=''\n",
    "    err='OK'\n",
    "    try: \n",
    "        b64_str = codecs.encode(codecs.decode(hex_str, 'hex'), 'base64').decode()\n",
    "    except:\n",
    "        err='Error, hex string contains only numbers'\n",
    "    return b64_str.strip(), err \n"
   ]
  },
  {
   "cell_type": "code",
   "execution_count": 3,
   "metadata": {},
   "outputs": [
    {
     "data": {
      "application/vnd.jupyter.widget-view+json": {
       "model_id": "63c203c26cbd48798f3d0fd5b7771b32",
       "version_major": 2,
       "version_minor": 0
      },
      "text/plain": [
       "VBox(children=(Text(value='01020304'), Text(value='AQIDBA=='), Label(value='OK')))"
      ]
     },
     "metadata": {},
     "output_type": "display_data"
    }
   ],
   "source": [
    "hexText = widgets.Text(value='01020304')\n",
    "b64, err = hex2base64(hexText.value)\n",
    "b64Text = widgets.Text(value=b64)\n",
    "errLabel = widgets.Label(value=err)\n",
    "output = widgets.Output()\n",
    "@output.capture()\n",
    "def handle_hex_change(change):\n",
    "    b64Text.value, errLabel.value = hex2base64(change.new)\n",
    "    print(b64Text.value)\n",
    "\n",
    "hexText.observe(handle_hex_change, 'value')\n",
    "\n",
    "display(VBox([hexText, b64Text, errLabel]))\n"
   ]
  },
  {
   "cell_type": "code",
   "execution_count": null,
   "metadata": {},
   "outputs": [],
   "source": []
  }
 ],
 "metadata": {
  "kernelspec": {
   "display_name": "Python 3",
   "language": "python",
   "name": "python3"
  },
  "language_info": {
   "codemirror_mode": {
    "name": "ipython",
    "version": 3
   },
   "file_extension": ".py",
   "mimetype": "text/x-python",
   "name": "python",
   "nbconvert_exporter": "python",
   "pygments_lexer": "ipython3",
   "version": "3.6.5"
  },
  "widgets": {
   "application/vnd.jupyter.widget-state+json": {
    "state": {
     "068d9d97ece24d7080988d8554a48993": {
      "model_module": "@jupyter-widgets/controls",
      "model_module_version": "1.2.0",
      "model_name": "DescriptionStyleModel",
      "state": {
       "description_width": ""
      }
     },
     "0743810a1c6441fca4d973f3b2751a14": {
      "model_module": "@jupyter-widgets/base",
      "model_module_version": "1.0.0",
      "model_name": "LayoutModel",
      "state": {}
     },
     "0788d5f7ef4a4589b8141f935a536178": {
      "model_module": "@jupyter-widgets/controls",
      "model_module_version": "1.2.0",
      "model_name": "TextModel",
      "state": {
       "layout": "IPY_MODEL_4b3daf1d3bbd44908b8ed34380356caf",
       "style": "IPY_MODEL_4c8ecb49583047f0bb6b8c6ce6c93810",
       "value": "AQIDBA=="
      }
     },
     "0b15a7b97402428a9f4c681f73e1b694": {
      "model_module": "@jupyter-widgets/controls",
      "model_module_version": "1.2.0",
      "model_name": "DescriptionStyleModel",
      "state": {
       "description_width": ""
      }
     },
     "0c19eb25fca5425d9a8b212992bc2d24": {
      "model_module": "@jupyter-widgets/base",
      "model_module_version": "1.0.0",
      "model_name": "LayoutModel",
      "state": {}
     },
     "13890b15e0a2419b92dddb01cfbcb802": {
      "model_module": "@jupyter-widgets/controls",
      "model_module_version": "1.2.0",
      "model_name": "DescriptionStyleModel",
      "state": {
       "description_width": ""
      }
     },
     "166a1233cad54bf9aea4ff940e46910b": {
      "model_module": "@jupyter-widgets/base",
      "model_module_version": "1.0.0",
      "model_name": "LayoutModel",
      "state": {}
     },
     "18cfc76e8c69496b82a674c65e3ddede": {
      "model_module": "@jupyter-widgets/controls",
      "model_module_version": "1.2.0",
      "model_name": "DescriptionStyleModel",
      "state": {
       "description_width": ""
      }
     },
     "18ed3952576b4555bf553e3a66577478": {
      "model_module": "@jupyter-widgets/base",
      "model_module_version": "1.0.0",
      "model_name": "LayoutModel",
      "state": {}
     },
     "19101ffd499645e5aed63558f412ec87": {
      "model_module": "@jupyter-widgets/base",
      "model_module_version": "1.0.0",
      "model_name": "LayoutModel",
      "state": {}
     },
     "1c0005636b074a2b992a6e2825809bb1": {
      "model_module": "@jupyter-widgets/output",
      "model_module_version": "1.0.0",
      "model_name": "OutputModel",
      "state": {
       "layout": "IPY_MODEL_28d3545c4c174e1f96150a21e17bcd1e",
       "outputs": [
        {
         "name": "stdout",
         "output_type": "stream",
         "text": "\nAQIDBCI=\n\nAQIDBCIi\n\nAQIDBCIiIg==\n\nAQIDBCIiIhE=\n\n\n\nAQIDBCIiIhE=\n\nAQIDBCIiIg==\n\nAQIDBCIi\n\nAQIDBCI=\n\nAQIDBA==\n"
        }
       ]
      }
     },
     "1c4656330bda42fda39a9b3828e32c16": {
      "model_module": "@jupyter-widgets/base",
      "model_module_version": "1.0.0",
      "model_name": "LayoutModel",
      "state": {}
     },
     "21906bd8f8c04a54b618e446ed2770e4": {
      "model_module": "@jupyter-widgets/controls",
      "model_module_version": "1.2.0",
      "model_name": "LabelModel",
      "state": {
       "layout": "IPY_MODEL_19101ffd499645e5aed63558f412ec87",
       "style": "IPY_MODEL_97ce09ecf8e14b8f95680118feab19df",
       "value": "OK"
      }
     },
     "23425a4a0f7e410780380587398f70f9": {
      "model_module": "@jupyter-widgets/controls",
      "model_module_version": "1.2.0",
      "model_name": "DescriptionStyleModel",
      "state": {
       "description_width": ""
      }
     },
     "28d3545c4c174e1f96150a21e17bcd1e": {
      "model_module": "@jupyter-widgets/base",
      "model_module_version": "1.0.0",
      "model_name": "LayoutModel",
      "state": {}
     },
     "2bc4103c26f04aeb87629e7e609b9b88": {
      "model_module": "@jupyter-widgets/base",
      "model_module_version": "1.0.0",
      "model_name": "LayoutModel",
      "state": {}
     },
     "3b878e54ed204189a81d34eae3372708": {
      "model_module": "@jupyter-widgets/controls",
      "model_module_version": "1.2.0",
      "model_name": "TextModel",
      "state": {
       "layout": "IPY_MODEL_831047333dc44e9f9d6f58903c466e87",
       "style": "IPY_MODEL_5541468e12d9469a896bcbb7b83dc3b2",
       "value": "01020304"
      }
     },
     "3c98574c135c478c879008ad0383d762": {
      "model_module": "@jupyter-widgets/base",
      "model_module_version": "1.0.0",
      "model_name": "LayoutModel",
      "state": {}
     },
     "3e2b935ef4dd4c11b9bb85ef18e609a4": {
      "model_module": "@jupyter-widgets/base",
      "model_module_version": "1.0.0",
      "model_name": "LayoutModel",
      "state": {}
     },
     "416acae5a8584c84914387ab8a2135ca": {
      "model_module": "@jupyter-widgets/controls",
      "model_module_version": "1.2.0",
      "model_name": "VBoxModel",
      "state": {
       "children": [
        "IPY_MODEL_ea51abf0af094fab85bcdec91a35b333",
        "IPY_MODEL_e97adcea8ad5456ca09ea2adc0f1c031",
        "IPY_MODEL_f5e9380ae4a94fe88a390b0a5c22b9f2"
       ],
       "layout": "IPY_MODEL_166a1233cad54bf9aea4ff940e46910b"
      }
     },
     "443734c4512241ecaf836f27866e1e80": {
      "model_module": "@jupyter-widgets/controls",
      "model_module_version": "1.2.0",
      "model_name": "VBoxModel",
      "state": {
       "children": [
        "IPY_MODEL_bc8fb23552aa4a7aafaa93d1598c2b6b",
        "IPY_MODEL_0788d5f7ef4a4589b8141f935a536178",
        "IPY_MODEL_dfe4f45888274c15872bec8de74cb64c"
       ],
       "layout": "IPY_MODEL_3e2b935ef4dd4c11b9bb85ef18e609a4"
      }
     },
     "457b6b46c8d349288c6f0f1f277f9f1c": {
      "model_module": "@jupyter-widgets/base",
      "model_module_version": "1.0.0",
      "model_name": "LayoutModel",
      "state": {}
     },
     "47d5487df4ce48f3ab2e98a4a97c331f": {
      "model_module": "@jupyter-widgets/base",
      "model_module_version": "1.0.0",
      "model_name": "LayoutModel",
      "state": {}
     },
     "48939bc61922423580144b6e5d1a6348": {
      "model_module": "@jupyter-widgets/controls",
      "model_module_version": "1.2.0",
      "model_name": "DescriptionStyleModel",
      "state": {
       "description_width": ""
      }
     },
     "4b3daf1d3bbd44908b8ed34380356caf": {
      "model_module": "@jupyter-widgets/base",
      "model_module_version": "1.0.0",
      "model_name": "LayoutModel",
      "state": {}
     },
     "4c8ecb49583047f0bb6b8c6ce6c93810": {
      "model_module": "@jupyter-widgets/controls",
      "model_module_version": "1.2.0",
      "model_name": "DescriptionStyleModel",
      "state": {
       "description_width": ""
      }
     },
     "4d2975457bd14449a4e23a2634c9325b": {
      "model_module": "@jupyter-widgets/controls",
      "model_module_version": "1.2.0",
      "model_name": "DescriptionStyleModel",
      "state": {
       "description_width": ""
      }
     },
     "4e6418e31aed4895b0e610d3cb942272": {
      "model_module": "@jupyter-widgets/controls",
      "model_module_version": "1.2.0",
      "model_name": "VBoxModel",
      "state": {
       "children": [
        "IPY_MODEL_79a7ac04f2e1417994b6c5d82b0c3aa2",
        "IPY_MODEL_8aae4f1de01340eda05df4430ca5e917",
        "IPY_MODEL_562e5ff43ad54bbdacba43b7d2b8e6f5",
        "IPY_MODEL_ddd96d91544a441aa4cc91266adaf515"
       ],
       "layout": "IPY_MODEL_457b6b46c8d349288c6f0f1f277f9f1c"
      }
     },
     "532d6d9741d24504b3d30fb12712b6ef": {
      "model_module": "@jupyter-widgets/controls",
      "model_module_version": "1.2.0",
      "model_name": "LabelModel",
      "state": {
       "layout": "IPY_MODEL_89f41a35503640ebb71ee287ee0d2fbb",
       "style": "IPY_MODEL_e4d3d9fe7acc4d328f85533486e4b3a5",
       "value": "OK"
      }
     },
     "5541468e12d9469a896bcbb7b83dc3b2": {
      "model_module": "@jupyter-widgets/controls",
      "model_module_version": "1.2.0",
      "model_name": "DescriptionStyleModel",
      "state": {
       "description_width": ""
      }
     },
     "562e5ff43ad54bbdacba43b7d2b8e6f5": {
      "model_module": "@jupyter-widgets/controls",
      "model_module_version": "1.2.0",
      "model_name": "LabelModel",
      "state": {
       "layout": "IPY_MODEL_47d5487df4ce48f3ab2e98a4a97c331f",
       "style": "IPY_MODEL_cd66a8bd51804e4da25dc28af9f66329",
       "value": "OK"
      }
     },
     "57b8e7b036b347749746923b34a2b555": {
      "model_module": "@jupyter-widgets/controls",
      "model_module_version": "1.2.0",
      "model_name": "TextModel",
      "state": {
       "layout": "IPY_MODEL_efd02d5aa9ec487d839cb01afe35102c",
       "style": "IPY_MODEL_068d9d97ece24d7080988d8554a48993",
       "value": "01020304"
      }
     },
     "595dea99108c48049763d02e576c716d": {
      "model_module": "@jupyter-widgets/base",
      "model_module_version": "1.0.0",
      "model_name": "LayoutModel",
      "state": {}
     },
     "5a641c91ad5c4c79b6455812eac8aa29": {
      "model_module": "@jupyter-widgets/base",
      "model_module_version": "1.0.0",
      "model_name": "LayoutModel",
      "state": {}
     },
     "5a788356a0f044d68f7b51976e9f8d33": {
      "model_module": "@jupyter-widgets/base",
      "model_module_version": "1.0.0",
      "model_name": "LayoutModel",
      "state": {}
     },
     "5cd2816951b1420e8e82073fcde2d968": {
      "model_module": "@jupyter-widgets/controls",
      "model_module_version": "1.2.0",
      "model_name": "DescriptionStyleModel",
      "state": {
       "description_width": ""
      }
     },
     "5cdb96318cfb4469b545305aa62365f2": {
      "model_module": "@jupyter-widgets/base",
      "model_module_version": "1.0.0",
      "model_name": "LayoutModel",
      "state": {}
     },
     "63c203c26cbd48798f3d0fd5b7771b32": {
      "model_module": "@jupyter-widgets/controls",
      "model_module_version": "1.2.0",
      "model_name": "VBoxModel",
      "state": {
       "children": [
        "IPY_MODEL_3b878e54ed204189a81d34eae3372708",
        "IPY_MODEL_da0bcb7e50f6424f98fdb95f4bdef70e",
        "IPY_MODEL_d309357e0d7f432eaa0bec6bc5a4aff7"
       ],
       "layout": "IPY_MODEL_83c3e0c605a74c979479d093d1f79b7a"
      }
     },
     "6823ade667664712858da381f1b17f06": {
      "model_module": "@jupyter-widgets/controls",
      "model_module_version": "1.2.0",
      "model_name": "TextModel",
      "state": {
       "layout": "IPY_MODEL_e47e0d3d02804deea41f6b5d89cc6927",
       "style": "IPY_MODEL_0b15a7b97402428a9f4c681f73e1b694",
       "value": "01020304"
      }
     },
     "695bc637b13141ceae7f78f04e6ebda8": {
      "model_module": "@jupyter-widgets/output",
      "model_module_version": "1.0.0",
      "model_name": "OutputModel",
      "state": {
       "layout": "IPY_MODEL_f873dff4959e462a9ad4bc95bf73fe3b"
      }
     },
     "69d47c4a351745c7a4ed0c55f2d1ecca": {
      "model_module": "@jupyter-widgets/base",
      "model_module_version": "1.0.0",
      "model_name": "LayoutModel",
      "state": {}
     },
     "6efb40144cf146ecae199a0f7cf1c62f": {
      "model_module": "@jupyter-widgets/controls",
      "model_module_version": "1.2.0",
      "model_name": "VBoxModel",
      "state": {
       "children": [
        "IPY_MODEL_6823ade667664712858da381f1b17f06",
        "IPY_MODEL_f52ff6a4537d4e00b611fd7453cc30c9",
        "IPY_MODEL_d50b384a7ce344cd91f3340376c27a2a"
       ],
       "layout": "IPY_MODEL_981a390056a74615b3e27416644df5d5"
      }
     },
     "71184d93ae15452a9d7b8246996778e4": {
      "model_module": "@jupyter-widgets/controls",
      "model_module_version": "1.2.0",
      "model_name": "DescriptionStyleModel",
      "state": {
       "description_width": ""
      }
     },
     "73719d31eb754e5a80b29c5939828507": {
      "model_module": "@jupyter-widgets/controls",
      "model_module_version": "1.2.0",
      "model_name": "TextModel",
      "state": {
       "layout": "IPY_MODEL_0c19eb25fca5425d9a8b212992bc2d24",
       "style": "IPY_MODEL_71184d93ae15452a9d7b8246996778e4",
       "value": "AQIDBIiIiIiIiA=="
      }
     },
     "7742fff0cd0448d2a9b1ac0f1a10934e": {
      "model_module": "@jupyter-widgets/controls",
      "model_module_version": "1.2.0",
      "model_name": "DescriptionStyleModel",
      "state": {
       "description_width": ""
      }
     },
     "78ef6ccc62894ea795a4dc4450fd20ff": {
      "model_module": "@jupyter-widgets/output",
      "model_module_version": "1.0.0",
      "model_name": "OutputModel",
      "state": {
       "layout": "IPY_MODEL_595dea99108c48049763d02e576c716d",
       "outputs": [
        {
         "name": "stdout",
         "output_type": "stream",
         "text": "\nAQIDBAA=\n\nAQIDBA==\n"
        }
       ]
      }
     },
     "79a7ac04f2e1417994b6c5d82b0c3aa2": {
      "model_module": "@jupyter-widgets/controls",
      "model_module_version": "1.2.0",
      "model_name": "TextModel",
      "state": {
       "layout": "IPY_MODEL_fbd6f6d7fed343c2b8a6a3cb0e454197",
       "style": "IPY_MODEL_b5fb2a931a8a4352bfef288a2ea212bf",
       "value": "010203042255"
      }
     },
     "79abd761ec2648008eb4e21ee6be4552": {
      "model_module": "@jupyter-widgets/base",
      "model_module_version": "1.0.0",
      "model_name": "LayoutModel",
      "state": {}
     },
     "7bb4f1118e5349259247bedf293aae95": {
      "model_module": "@jupyter-widgets/output",
      "model_module_version": "1.0.0",
      "model_name": "OutputModel",
      "state": {
       "layout": "IPY_MODEL_69d47c4a351745c7a4ed0c55f2d1ecca",
       "outputs": [
        {
         "name": "stdout",
         "output_type": "stream",
         "text": "\nAQIDBIg=\n\nAQIDBIiZ\n\nAQIDBIiZiA==\n\nAQIDBIiZ\n\nAQIDBIg=\n\nAQIDBA==\n"
        }
       ]
      }
     },
     "831047333dc44e9f9d6f58903c466e87": {
      "model_module": "@jupyter-widgets/base",
      "model_module_version": "1.0.0",
      "model_name": "LayoutModel",
      "state": {}
     },
     "83c3e0c605a74c979479d093d1f79b7a": {
      "model_module": "@jupyter-widgets/base",
      "model_module_version": "1.0.0",
      "model_name": "LayoutModel",
      "state": {}
     },
     "86dc65bf6417469a8775b9134eebd190": {
      "model_module": "@jupyter-widgets/base",
      "model_module_version": "1.0.0",
      "model_name": "LayoutModel",
      "state": {}
     },
     "86f47a183fdd42758c90d1fffef5d5e4": {
      "model_module": "@jupyter-widgets/controls",
      "model_module_version": "1.2.0",
      "model_name": "TextModel",
      "state": {
       "layout": "IPY_MODEL_d693b991e994412cb723b8cd5d45f411",
       "style": "IPY_MODEL_a23663419adc42ff9d0ce9c589582270",
       "value": "01020304888888888888"
      }
     },
     "89f41a35503640ebb71ee287ee0d2fbb": {
      "model_module": "@jupyter-widgets/base",
      "model_module_version": "1.0.0",
      "model_name": "LayoutModel",
      "state": {}
     },
     "8aae4f1de01340eda05df4430ca5e917": {
      "model_module": "@jupyter-widgets/controls",
      "model_module_version": "1.2.0",
      "model_name": "TextModel",
      "state": {
       "layout": "IPY_MODEL_5cdb96318cfb4469b545305aa62365f2",
       "style": "IPY_MODEL_994a4aa575b144d39fcacc97efd4f8a2",
       "value": "AQIDBCJV"
      }
     },
     "9090962105fd409dad57e9a69dd03878": {
      "model_module": "@jupyter-widgets/base",
      "model_module_version": "1.0.0",
      "model_name": "LayoutModel",
      "state": {}
     },
     "91eeaa4bfc7f4252874ca76db3cc7524": {
      "model_module": "@jupyter-widgets/base",
      "model_module_version": "1.0.0",
      "model_name": "LayoutModel",
      "state": {}
     },
     "97ce09ecf8e14b8f95680118feab19df": {
      "model_module": "@jupyter-widgets/controls",
      "model_module_version": "1.2.0",
      "model_name": "DescriptionStyleModel",
      "state": {
       "description_width": ""
      }
     },
     "981a390056a74615b3e27416644df5d5": {
      "model_module": "@jupyter-widgets/base",
      "model_module_version": "1.0.0",
      "model_name": "LayoutModel",
      "state": {}
     },
     "994a4aa575b144d39fcacc97efd4f8a2": {
      "model_module": "@jupyter-widgets/controls",
      "model_module_version": "1.2.0",
      "model_name": "DescriptionStyleModel",
      "state": {
       "description_width": ""
      }
     },
     "9c0772405478472982bfffa08bf83148": {
      "model_module": "@jupyter-widgets/controls",
      "model_module_version": "1.2.0",
      "model_name": "DescriptionStyleModel",
      "state": {
       "description_width": ""
      }
     },
     "a0e15a8b45534eb9b3d457e71ff68843": {
      "model_module": "@jupyter-widgets/controls",
      "model_module_version": "1.2.0",
      "model_name": "DescriptionStyleModel",
      "state": {
       "description_width": ""
      }
     },
     "a1efc04edaad46eb9eda24afd75a2b4f": {
      "model_module": "@jupyter-widgets/base",
      "model_module_version": "1.0.0",
      "model_name": "LayoutModel",
      "state": {}
     },
     "a23663419adc42ff9d0ce9c589582270": {
      "model_module": "@jupyter-widgets/controls",
      "model_module_version": "1.2.0",
      "model_name": "DescriptionStyleModel",
      "state": {
       "description_width": ""
      }
     },
     "b2c3179f6a584831879de8f0b179dcc7": {
      "model_module": "@jupyter-widgets/controls",
      "model_module_version": "1.2.0",
      "model_name": "DescriptionStyleModel",
      "state": {
       "description_width": ""
      }
     },
     "b5fb2a931a8a4352bfef288a2ea212bf": {
      "model_module": "@jupyter-widgets/controls",
      "model_module_version": "1.2.0",
      "model_name": "DescriptionStyleModel",
      "state": {
       "description_width": ""
      }
     },
     "bc8fb23552aa4a7aafaa93d1598c2b6b": {
      "model_module": "@jupyter-widgets/controls",
      "model_module_version": "1.2.0",
      "model_name": "TextModel",
      "state": {
       "layout": "IPY_MODEL_d828476fcb2a4eb88fa5b6f5851dedfe",
       "style": "IPY_MODEL_48939bc61922423580144b6e5d1a6348",
       "value": "01020304"
      }
     },
     "bd7d2517e80c4c72ad8297795efc06e1": {
      "model_module": "@jupyter-widgets/controls",
      "model_module_version": "1.2.0",
      "model_name": "DescriptionStyleModel",
      "state": {
       "description_width": ""
      }
     },
     "c75dec2959dc4cc38d04ad6cde28ab5a": {
      "model_module": "@jupyter-widgets/controls",
      "model_module_version": "1.2.0",
      "model_name": "TextModel",
      "state": {
       "layout": "IPY_MODEL_a1efc04edaad46eb9eda24afd75a2b4f",
       "style": "IPY_MODEL_f600ab00642940d7a87b61e2b47b2d2f",
       "value": "AQIDBA=="
      }
     },
     "cbdbcffd021e4ea88008a6d539e1a46e": {
      "model_module": "@jupyter-widgets/controls",
      "model_module_version": "1.2.0",
      "model_name": "TextModel",
      "state": {
       "layout": "IPY_MODEL_79abd761ec2648008eb4e21ee6be4552",
       "style": "IPY_MODEL_7742fff0cd0448d2a9b1ac0f1a10934e",
       "value": "01020304"
      }
     },
     "cca841994d314f3190ec37f71c2fa20c": {
      "model_module": "@jupyter-widgets/base",
      "model_module_version": "1.0.0",
      "model_name": "LayoutModel",
      "state": {}
     },
     "cd66a8bd51804e4da25dc28af9f66329": {
      "model_module": "@jupyter-widgets/controls",
      "model_module_version": "1.2.0",
      "model_name": "DescriptionStyleModel",
      "state": {
       "description_width": ""
      }
     },
     "d309357e0d7f432eaa0bec6bc5a4aff7": {
      "model_module": "@jupyter-widgets/controls",
      "model_module_version": "1.2.0",
      "model_name": "LabelModel",
      "state": {
       "layout": "IPY_MODEL_9090962105fd409dad57e9a69dd03878",
       "style": "IPY_MODEL_9c0772405478472982bfffa08bf83148",
       "value": "OK"
      }
     },
     "d50b384a7ce344cd91f3340376c27a2a": {
      "model_module": "@jupyter-widgets/controls",
      "model_module_version": "1.2.0",
      "model_name": "LabelModel",
      "state": {
       "layout": "IPY_MODEL_cca841994d314f3190ec37f71c2fa20c",
       "style": "IPY_MODEL_13890b15e0a2419b92dddb01cfbcb802",
       "value": "OK"
      }
     },
     "d693b991e994412cb723b8cd5d45f411": {
      "model_module": "@jupyter-widgets/base",
      "model_module_version": "1.0.0",
      "model_name": "LayoutModel",
      "state": {}
     },
     "d828476fcb2a4eb88fa5b6f5851dedfe": {
      "model_module": "@jupyter-widgets/base",
      "model_module_version": "1.0.0",
      "model_name": "LayoutModel",
      "state": {}
     },
     "d8542043b9b7458491d8d4f9108743dc": {
      "model_module": "@jupyter-widgets/controls",
      "model_module_version": "1.2.0",
      "model_name": "TextModel",
      "state": {
       "layout": "IPY_MODEL_0743810a1c6441fca4d973f3b2751a14",
       "style": "IPY_MODEL_b2c3179f6a584831879de8f0b179dcc7",
       "value": "AQIDBA=="
      }
     },
     "da0bcb7e50f6424f98fdb95f4bdef70e": {
      "model_module": "@jupyter-widgets/controls",
      "model_module_version": "1.2.0",
      "model_name": "TextModel",
      "state": {
       "layout": "IPY_MODEL_18ed3952576b4555bf553e3a66577478",
       "style": "IPY_MODEL_5cd2816951b1420e8e82073fcde2d968",
       "value": "AQIDBA=="
      }
     },
     "ddd96d91544a441aa4cc91266adaf515": {
      "model_module": "@jupyter-widgets/output",
      "model_module_version": "1.0.0",
      "model_name": "OutputModel",
      "state": {
       "layout": "IPY_MODEL_3c98574c135c478c879008ad0383d762",
       "outputs": [
        {
         "name": "stdout",
         "output_type": "stream",
         "text": "\nAQIDBCI=\n\nAQIDBCJV\n"
        }
       ]
      }
     },
     "dfe4f45888274c15872bec8de74cb64c": {
      "model_module": "@jupyter-widgets/controls",
      "model_module_version": "1.2.0",
      "model_name": "LabelModel",
      "state": {
       "layout": "IPY_MODEL_1c4656330bda42fda39a9b3828e32c16",
       "style": "IPY_MODEL_4d2975457bd14449a4e23a2634c9325b",
       "value": "OK"
      }
     },
     "e47e0d3d02804deea41f6b5d89cc6927": {
      "model_module": "@jupyter-widgets/base",
      "model_module_version": "1.0.0",
      "model_name": "LayoutModel",
      "state": {}
     },
     "e4d3d9fe7acc4d328f85533486e4b3a5": {
      "model_module": "@jupyter-widgets/controls",
      "model_module_version": "1.2.0",
      "model_name": "DescriptionStyleModel",
      "state": {
       "description_width": ""
      }
     },
     "e97adcea8ad5456ca09ea2adc0f1c031": {
      "model_module": "@jupyter-widgets/controls",
      "model_module_version": "1.2.0",
      "model_name": "TextModel",
      "state": {
       "layout": "IPY_MODEL_5a788356a0f044d68f7b51976e9f8d33",
       "style": "IPY_MODEL_23425a4a0f7e410780380587398f70f9",
       "value": "AQIDBA=="
      }
     },
     "ea51abf0af094fab85bcdec91a35b333": {
      "model_module": "@jupyter-widgets/controls",
      "model_module_version": "1.2.0",
      "model_name": "TextModel",
      "state": {
       "layout": "IPY_MODEL_5a641c91ad5c4c79b6455812eac8aa29",
       "style": "IPY_MODEL_18cfc76e8c69496b82a674c65e3ddede",
       "value": "01020304"
      }
     },
     "efd02d5aa9ec487d839cb01afe35102c": {
      "model_module": "@jupyter-widgets/base",
      "model_module_version": "1.0.0",
      "model_name": "LayoutModel",
      "state": {}
     },
     "f10a737e066349afa42708ad3eb9a99f": {
      "model_module": "@jupyter-widgets/controls",
      "model_module_version": "1.2.0",
      "model_name": "DescriptionStyleModel",
      "state": {
       "description_width": ""
      }
     },
     "f52ff6a4537d4e00b611fd7453cc30c9": {
      "model_module": "@jupyter-widgets/controls",
      "model_module_version": "1.2.0",
      "model_name": "TextModel",
      "state": {
       "layout": "IPY_MODEL_2bc4103c26f04aeb87629e7e609b9b88",
       "style": "IPY_MODEL_bd7d2517e80c4c72ad8297795efc06e1",
       "value": "AQIDBA=="
      }
     },
     "f5e9380ae4a94fe88a390b0a5c22b9f2": {
      "model_module": "@jupyter-widgets/controls",
      "model_module_version": "1.2.0",
      "model_name": "LabelModel",
      "state": {
       "layout": "IPY_MODEL_86dc65bf6417469a8775b9134eebd190",
       "style": "IPY_MODEL_f10a737e066349afa42708ad3eb9a99f",
       "value": "OK"
      }
     },
     "f600ab00642940d7a87b61e2b47b2d2f": {
      "model_module": "@jupyter-widgets/controls",
      "model_module_version": "1.2.0",
      "model_name": "DescriptionStyleModel",
      "state": {
       "description_width": ""
      }
     },
     "f873dff4959e462a9ad4bc95bf73fe3b": {
      "model_module": "@jupyter-widgets/base",
      "model_module_version": "1.0.0",
      "model_name": "LayoutModel",
      "state": {}
     },
     "fa27db31d91241fc8406702a80db393b": {
      "model_module": "@jupyter-widgets/controls",
      "model_module_version": "1.2.0",
      "model_name": "LabelModel",
      "state": {
       "layout": "IPY_MODEL_91eeaa4bfc7f4252874ca76db3cc7524",
       "style": "IPY_MODEL_a0e15a8b45534eb9b3d457e71ff68843",
       "value": "OK"
      }
     },
     "fbd6f6d7fed343c2b8a6a3cb0e454197": {
      "model_module": "@jupyter-widgets/base",
      "model_module_version": "1.0.0",
      "model_name": "LayoutModel",
      "state": {}
     }
    },
    "version_major": 2,
    "version_minor": 0
   }
  }
 },
 "nbformat": 4,
 "nbformat_minor": 2
}
