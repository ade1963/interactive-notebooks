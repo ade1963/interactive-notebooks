{
 "cells": [
  {
   "cell_type": "code",
   "execution_count": 1,
   "metadata": {},
   "outputs": [],
   "source": [
    "from __future__ import print_function\n",
    "from ipywidgets import interact, interactive, fixed, interact_manual, VBox\n",
    "import ipywidgets as widgets"
   ]
  },
  {
   "cell_type": "code",
   "execution_count": 2,
   "metadata": {},
   "outputs": [],
   "source": [
    "import codecs\n",
    "\n",
    "def hex2base64(hex_str):\n",
    "    b64_str=''\n",
    "    err='OK'\n",
    "    try: \n",
    "        b64_str = codecs.encode(codecs.decode(hex_str, 'hex'), 'base64').decode()\n",
    "    except:\n",
    "        err='Error, hex string contains only numbers'\n",
    "    return b64_str.strip(), err \n"
   ]
  },
  {
   "cell_type": "code",
   "execution_count": 3,
   "metadata": {},
   "outputs": [
    {
     "data": {
      "application/vnd.jupyter.widget-view+json": {
       "model_id": "443734c4512241ecaf836f27866e1e80",
       "version_major": 2,
       "version_minor": 0
      },
      "text/plain": [
       "VBox(children=(Text(value='01020304'), Text(value='AQIDBA=='), Label(value='OK')))"
      ]
     },
     "metadata": {},
     "output_type": "display_data"
    }
   ],
   "source": [
    "hexText = widgets.Text(value='01020304')\n",
    "b64, err = hex2base64(hexText.value)\n",
    "b64Text = widgets.Text(value=b64)\n",
    "errLabel = widgets.Label(value=err)\n",
    "#output = widgets.Output()\n",
    "#@output.capture()\n",
    "def handle_hex_change(change):\n",
    "    b64Text.value, errLabel.value = hex2base64(change.new)\n",
    "    #print(b64Text.value)\n",
    "\n",
    "hexText.observe(handle_hex_change, 'value')\n",
    "\n",
    "display(VBox([hexText, b64Text, errLabel]))\n",
    "#display(output)"
   ]
  },
  {
   "cell_type": "code",
   "execution_count": null,
   "metadata": {},
   "outputs": [],
   "source": []
  }
 ],
 "metadata": {
  "kernelspec": {
   "display_name": "Python 3",
   "language": "python",
   "name": "python3"
  },
  "language_info": {
   "codemirror_mode": {
    "name": "ipython",
    "version": 3
   },
   "file_extension": ".py",
   "mimetype": "text/x-python",
   "name": "python",
   "nbconvert_exporter": "python",
   "pygments_lexer": "ipython3",
   "version": "3.6.5"
  },
  "widgets": {
   "application/vnd.jupyter.widget-state+json": {
    "state": {
     "068d9d97ece24d7080988d8554a48993": {
      "model_module": "@jupyter-widgets/controls",
      "model_module_version": "1.2.0",
      "model_name": "DescriptionStyleModel",
      "state": {
       "description_width": ""
      }
     },
     "0743810a1c6441fca4d973f3b2751a14": {
      "model_module": "@jupyter-widgets/base",
      "model_module_version": "1.0.0",
      "model_name": "LayoutModel",
      "state": {}
     },
     "0788d5f7ef4a4589b8141f935a536178": {
      "model_module": "@jupyter-widgets/controls",
      "model_module_version": "1.2.0",
      "model_name": "TextModel",
      "state": {
       "layout": "IPY_MODEL_4b3daf1d3bbd44908b8ed34380356caf",
       "style": "IPY_MODEL_4c8ecb49583047f0bb6b8c6ce6c93810",
       "value": "AQIDBA=="
      }
     },
     "0b15a7b97402428a9f4c681f73e1b694": {
      "model_module": "@jupyter-widgets/controls",
      "model_module_version": "1.2.0",
      "model_name": "DescriptionStyleModel",
      "state": {
       "description_width": ""
      }
     },
     "0c19eb25fca5425d9a8b212992bc2d24": {
      "model_module": "@jupyter-widgets/base",
      "model_module_version": "1.0.0",
      "model_name": "LayoutModel",
      "state": {}
     },
     "13890b15e0a2419b92dddb01cfbcb802": {
      "model_module": "@jupyter-widgets/controls",
      "model_module_version": "1.2.0",
      "model_name": "DescriptionStyleModel",
      "state": {
       "description_width": ""
      }
     },
     "19101ffd499645e5aed63558f412ec87": {
      "model_module": "@jupyter-widgets/base",
      "model_module_version": "1.0.0",
      "model_name": "LayoutModel",
      "state": {}
     },
     "1c4656330bda42fda39a9b3828e32c16": {
      "model_module": "@jupyter-widgets/base",
      "model_module_version": "1.0.0",
      "model_name": "LayoutModel",
      "state": {}
     },
     "21906bd8f8c04a54b618e446ed2770e4": {
      "model_module": "@jupyter-widgets/controls",
      "model_module_version": "1.2.0",
      "model_name": "LabelModel",
      "state": {
       "layout": "IPY_MODEL_19101ffd499645e5aed63558f412ec87",
       "style": "IPY_MODEL_97ce09ecf8e14b8f95680118feab19df",
       "value": "OK"
      }
     },
     "2bc4103c26f04aeb87629e7e609b9b88": {
      "model_module": "@jupyter-widgets/base",
      "model_module_version": "1.0.0",
      "model_name": "LayoutModel",
      "state": {}
     },
     "3e2b935ef4dd4c11b9bb85ef18e609a4": {
      "model_module": "@jupyter-widgets/base",
      "model_module_version": "1.0.0",
      "model_name": "LayoutModel",
      "state": {}
     },
     "443734c4512241ecaf836f27866e1e80": {
      "model_module": "@jupyter-widgets/controls",
      "model_module_version": "1.2.0",
      "model_name": "VBoxModel",
      "state": {
       "children": [
        "IPY_MODEL_bc8fb23552aa4a7aafaa93d1598c2b6b",
        "IPY_MODEL_0788d5f7ef4a4589b8141f935a536178",
        "IPY_MODEL_dfe4f45888274c15872bec8de74cb64c"
       ],
       "layout": "IPY_MODEL_3e2b935ef4dd4c11b9bb85ef18e609a4"
      }
     },
     "48939bc61922423580144b6e5d1a6348": {
      "model_module": "@jupyter-widgets/controls",
      "model_module_version": "1.2.0",
      "model_name": "DescriptionStyleModel",
      "state": {
       "description_width": ""
      }
     },
     "4b3daf1d3bbd44908b8ed34380356caf": {
      "model_module": "@jupyter-widgets/base",
      "model_module_version": "1.0.0",
      "model_name": "LayoutModel",
      "state": {}
     },
     "4c8ecb49583047f0bb6b8c6ce6c93810": {
      "model_module": "@jupyter-widgets/controls",
      "model_module_version": "1.2.0",
      "model_name": "DescriptionStyleModel",
      "state": {
       "description_width": ""
      }
     },
     "4d2975457bd14449a4e23a2634c9325b": {
      "model_module": "@jupyter-widgets/controls",
      "model_module_version": "1.2.0",
      "model_name": "DescriptionStyleModel",
      "state": {
       "description_width": ""
      }
     },
     "532d6d9741d24504b3d30fb12712b6ef": {
      "model_module": "@jupyter-widgets/controls",
      "model_module_version": "1.2.0",
      "model_name": "LabelModel",
      "state": {
       "layout": "IPY_MODEL_89f41a35503640ebb71ee287ee0d2fbb",
       "style": "IPY_MODEL_e4d3d9fe7acc4d328f85533486e4b3a5",
       "value": "OK"
      }
     },
     "57b8e7b036b347749746923b34a2b555": {
      "model_module": "@jupyter-widgets/controls",
      "model_module_version": "1.2.0",
      "model_name": "TextModel",
      "state": {
       "layout": "IPY_MODEL_efd02d5aa9ec487d839cb01afe35102c",
       "style": "IPY_MODEL_068d9d97ece24d7080988d8554a48993",
       "value": "01020304"
      }
     },
     "6823ade667664712858da381f1b17f06": {
      "model_module": "@jupyter-widgets/controls",
      "model_module_version": "1.2.0",
      "model_name": "TextModel",
      "state": {
       "layout": "IPY_MODEL_e47e0d3d02804deea41f6b5d89cc6927",
       "style": "IPY_MODEL_0b15a7b97402428a9f4c681f73e1b694",
       "value": "01020304"
      }
     },
     "695bc637b13141ceae7f78f04e6ebda8": {
      "model_module": "@jupyter-widgets/output",
      "model_module_version": "1.0.0",
      "model_name": "OutputModel",
      "state": {
       "layout": "IPY_MODEL_f873dff4959e462a9ad4bc95bf73fe3b"
      }
     },
     "69d47c4a351745c7a4ed0c55f2d1ecca": {
      "model_module": "@jupyter-widgets/base",
      "model_module_version": "1.0.0",
      "model_name": "LayoutModel",
      "state": {}
     },
     "6efb40144cf146ecae199a0f7cf1c62f": {
      "model_module": "@jupyter-widgets/controls",
      "model_module_version": "1.2.0",
      "model_name": "VBoxModel",
      "state": {
       "children": [
        "IPY_MODEL_6823ade667664712858da381f1b17f06",
        "IPY_MODEL_f52ff6a4537d4e00b611fd7453cc30c9",
        "IPY_MODEL_d50b384a7ce344cd91f3340376c27a2a"
       ],
       "layout": "IPY_MODEL_981a390056a74615b3e27416644df5d5"
      }
     },
     "71184d93ae15452a9d7b8246996778e4": {
      "model_module": "@jupyter-widgets/controls",
      "model_module_version": "1.2.0",
      "model_name": "DescriptionStyleModel",
      "state": {
       "description_width": ""
      }
     },
     "73719d31eb754e5a80b29c5939828507": {
      "model_module": "@jupyter-widgets/controls",
      "model_module_version": "1.2.0",
      "model_name": "TextModel",
      "state": {
       "layout": "IPY_MODEL_0c19eb25fca5425d9a8b212992bc2d24",
       "style": "IPY_MODEL_71184d93ae15452a9d7b8246996778e4",
       "value": "AQIDBIiIiIiIiA=="
      }
     },
     "7742fff0cd0448d2a9b1ac0f1a10934e": {
      "model_module": "@jupyter-widgets/controls",
      "model_module_version": "1.2.0",
      "model_name": "DescriptionStyleModel",
      "state": {
       "description_width": ""
      }
     },
     "79abd761ec2648008eb4e21ee6be4552": {
      "model_module": "@jupyter-widgets/base",
      "model_module_version": "1.0.0",
      "model_name": "LayoutModel",
      "state": {}
     },
     "7bb4f1118e5349259247bedf293aae95": {
      "model_module": "@jupyter-widgets/output",
      "model_module_version": "1.0.0",
      "model_name": "OutputModel",
      "state": {
       "layout": "IPY_MODEL_69d47c4a351745c7a4ed0c55f2d1ecca",
       "outputs": [
        {
         "name": "stdout",
         "output_type": "stream",
         "text": "\nAQIDBIg=\n\nAQIDBIiZ\n\nAQIDBIiZiA==\n\nAQIDBIiZ\n\nAQIDBIg=\n\nAQIDBA==\n"
        }
       ]
      }
     },
     "86f47a183fdd42758c90d1fffef5d5e4": {
      "model_module": "@jupyter-widgets/controls",
      "model_module_version": "1.2.0",
      "model_name": "TextModel",
      "state": {
       "layout": "IPY_MODEL_d693b991e994412cb723b8cd5d45f411",
       "style": "IPY_MODEL_a23663419adc42ff9d0ce9c589582270",
       "value": "01020304888888888888"
      }
     },
     "89f41a35503640ebb71ee287ee0d2fbb": {
      "model_module": "@jupyter-widgets/base",
      "model_module_version": "1.0.0",
      "model_name": "LayoutModel",
      "state": {}
     },
     "91eeaa4bfc7f4252874ca76db3cc7524": {
      "model_module": "@jupyter-widgets/base",
      "model_module_version": "1.0.0",
      "model_name": "LayoutModel",
      "state": {}
     },
     "97ce09ecf8e14b8f95680118feab19df": {
      "model_module": "@jupyter-widgets/controls",
      "model_module_version": "1.2.0",
      "model_name": "DescriptionStyleModel",
      "state": {
       "description_width": ""
      }
     },
     "981a390056a74615b3e27416644df5d5": {
      "model_module": "@jupyter-widgets/base",
      "model_module_version": "1.0.0",
      "model_name": "LayoutModel",
      "state": {}
     },
     "a0e15a8b45534eb9b3d457e71ff68843": {
      "model_module": "@jupyter-widgets/controls",
      "model_module_version": "1.2.0",
      "model_name": "DescriptionStyleModel",
      "state": {
       "description_width": ""
      }
     },
     "a1efc04edaad46eb9eda24afd75a2b4f": {
      "model_module": "@jupyter-widgets/base",
      "model_module_version": "1.0.0",
      "model_name": "LayoutModel",
      "state": {}
     },
     "a23663419adc42ff9d0ce9c589582270": {
      "model_module": "@jupyter-widgets/controls",
      "model_module_version": "1.2.0",
      "model_name": "DescriptionStyleModel",
      "state": {
       "description_width": ""
      }
     },
     "b2c3179f6a584831879de8f0b179dcc7": {
      "model_module": "@jupyter-widgets/controls",
      "model_module_version": "1.2.0",
      "model_name": "DescriptionStyleModel",
      "state": {
       "description_width": ""
      }
     },
     "bc8fb23552aa4a7aafaa93d1598c2b6b": {
      "model_module": "@jupyter-widgets/controls",
      "model_module_version": "1.2.0",
      "model_name": "TextModel",
      "state": {
       "layout": "IPY_MODEL_d828476fcb2a4eb88fa5b6f5851dedfe",
       "style": "IPY_MODEL_48939bc61922423580144b6e5d1a6348",
       "value": "01020304"
      }
     },
     "bd7d2517e80c4c72ad8297795efc06e1": {
      "model_module": "@jupyter-widgets/controls",
      "model_module_version": "1.2.0",
      "model_name": "DescriptionStyleModel",
      "state": {
       "description_width": ""
      }
     },
     "c75dec2959dc4cc38d04ad6cde28ab5a": {
      "model_module": "@jupyter-widgets/controls",
      "model_module_version": "1.2.0",
      "model_name": "TextModel",
      "state": {
       "layout": "IPY_MODEL_a1efc04edaad46eb9eda24afd75a2b4f",
       "style": "IPY_MODEL_f600ab00642940d7a87b61e2b47b2d2f",
       "value": "AQIDBA=="
      }
     },
     "cbdbcffd021e4ea88008a6d539e1a46e": {
      "model_module": "@jupyter-widgets/controls",
      "model_module_version": "1.2.0",
      "model_name": "TextModel",
      "state": {
       "layout": "IPY_MODEL_79abd761ec2648008eb4e21ee6be4552",
       "style": "IPY_MODEL_7742fff0cd0448d2a9b1ac0f1a10934e",
       "value": "01020304"
      }
     },
     "cca841994d314f3190ec37f71c2fa20c": {
      "model_module": "@jupyter-widgets/base",
      "model_module_version": "1.0.0",
      "model_name": "LayoutModel",
      "state": {}
     },
     "d50b384a7ce344cd91f3340376c27a2a": {
      "model_module": "@jupyter-widgets/controls",
      "model_module_version": "1.2.0",
      "model_name": "LabelModel",
      "state": {
       "layout": "IPY_MODEL_cca841994d314f3190ec37f71c2fa20c",
       "style": "IPY_MODEL_13890b15e0a2419b92dddb01cfbcb802",
       "value": "OK"
      }
     },
     "d693b991e994412cb723b8cd5d45f411": {
      "model_module": "@jupyter-widgets/base",
      "model_module_version": "1.0.0",
      "model_name": "LayoutModel",
      "state": {}
     },
     "d828476fcb2a4eb88fa5b6f5851dedfe": {
      "model_module": "@jupyter-widgets/base",
      "model_module_version": "1.0.0",
      "model_name": "LayoutModel",
      "state": {}
     },
     "d8542043b9b7458491d8d4f9108743dc": {
      "model_module": "@jupyter-widgets/controls",
      "model_module_version": "1.2.0",
      "model_name": "TextModel",
      "state": {
       "layout": "IPY_MODEL_0743810a1c6441fca4d973f3b2751a14",
       "style": "IPY_MODEL_b2c3179f6a584831879de8f0b179dcc7",
       "value": "AQIDBA=="
      }
     },
     "dfe4f45888274c15872bec8de74cb64c": {
      "model_module": "@jupyter-widgets/controls",
      "model_module_version": "1.2.0",
      "model_name": "LabelModel",
      "state": {
       "layout": "IPY_MODEL_1c4656330bda42fda39a9b3828e32c16",
       "style": "IPY_MODEL_4d2975457bd14449a4e23a2634c9325b",
       "value": "OK"
      }
     },
     "e47e0d3d02804deea41f6b5d89cc6927": {
      "model_module": "@jupyter-widgets/base",
      "model_module_version": "1.0.0",
      "model_name": "LayoutModel",
      "state": {}
     },
     "e4d3d9fe7acc4d328f85533486e4b3a5": {
      "model_module": "@jupyter-widgets/controls",
      "model_module_version": "1.2.0",
      "model_name": "DescriptionStyleModel",
      "state": {
       "description_width": ""
      }
     },
     "efd02d5aa9ec487d839cb01afe35102c": {
      "model_module": "@jupyter-widgets/base",
      "model_module_version": "1.0.0",
      "model_name": "LayoutModel",
      "state": {}
     },
     "f52ff6a4537d4e00b611fd7453cc30c9": {
      "model_module": "@jupyter-widgets/controls",
      "model_module_version": "1.2.0",
      "model_name": "TextModel",
      "state": {
       "layout": "IPY_MODEL_2bc4103c26f04aeb87629e7e609b9b88",
       "style": "IPY_MODEL_bd7d2517e80c4c72ad8297795efc06e1",
       "value": "AQIDBA=="
      }
     },
     "f600ab00642940d7a87b61e2b47b2d2f": {
      "model_module": "@jupyter-widgets/controls",
      "model_module_version": "1.2.0",
      "model_name": "DescriptionStyleModel",
      "state": {
       "description_width": ""
      }
     },
     "f873dff4959e462a9ad4bc95bf73fe3b": {
      "model_module": "@jupyter-widgets/base",
      "model_module_version": "1.0.0",
      "model_name": "LayoutModel",
      "state": {}
     },
     "fa27db31d91241fc8406702a80db393b": {
      "model_module": "@jupyter-widgets/controls",
      "model_module_version": "1.2.0",
      "model_name": "LabelModel",
      "state": {
       "layout": "IPY_MODEL_91eeaa4bfc7f4252874ca76db3cc7524",
       "style": "IPY_MODEL_a0e15a8b45534eb9b3d457e71ff68843",
       "value": "OK"
      }
     }
    },
    "version_major": 2,
    "version_minor": 0
   }
  }
 },
 "nbformat": 4,
 "nbformat_minor": 2
}
