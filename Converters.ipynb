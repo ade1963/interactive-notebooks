{
 "cells": [
  {
   "cell_type": "code",
   "execution_count": 1,
   "metadata": {},
   "outputs": [],
   "source": [
    "from __future__ import print_function\n",
    "from ipywidgets import interact, interactive, fixed, interact_manual\n",
    "import ipywidgets as widgets"
   ]
  },
  {
   "cell_type": "code",
   "execution_count": 2,
   "metadata": {},
   "outputs": [],
   "source": [
    "import codecs\n",
    "\n",
    "def hex2base64(hex_str):\n",
    "    b64_str=''\n",
    "    err='OK'\n",
    "    try: \n",
    "        b64_str = codecs.encode(codecs.decode(hex_str, 'hex'), 'base64').decode()\n",
    "    except:\n",
    "        err='Error, hex string contains only numbers'\n",
    "    return b64_str.strip(), err \n"
   ]
  },
  {
   "cell_type": "code",
   "execution_count": 3,
   "metadata": {},
   "outputs": [
    {
     "data": {
      "application/vnd.jupyter.widget-view+json": {
       "model_id": "4cd66e5537b44d288c0d4ea1c39b36ac",
       "version_major": 2,
       "version_minor": 0
      },
      "text/plain": [
       "Text(value='01020304')"
      ]
     },
     "metadata": {},
     "output_type": "display_data"
    },
    {
     "data": {
      "application/vnd.jupyter.widget-view+json": {
       "model_id": "5efadeb96ea24062a3ad3c444c6ef05b",
       "version_major": 2,
       "version_minor": 0
      },
      "text/plain": [
       "Text(value='AQIDBA==')"
      ]
     },
     "metadata": {},
     "output_type": "display_data"
    },
    {
     "data": {
      "application/vnd.jupyter.widget-view+json": {
       "model_id": "578206f01d3a40349aa86ab7f37c9705",
       "version_major": 2,
       "version_minor": 0
      },
      "text/plain": [
       "Label(value='OK')"
      ]
     },
     "metadata": {},
     "output_type": "display_data"
    }
   ],
   "source": [
    "hexText = widgets.Text(value='01020304')\n",
    "b64, err = hex2base64(hexText.value)\n",
    "b64Text = widgets.Text(value=b64)\n",
    "errLabel = widgets.Label(value=err)\n",
    "def handle_hex_change(change):\n",
    "    b64Text.value, errLabel.value = hex2base64(change.new)\n",
    "\n",
    "hexText.observe(handle_hex_change, names='value')\n",
    "\n",
    "display(hexText, b64Text, errLabel)"
   ]
  }
 ],
 "metadata": {
  "kernelspec": {
   "display_name": "Python 3",
   "language": "python",
   "name": "python3"
  },
  "language_info": {
   "codemirror_mode": {
    "name": "ipython",
    "version": 3
   },
   "file_extension": ".py",
   "mimetype": "text/x-python",
   "name": "python",
   "nbconvert_exporter": "python",
   "pygments_lexer": "ipython3",
   "version": "3.6.5"
  },
  "widgets": {
   "application/vnd.jupyter.widget-state+json": {
    "state": {
     "01d749fda2ae4c8499c5d97d1e0088e9": {
      "model_module": "@jupyter-widgets/base",
      "model_module_version": "1.0.0",
      "model_name": "LayoutModel",
      "state": {}
     },
     "02e10e2c116c440dae72d48ff3d2737e": {
      "model_module": "@jupyter-widgets/controls",
      "model_module_version": "1.2.0",
      "model_name": "TextModel",
      "state": {
       "layout": "IPY_MODEL_99bf127d7a6143c9bb94dbd87fed515b",
       "style": "IPY_MODEL_4e463878673a47afa61af6514f8e3b0b",
       "value": "AQIDBA=="
      }
     },
     "078e692718584106958cd60d32e966d3": {
      "model_module": "@jupyter-widgets/controls",
      "model_module_version": "1.2.0",
      "model_name": "DescriptionStyleModel",
      "state": {
       "description_width": ""
      }
     },
     "099236e2ed334e22a2b05d5550927438": {
      "model_module": "@jupyter-widgets/controls",
      "model_module_version": "1.2.0",
      "model_name": "TextModel",
      "state": {
       "description": "x",
       "layout": "IPY_MODEL_4283785cff884d09affb3bf17351b7f4",
       "style": "IPY_MODEL_f9f62155e13846c0b52cbf6fe16d1e72",
       "value": "01020304"
      }
     },
     "0a95e84e32154c71828c46c6f1eff91c": {
      "model_module": "@jupyter-widgets/controls",
      "model_module_version": "1.2.0",
      "model_name": "LabelModel",
      "state": {
       "layout": "IPY_MODEL_01d749fda2ae4c8499c5d97d1e0088e9",
       "style": "IPY_MODEL_b33dfda179fa4e5b862e9471503ae981",
       "value": "base64"
      }
     },
     "0baee9203ebe46a2b12d794369da1b14": {
      "model_module": "@jupyter-widgets/controls",
      "model_module_version": "1.2.0",
      "model_name": "TextModel",
      "state": {
       "description": "x",
       "layout": "IPY_MODEL_3e49834b26d943a1b7a52bcc3638f0f6",
       "style": "IPY_MODEL_39433e2f46b54b239cf85ccc0afd9679",
       "value": "01020309"
      }
     },
     "0d707af4a4694a6387f5bdbdcf4428d5": {
      "model_module": "@jupyter-widgets/base",
      "model_module_version": "1.0.0",
      "model_name": "LayoutModel",
      "state": {}
     },
     "0f1447f91d104f128bab960403386e51": {
      "model_module": "@jupyter-widgets/controls",
      "model_module_version": "1.2.0",
      "model_name": "LabelModel",
      "state": {
       "layout": "IPY_MODEL_87bd7d96c4024b76ad4d7c8ea1e5968d",
       "style": "IPY_MODEL_c4542ca71e0b4f5ba674cc6892fbb513",
       "value": "OK"
      }
     },
     "0f1f56101c874829b19a7536d46d87df": {
      "model_module": "@jupyter-widgets/controls",
      "model_module_version": "1.2.0",
      "model_name": "DescriptionStyleModel",
      "state": {
       "description_width": ""
      }
     },
     "0f38e58b693e405b83428456dab010b9": {
      "model_module": "@jupyter-widgets/base",
      "model_module_version": "1.0.0",
      "model_name": "LayoutModel",
      "state": {}
     },
     "0fbf643eba664e1b838e1c977bb2f4a0": {
      "model_module": "@jupyter-widgets/controls",
      "model_module_version": "1.2.0",
      "model_name": "DescriptionStyleModel",
      "state": {
       "description_width": ""
      }
     },
     "15b6e11dc6e2411e8924f7b3098a9c3d": {
      "model_module": "@jupyter-widgets/controls",
      "model_module_version": "1.2.0",
      "model_name": "IntSliderModel",
      "state": {
       "description": "Slider",
       "layout": "IPY_MODEL_ed90dc92104048ebba69efcd3791977a",
       "max": 5,
       "min": -5,
       "style": "IPY_MODEL_c3deb551b6b04e94810d02011c602486",
       "value": -5
      }
     },
     "15df47fb50aa4f60844036f8058470e8": {
      "model_module": "@jupyter-widgets/controls",
      "model_module_version": "1.2.0",
      "model_name": "TextModel",
      "state": {
       "layout": "IPY_MODEL_1f150978d95f41c188b94167c114c70d",
       "style": "IPY_MODEL_26202fc0741f43adaa92095fdb0780aa",
       "value": "01020304"
      }
     },
     "1757e3c8b27a4770a0b92f959932b00d": {
      "model_module": "@jupyter-widgets/controls",
      "model_module_version": "1.2.0",
      "model_name": "DescriptionStyleModel",
      "state": {
       "description_width": ""
      }
     },
     "17651a328aa3427cbdf4d9ac1f17efe0": {
      "model_module": "@jupyter-widgets/controls",
      "model_module_version": "1.2.0",
      "model_name": "DescriptionStyleModel",
      "state": {
       "description_width": ""
      }
     },
     "183ebf34f755401eb5e9dcc0ea41d4b9": {
      "model_module": "@jupyter-widgets/controls",
      "model_module_version": "1.2.0",
      "model_name": "DescriptionStyleModel",
      "state": {
       "description_width": ""
      }
     },
     "189b2c44de4348ba9f1a0365dea43ceb": {
      "model_module": "@jupyter-widgets/controls",
      "model_module_version": "1.2.0",
      "model_name": "DescriptionStyleModel",
      "state": {
       "description_width": ""
      }
     },
     "1b29d9877acc4aa68458c5f291753619": {
      "model_module": "@jupyter-widgets/output",
      "model_module_version": "1.0.0",
      "model_name": "OutputModel",
      "state": {
       "layout": "IPY_MODEL_8f66a6f008744522a791cfb83d59f695",
       "outputs": [
        {
         "data": {
          "text/plain": "'010203'"
         },
         "metadata": {},
         "output_type": "display_data"
        }
       ]
      }
     },
     "1ba8458410e3416a9d945545fbfd6920": {
      "model_module": "@jupyter-widgets/controls",
      "model_module_version": "1.2.0",
      "model_name": "TextModel",
      "state": {
       "description": "x",
       "layout": "IPY_MODEL_423967abaa7b49d980a9c8878e224e18",
       "style": "IPY_MODEL_183ebf34f755401eb5e9dcc0ea41d4b9",
       "value": "010203"
      }
     },
     "1c20f852fcf44631a4cab7220628b30e": {
      "model_module": "@jupyter-widgets/controls",
      "model_module_version": "1.2.0",
      "model_name": "VBoxModel",
      "state": {
       "_dom_classes": [
        "widget-interact"
       ],
       "children": [
        "IPY_MODEL_099236e2ed334e22a2b05d5550927438",
        "IPY_MODEL_dca53aa436d944b2b270773af7bf34bc"
       ],
       "layout": "IPY_MODEL_c7e18f7a7b134c0fb538be5e85e0c4e6"
      }
     },
     "1c380ad87cd645738cce06faa7075c4f": {
      "model_module": "@jupyter-widgets/base",
      "model_module_version": "1.0.0",
      "model_name": "LayoutModel",
      "state": {}
     },
     "1d4af84aab85485f8423f0f18ff54e75": {
      "model_module": "@jupyter-widgets/controls",
      "model_module_version": "1.2.0",
      "model_name": "DescriptionStyleModel",
      "state": {
       "description_width": ""
      }
     },
     "1f150978d95f41c188b94167c114c70d": {
      "model_module": "@jupyter-widgets/base",
      "model_module_version": "1.0.0",
      "model_name": "LayoutModel",
      "state": {}
     },
     "1fa67f4d3e4e4131815c26b634a6434d": {
      "model_module": "@jupyter-widgets/controls",
      "model_module_version": "1.2.0",
      "model_name": "DescriptionStyleModel",
      "state": {
       "description_width": ""
      }
     },
     "21e7e8d9d04d4ff392db34fc9b0c7a68": {
      "model_module": "@jupyter-widgets/controls",
      "model_module_version": "1.2.0",
      "model_name": "TextModel",
      "state": {
       "layout": "IPY_MODEL_e3b2070687fc4f29aec7a717ae87333f",
       "style": "IPY_MODEL_3864771313a64a8a8ee8030060872143",
       "value": "sssss"
      }
     },
     "21ffcbeb297a4e4fa2f1222360e43f4b": {
      "model_module": "@jupyter-widgets/controls",
      "model_module_version": "1.2.0",
      "model_name": "TextModel",
      "state": {
       "layout": "IPY_MODEL_7713aa4c98c84217b38543c3aeac2123",
       "style": "IPY_MODEL_0f1f56101c874829b19a7536d46d87df",
       "value": "010203040999999999"
      }
     },
     "22289642527b49cb9573b234f44151ac": {
      "model_module": "@jupyter-widgets/controls",
      "model_module_version": "1.2.0",
      "model_name": "DescriptionStyleModel",
      "state": {
       "description_width": ""
      }
     },
     "2442a669037e48f6be7acd00da8b3582": {
      "model_module": "@jupyter-widgets/controls",
      "model_module_version": "1.2.0",
      "model_name": "TextModel",
      "state": {
       "layout": "IPY_MODEL_31fcf51e2ea3468a92608d90d5d1ed66",
       "style": "IPY_MODEL_d0c22c392204492aa7d93d3d8003583b",
       "value": "0102030409"
      }
     },
     "25a4d7dde17c4574aea223d748dcf037": {
      "model_module": "@jupyter-widgets/controls",
      "model_module_version": "1.2.0",
      "model_name": "TextModel",
      "state": {
       "layout": "IPY_MODEL_0d707af4a4694a6387f5bdbdcf4428d5",
       "style": "IPY_MODEL_22289642527b49cb9573b234f44151ac",
       "value": "qqq"
      }
     },
     "26202fc0741f43adaa92095fdb0780aa": {
      "model_module": "@jupyter-widgets/controls",
      "model_module_version": "1.2.0",
      "model_name": "DescriptionStyleModel",
      "state": {
       "description_width": ""
      }
     },
     "26b33eb9d93d4291a94b7697bdad6e12": {
      "model_module": "@jupyter-widgets/base",
      "model_module_version": "1.0.0",
      "model_name": "LayoutModel",
      "state": {}
     },
     "26c389864c7146ee8716d6db90ec780e": {
      "model_module": "@jupyter-widgets/controls",
      "model_module_version": "1.2.0",
      "model_name": "DescriptionStyleModel",
      "state": {
       "description_width": ""
      }
     },
     "29a6680b187d4965ab97f025c9728e19": {
      "model_module": "@jupyter-widgets/controls",
      "model_module_version": "1.2.0",
      "model_name": "DescriptionStyleModel",
      "state": {
       "description_width": ""
      }
     },
     "2fbf60a06e914288a7324d1408caba55": {
      "model_module": "@jupyter-widgets/output",
      "model_module_version": "1.0.0",
      "model_name": "OutputModel",
      "state": {
       "layout": "IPY_MODEL_a5f96ea6f8534b1183cd0298d8eb1354",
       "outputs": [
        {
         "data": {
          "text/plain": "'010203'"
         },
         "metadata": {},
         "output_type": "display_data"
        }
       ]
      }
     },
     "31fcf51e2ea3468a92608d90d5d1ed66": {
      "model_module": "@jupyter-widgets/base",
      "model_module_version": "1.0.0",
      "model_name": "LayoutModel",
      "state": {}
     },
     "32294851938f40ee94704d9cd8f5de39": {
      "model_module": "@jupyter-widgets/base",
      "model_module_version": "1.0.0",
      "model_name": "LayoutModel",
      "state": {}
     },
     "3370777c31c64da0bff607adcaf2adaf": {
      "model_module": "@jupyter-widgets/base",
      "model_module_version": "1.0.0",
      "model_name": "LayoutModel",
      "state": {}
     },
     "33738cc52b2844309d951dbeef6509c8": {
      "model_module": "@jupyter-widgets/base",
      "model_module_version": "1.0.0",
      "model_name": "LayoutModel",
      "state": {}
     },
     "37c6c0c299d24cd6af4472777fafe1f4": {
      "model_module": "@jupyter-widgets/controls",
      "model_module_version": "1.2.0",
      "model_name": "DescriptionStyleModel",
      "state": {
       "description_width": ""
      }
     },
     "37e8ac3493524b78a30ff00565c5d9a9": {
      "model_module": "@jupyter-widgets/base",
      "model_module_version": "1.0.0",
      "model_name": "LayoutModel",
      "state": {}
     },
     "3864771313a64a8a8ee8030060872143": {
      "model_module": "@jupyter-widgets/controls",
      "model_module_version": "1.2.0",
      "model_name": "DescriptionStyleModel",
      "state": {
       "description_width": ""
      }
     },
     "39433e2f46b54b239cf85ccc0afd9679": {
      "model_module": "@jupyter-widgets/controls",
      "model_module_version": "1.2.0",
      "model_name": "DescriptionStyleModel",
      "state": {
       "description_width": ""
      }
     },
     "3ac9ffd47c2c417e965e72fc75371230": {
      "model_module": "@jupyter-widgets/base",
      "model_module_version": "1.0.0",
      "model_name": "LayoutModel",
      "state": {}
     },
     "3bacfbca5a2b4ed89c38a05fb721d0d2": {
      "model_module": "@jupyter-widgets/controls",
      "model_module_version": "1.2.0",
      "model_name": "DescriptionStyleModel",
      "state": {
       "description_width": ""
      }
     },
     "3e1c8a61203c4f4e8e8cb82eccfd75f9": {
      "model_module": "@jupyter-widgets/controls",
      "model_module_version": "1.2.0",
      "model_name": "TextModel",
      "state": {
       "layout": "IPY_MODEL_82e1a1a30d23446fa1a8e42227d5f5d4",
       "style": "IPY_MODEL_9b72c1b859bb4f6a9723b5bd845a9ada"
      }
     },
     "3e49834b26d943a1b7a52bcc3638f0f6": {
      "model_module": "@jupyter-widgets/base",
      "model_module_version": "1.0.0",
      "model_name": "LayoutModel",
      "state": {}
     },
     "3edbf6cfd7964e22af1c032644d5b5ba": {
      "model_module": "@jupyter-widgets/controls",
      "model_module_version": "1.2.0",
      "model_name": "TextModel",
      "state": {
       "layout": "IPY_MODEL_7242c046ed7040dd93e0d721462f6ea9",
       "style": "IPY_MODEL_078e692718584106958cd60d32e966d3",
       "value": "0102030489jjjjj"
      }
     },
     "3f82c846ee4247039739bbc18b81aac7": {
      "model_module": "@jupyter-widgets/controls",
      "model_module_version": "1.2.0",
      "model_name": "TextModel",
      "state": {
       "layout": "IPY_MODEL_4819e6ea918b4779bf4ff10472c59439",
       "style": "IPY_MODEL_e273ecc56d064173888eec99f5ff5356",
       "value": "sssss"
      }
     },
     "40c3623f4beb4a2ca745390ebc2998cc": {
      "model_module": "@jupyter-widgets/controls",
      "model_module_version": "1.2.0",
      "model_name": "DescriptionStyleModel",
      "state": {
       "description_width": ""
      }
     },
     "415683e8c6984022b3702701f3288e35": {
      "model_module": "@jupyter-widgets/controls",
      "model_module_version": "1.2.0",
      "model_name": "LabelModel",
      "state": {
       "layout": "IPY_MODEL_5e272c38af244badae3bf9eb1e503e88",
       "style": "IPY_MODEL_a5ffbbfdbf444ba2af05558cf44ee7a1",
       "value": "base64"
      }
     },
     "423967abaa7b49d980a9c8878e224e18": {
      "model_module": "@jupyter-widgets/base",
      "model_module_version": "1.0.0",
      "model_name": "LayoutModel",
      "state": {}
     },
     "425fb903325245f8935b889df14d50e1": {
      "model_module": "@jupyter-widgets/controls",
      "model_module_version": "1.2.0",
      "model_name": "TextModel",
      "state": {
       "layout": "IPY_MODEL_57764f9bb6b04153aab3c7108553322a",
       "style": "IPY_MODEL_29a6680b187d4965ab97f025c9728e19",
       "value": "0102030408"
      }
     },
     "4283785cff884d09affb3bf17351b7f4": {
      "model_module": "@jupyter-widgets/base",
      "model_module_version": "1.0.0",
      "model_name": "LayoutModel",
      "state": {}
     },
     "42969e488f684dd5a00e226b85838ae2": {
      "model_module": "@jupyter-widgets/base",
      "model_module_version": "1.0.0",
      "model_name": "LayoutModel",
      "state": {}
     },
     "429812f7ccda43c2bd95e6031ba928d0": {
      "model_module": "@jupyter-widgets/controls",
      "model_module_version": "1.2.0",
      "model_name": "LabelModel",
      "state": {
       "layout": "IPY_MODEL_67bf3ec836784b49aec000362a2d64e3",
       "style": "IPY_MODEL_3bacfbca5a2b4ed89c38a05fb721d0d2",
       "value": "OK"
      }
     },
     "42a17375e37144139bb6607470f9f68a": {
      "model_module": "@jupyter-widgets/base",
      "model_module_version": "1.0.0",
      "model_name": "LayoutModel",
      "state": {}
     },
     "42c42b2d0a4f4ab482dede6188290d9f": {
      "model_module": "@jupyter-widgets/controls",
      "model_module_version": "1.2.0",
      "model_name": "DescriptionStyleModel",
      "state": {
       "description_width": ""
      }
     },
     "4819e6ea918b4779bf4ff10472c59439": {
      "model_module": "@jupyter-widgets/base",
      "model_module_version": "1.0.0",
      "model_name": "LayoutModel",
      "state": {}
     },
     "4c3ef24a40a74e6e9a771df814b65124": {
      "model_module": "@jupyter-widgets/base",
      "model_module_version": "1.0.0",
      "model_name": "LayoutModel",
      "state": {}
     },
     "4cd66e5537b44d288c0d4ea1c39b36ac": {
      "model_module": "@jupyter-widgets/controls",
      "model_module_version": "1.2.0",
      "model_name": "TextModel",
      "state": {
       "layout": "IPY_MODEL_e244189f3da3429ca65edb3c6bfc6123",
       "style": "IPY_MODEL_b93c86a930c843d390cba75b8a68c8f7",
       "value": "01020304"
      }
     },
     "4e463878673a47afa61af6514f8e3b0b": {
      "model_module": "@jupyter-widgets/controls",
      "model_module_version": "1.2.0",
      "model_name": "DescriptionStyleModel",
      "state": {
       "description_width": ""
      }
     },
     "4f00cecfb80e49fcb69ce2d03ed1b1d3": {
      "model_module": "@jupyter-widgets/controls",
      "model_module_version": "1.2.0",
      "model_name": "DescriptionStyleModel",
      "state": {
       "description_width": ""
      }
     },
     "4fde4b4fd70c4015ba78afd2317b026e": {
      "model_module": "@jupyter-widgets/controls",
      "model_module_version": "1.2.0",
      "model_name": "TextModel",
      "state": {
       "layout": "IPY_MODEL_adcc3ee7905240788c116ee450373b0d",
       "style": "IPY_MODEL_7bfe4255ae01446cb2ba5eb69493a126",
       "value": "AQIDBA=="
      }
     },
     "50882cf591db44dab8c85330e291146c": {
      "model_module": "@jupyter-widgets/controls",
      "model_module_version": "1.2.0",
      "model_name": "TextModel",
      "state": {
       "layout": "IPY_MODEL_f055c10169d84e92912dc5ecad4748c2",
       "style": "IPY_MODEL_6ca24747f4534c2ea0d0614628725ebc"
      }
     },
     "52ae4dad48ec4a7095a9a76c81849dc8": {
      "model_module": "@jupyter-widgets/base",
      "model_module_version": "1.0.0",
      "model_name": "LayoutModel",
      "state": {}
     },
     "53a2afb242984964a07252d6898549f2": {
      "model_module": "@jupyter-widgets/base",
      "model_module_version": "1.0.0",
      "model_name": "LayoutModel",
      "state": {}
     },
     "553bd482ee764bd68820894165fea9d8": {
      "model_module": "@jupyter-widgets/controls",
      "model_module_version": "1.2.0",
      "model_name": "TextModel",
      "state": {
       "layout": "IPY_MODEL_6de627972f824c069f114400145ced99",
       "style": "IPY_MODEL_b8ff097c716d4d988b96a66c5bf7442a",
       "value": "0102030405"
      }
     },
     "57764f9bb6b04153aab3c7108553322a": {
      "model_module": "@jupyter-widgets/base",
      "model_module_version": "1.0.0",
      "model_name": "LayoutModel",
      "state": {}
     },
     "578206f01d3a40349aa86ab7f37c9705": {
      "model_module": "@jupyter-widgets/controls",
      "model_module_version": "1.2.0",
      "model_name": "LabelModel",
      "state": {
       "layout": "IPY_MODEL_58dfa7df77454eebb38c0f01f92914cc",
       "style": "IPY_MODEL_0fbf643eba664e1b838e1c977bb2f4a0",
       "value": "OK"
      }
     },
     "58dfa7df77454eebb38c0f01f92914cc": {
      "model_module": "@jupyter-widgets/base",
      "model_module_version": "1.0.0",
      "model_name": "LayoutModel",
      "state": {}
     },
     "594e2e280fa747e887b3e57a96a487e0": {
      "model_module": "@jupyter-widgets/controls",
      "model_module_version": "1.2.0",
      "model_name": "DescriptionStyleModel",
      "state": {
       "description_width": ""
      }
     },
     "5a1db959ad1c46a0859090d822e28468": {
      "model_module": "@jupyter-widgets/output",
      "model_module_version": "1.0.0",
      "model_name": "OutputModel",
      "state": {
       "layout": "IPY_MODEL_fd9b0843eca04fdf96b301556747cd49",
       "outputs": [
        {
         "data": {
          "text/plain": "'010203'"
         },
         "metadata": {},
         "output_type": "display_data"
        }
       ]
      }
     },
     "5c9890db51e0468b932e624fd38fb6ec": {
      "model_module": "@jupyter-widgets/base",
      "model_module_version": "1.0.0",
      "model_name": "LayoutModel",
      "state": {}
     },
     "5e272c38af244badae3bf9eb1e503e88": {
      "model_module": "@jupyter-widgets/base",
      "model_module_version": "1.0.0",
      "model_name": "LayoutModel",
      "state": {}
     },
     "5efadeb96ea24062a3ad3c444c6ef05b": {
      "model_module": "@jupyter-widgets/controls",
      "model_module_version": "1.2.0",
      "model_name": "TextModel",
      "state": {
       "layout": "IPY_MODEL_8794143e41d34ec5ae33c1d96b92e123",
       "style": "IPY_MODEL_6ac244ab80e344b5a8f6e972e9dd7c27",
       "value": "AQIDBA=="
      }
     },
     "60dad043e86e4f92b2c42c3c55f1ffd9": {
      "model_module": "@jupyter-widgets/base",
      "model_module_version": "1.0.0",
      "model_name": "LayoutModel",
      "state": {}
     },
     "61492b38804940d1b1e338bb0b3151a6": {
      "model_module": "@jupyter-widgets/base",
      "model_module_version": "1.0.0",
      "model_name": "LayoutModel",
      "state": {}
     },
     "67bf3ec836784b49aec000362a2d64e3": {
      "model_module": "@jupyter-widgets/base",
      "model_module_version": "1.0.0",
      "model_name": "LayoutModel",
      "state": {}
     },
     "69ffc7d288754b1db11be975fcc3b98a": {
      "model_module": "@jupyter-widgets/output",
      "model_module_version": "1.0.0",
      "model_name": "OutputModel",
      "state": {
       "layout": "IPY_MODEL_88b852719e864ed9bff189d6bbf2692b",
       "outputs": [
        {
         "data": {
          "text/plain": "'010203'"
         },
         "metadata": {},
         "output_type": "display_data"
        }
       ]
      }
     },
     "6ac244ab80e344b5a8f6e972e9dd7c27": {
      "model_module": "@jupyter-widgets/controls",
      "model_module_version": "1.2.0",
      "model_name": "DescriptionStyleModel",
      "state": {
       "description_width": ""
      }
     },
     "6ca24747f4534c2ea0d0614628725ebc": {
      "model_module": "@jupyter-widgets/controls",
      "model_module_version": "1.2.0",
      "model_name": "DescriptionStyleModel",
      "state": {
       "description_width": ""
      }
     },
     "6d9ee6f2ca0e433589fa88a1597f5db8": {
      "model_module": "@jupyter-widgets/base",
      "model_module_version": "1.0.0",
      "model_name": "LayoutModel",
      "state": {}
     },
     "6de627972f824c069f114400145ced99": {
      "model_module": "@jupyter-widgets/base",
      "model_module_version": "1.0.0",
      "model_name": "LayoutModel",
      "state": {}
     },
     "7242c046ed7040dd93e0d721462f6ea9": {
      "model_module": "@jupyter-widgets/base",
      "model_module_version": "1.0.0",
      "model_name": "LayoutModel",
      "state": {}
     },
     "76a1ab5111ec4f2eb7372040412a0bc0": {
      "model_module": "@jupyter-widgets/base",
      "model_module_version": "1.0.0",
      "model_name": "LayoutModel",
      "state": {}
     },
     "7713aa4c98c84217b38543c3aeac2123": {
      "model_module": "@jupyter-widgets/base",
      "model_module_version": "1.0.0",
      "model_name": "LayoutModel",
      "state": {}
     },
     "771a23d99a264785af216c5df56ab569": {
      "model_module": "@jupyter-widgets/base",
      "model_module_version": "1.0.0",
      "model_name": "LayoutModel",
      "state": {}
     },
     "79fe6d11395043ff80429394a64ab903": {
      "model_module": "@jupyter-widgets/controls",
      "model_module_version": "1.2.0",
      "model_name": "TextModel",
      "state": {
       "layout": "IPY_MODEL_76a1ab5111ec4f2eb7372040412a0bc0",
       "style": "IPY_MODEL_c313eff3672449838c8bd01898ca3d9d",
       "value": "01020304"
      }
     },
     "7a15cf0afdf9480e8145bc04ebb4a329": {
      "model_module": "@jupyter-widgets/controls",
      "model_module_version": "1.2.0",
      "model_name": "DescriptionStyleModel",
      "state": {
       "description_width": ""
      }
     },
     "7bfe4255ae01446cb2ba5eb69493a126": {
      "model_module": "@jupyter-widgets/controls",
      "model_module_version": "1.2.0",
      "model_name": "DescriptionStyleModel",
      "state": {
       "description_width": ""
      }
     },
     "7c52e3be383f487aa362c9a4eb1b64f7": {
      "model_module": "@jupyter-widgets/base",
      "model_module_version": "1.0.0",
      "model_name": "LayoutModel",
      "state": {}
     },
     "80a32da1f2664c66bd830c0be0d7fe42": {
      "model_module": "@jupyter-widgets/controls",
      "model_module_version": "1.2.0",
      "model_name": "TextModel",
      "state": {
       "layout": "IPY_MODEL_32294851938f40ee94704d9cd8f5de39",
       "style": "IPY_MODEL_a3a1deaa7fe84403bc390198e20df31f",
       "value": "AQIDBA=="
      }
     },
     "81ba4d36fcc548379461f4aa1e4e6613": {
      "model_module": "@jupyter-widgets/controls",
      "model_module_version": "1.2.0",
      "model_name": "TextModel",
      "state": {
       "layout": "IPY_MODEL_8a0b905653ba4f7d88853d63a42a27a0",
       "style": "IPY_MODEL_1d4af84aab85485f8423f0f18ff54e75",
       "value": "0102030405"
      }
     },
     "82e1a1a30d23446fa1a8e42227d5f5d4": {
      "model_module": "@jupyter-widgets/base",
      "model_module_version": "1.0.0",
      "model_name": "LayoutModel",
      "state": {}
     },
     "84f880802ea44ff7a5dcee0d2fe42365": {
      "model_module": "@jupyter-widgets/controls",
      "model_module_version": "1.2.0",
      "model_name": "TextModel",
      "state": {
       "description": "x",
       "layout": "IPY_MODEL_90ad56eab9c64b9d92634ff6e08ee79e",
       "style": "IPY_MODEL_40c3623f4beb4a2ca745390ebc2998cc",
       "value": "010203"
      }
     },
     "8794143e41d34ec5ae33c1d96b92e123": {
      "model_module": "@jupyter-widgets/base",
      "model_module_version": "1.0.0",
      "model_name": "LayoutModel",
      "state": {}
     },
     "87bd7d96c4024b76ad4d7c8ea1e5968d": {
      "model_module": "@jupyter-widgets/base",
      "model_module_version": "1.0.0",
      "model_name": "LayoutModel",
      "state": {}
     },
     "88b852719e864ed9bff189d6bbf2692b": {
      "model_module": "@jupyter-widgets/base",
      "model_module_version": "1.0.0",
      "model_name": "LayoutModel",
      "state": {}
     },
     "8a0b905653ba4f7d88853d63a42a27a0": {
      "model_module": "@jupyter-widgets/base",
      "model_module_version": "1.0.0",
      "model_name": "LayoutModel",
      "state": {}
     },
     "8cb11044f64646f0930ca9222ff00b52": {
      "model_module": "@jupyter-widgets/controls",
      "model_module_version": "1.2.0",
      "model_name": "LabelModel",
      "state": {
       "layout": "IPY_MODEL_9cb9e362c16a41a2bb842043b97891c1",
       "style": "IPY_MODEL_1fa67f4d3e4e4131815c26b634a6434d",
       "value": "OK"
      }
     },
     "8d668379a3f64feda8dd5a1f245667ad": {
      "model_module": "@jupyter-widgets/base",
      "model_module_version": "1.0.0",
      "model_name": "LayoutModel",
      "state": {}
     },
     "8e3d431f421d4cebb45a1ee9ec6653f6": {
      "model_module": "@jupyter-widgets/base",
      "model_module_version": "1.0.0",
      "model_name": "LayoutModel",
      "state": {}
     },
     "8e6c423a44a245e1a82ce939c57fce4c": {
      "model_module": "@jupyter-widgets/controls",
      "model_module_version": "1.2.0",
      "model_name": "VBoxModel",
      "state": {
       "_dom_classes": [
        "widget-interact"
       ],
       "children": [
        "IPY_MODEL_92318d9ab5814ff1b2ad7e6d132d7c14",
        "IPY_MODEL_69ffc7d288754b1db11be975fcc3b98a"
       ],
       "layout": "IPY_MODEL_6d9ee6f2ca0e433589fa88a1597f5db8"
      }
     },
     "8f66a6f008744522a791cfb83d59f695": {
      "model_module": "@jupyter-widgets/base",
      "model_module_version": "1.0.0",
      "model_name": "LayoutModel",
      "state": {}
     },
     "90ad56eab9c64b9d92634ff6e08ee79e": {
      "model_module": "@jupyter-widgets/base",
      "model_module_version": "1.0.0",
      "model_name": "LayoutModel",
      "state": {}
     },
     "92318d9ab5814ff1b2ad7e6d132d7c14": {
      "model_module": "@jupyter-widgets/controls",
      "model_module_version": "1.2.0",
      "model_name": "TextModel",
      "state": {
       "description": "x",
       "layout": "IPY_MODEL_7c52e3be383f487aa362c9a4eb1b64f7",
       "style": "IPY_MODEL_fb999caf4b5141dcb59547ea23cc2488",
       "value": "010203"
      }
     },
     "924c348e78be4e5ebc666dccbf326995": {
      "model_module": "@jupyter-widgets/base",
      "model_module_version": "1.0.0",
      "model_name": "LayoutModel",
      "state": {}
     },
     "96b2080164564642806e5ce4479e6d78": {
      "model_module": "@jupyter-widgets/controls",
      "model_module_version": "1.2.0",
      "model_name": "DescriptionStyleModel",
      "state": {
       "description_width": ""
      }
     },
     "97a76922e8ab43f4ab49ef21a98a9cb9": {
      "model_module": "@jupyter-widgets/controls",
      "model_module_version": "1.2.0",
      "model_name": "VBoxModel",
      "state": {
       "_dom_classes": [
        "widget-interact"
       ],
       "children": [
        "IPY_MODEL_84f880802ea44ff7a5dcee0d2fe42365",
        "IPY_MODEL_e264afdbdd974af9995de0006fbdc585"
       ],
       "layout": "IPY_MODEL_924c348e78be4e5ebc666dccbf326995"
      }
     },
     "9845d13d38df4682b921f31e91a458e5": {
      "model_module": "@jupyter-widgets/controls",
      "model_module_version": "1.2.0",
      "model_name": "LinkModel",
      "state": {
       "source": [
        "IPY_MODEL_df2581faa56e4c768add2e838bfb0488",
        "value"
       ],
       "target": [
        "IPY_MODEL_25a4d7dde17c4574aea223d748dcf037",
        "value"
       ]
      }
     },
     "99bf127d7a6143c9bb94dbd87fed515b": {
      "model_module": "@jupyter-widgets/base",
      "model_module_version": "1.0.0",
      "model_name": "LayoutModel",
      "state": {}
     },
     "9aae0cb216ca4320a7528cd7f4a3b00c": {
      "model_module": "@jupyter-widgets/controls",
      "model_module_version": "1.2.0",
      "model_name": "LabelModel",
      "state": {
       "layout": "IPY_MODEL_cb110e7d8b844a9ebe991ada635a30e1",
       "style": "IPY_MODEL_b05e97e49ad1464a82916712b8a5fc2d",
       "value": "base64"
      }
     },
     "9b2dfd2808ee4260b84685c57c1ff11b": {
      "model_module": "@jupyter-widgets/controls",
      "model_module_version": "1.2.0",
      "model_name": "LabelModel",
      "state": {
       "layout": "IPY_MODEL_53a2afb242984964a07252d6898549f2",
       "style": "IPY_MODEL_ae42cb6f187f43238bebb149d51ebd16"
      }
     },
     "9b72c1b859bb4f6a9723b5bd845a9ada": {
      "model_module": "@jupyter-widgets/controls",
      "model_module_version": "1.2.0",
      "model_name": "DescriptionStyleModel",
      "state": {
       "description_width": ""
      }
     },
     "9cb9e362c16a41a2bb842043b97891c1": {
      "model_module": "@jupyter-widgets/base",
      "model_module_version": "1.0.0",
      "model_name": "LayoutModel",
      "state": {}
     },
     "a115d6d8126045cebfb7d68a982fd19b": {
      "model_module": "@jupyter-widgets/controls",
      "model_module_version": "1.2.0",
      "model_name": "DescriptionStyleModel",
      "state": {
       "description_width": ""
      }
     },
     "a3a1deaa7fe84403bc390198e20df31f": {
      "model_module": "@jupyter-widgets/controls",
      "model_module_version": "1.2.0",
      "model_name": "DescriptionStyleModel",
      "state": {
       "description_width": ""
      }
     },
     "a5856735d9124dee8136cc259220f480": {
      "model_module": "@jupyter-widgets/controls",
      "model_module_version": "1.2.0",
      "model_name": "LabelModel",
      "state": {
       "layout": "IPY_MODEL_60dad043e86e4f92b2c42c3c55f1ffd9",
       "style": "IPY_MODEL_1757e3c8b27a4770a0b92f959932b00d",
       "value": "AQIDBAl4"
      }
     },
     "a5b8794402554ae39a4e462076dd6d39": {
      "model_module": "@jupyter-widgets/controls",
      "model_module_version": "1.2.0",
      "model_name": "VBoxModel",
      "state": {
       "_dom_classes": [
        "widget-interact"
       ],
       "children": [
        "IPY_MODEL_dec68d21bdbe4ad2aba53513351a8bd5",
        "IPY_MODEL_5a1db959ad1c46a0859090d822e28468"
       ],
       "layout": "IPY_MODEL_37e8ac3493524b78a30ff00565c5d9a9"
      }
     },
     "a5f96ea6f8534b1183cd0298d8eb1354": {
      "model_module": "@jupyter-widgets/base",
      "model_module_version": "1.0.0",
      "model_name": "LayoutModel",
      "state": {}
     },
     "a5ffbbfdbf444ba2af05558cf44ee7a1": {
      "model_module": "@jupyter-widgets/controls",
      "model_module_version": "1.2.0",
      "model_name": "DescriptionStyleModel",
      "state": {
       "description_width": ""
      }
     },
     "a62f33143eec43d89cb776cec4f70cf3": {
      "model_module": "@jupyter-widgets/controls",
      "model_module_version": "1.2.0",
      "model_name": "LinkModel",
      "state": {
       "source": [
        "IPY_MODEL_21e7e8d9d04d4ff392db34fc9b0c7a68",
        "value"
       ],
       "target": [
        "IPY_MODEL_3f82c846ee4247039739bbc18b81aac7",
        "value"
       ]
      }
     },
     "a7551626e4ac4528ab29aea56310cceb": {
      "model_module": "@jupyter-widgets/controls",
      "model_module_version": "1.2.0",
      "model_name": "TextModel",
      "state": {
       "layout": "IPY_MODEL_42a17375e37144139bb6607470f9f68a",
       "style": "IPY_MODEL_96b2080164564642806e5ce4479e6d78",
       "value": "01020304"
      }
     },
     "a7c609fbaa2a4bd9806f7b90262b4bc4": {
      "model_module": "@jupyter-widgets/controls",
      "model_module_version": "1.2.0",
      "model_name": "LabelModel",
      "state": {
       "layout": "IPY_MODEL_3370777c31c64da0bff607adcaf2adaf",
       "style": "IPY_MODEL_37c6c0c299d24cd6af4472777fafe1f4",
       "value": "label"
      }
     },
     "adcc3ee7905240788c116ee450373b0d": {
      "model_module": "@jupyter-widgets/base",
      "model_module_version": "1.0.0",
      "model_name": "LayoutModel",
      "state": {}
     },
     "ae42cb6f187f43238bebb149d51ebd16": {
      "model_module": "@jupyter-widgets/controls",
      "model_module_version": "1.2.0",
      "model_name": "DescriptionStyleModel",
      "state": {
       "description_width": ""
      }
     },
     "af19ddfd43dd44898319138a43ea394a": {
      "model_module": "@jupyter-widgets/controls",
      "model_module_version": "1.2.0",
      "model_name": "LabelModel",
      "state": {
       "layout": "IPY_MODEL_8d668379a3f64feda8dd5a1f245667ad",
       "style": "IPY_MODEL_d20df720818841409b27c66289e2a3be",
       "value": "The slider value is negative"
      }
     },
     "b05e97e49ad1464a82916712b8a5fc2d": {
      "model_module": "@jupyter-widgets/controls",
      "model_module_version": "1.2.0",
      "model_name": "DescriptionStyleModel",
      "state": {
       "description_width": ""
      }
     },
     "b1c3d00d623f476783a82ba57383086d": {
      "model_module": "@jupyter-widgets/controls",
      "model_module_version": "1.2.0",
      "model_name": "DescriptionStyleModel",
      "state": {
       "description_width": ""
      }
     },
     "b33dfda179fa4e5b862e9471503ae981": {
      "model_module": "@jupyter-widgets/controls",
      "model_module_version": "1.2.0",
      "model_name": "DescriptionStyleModel",
      "state": {
       "description_width": ""
      }
     },
     "b51046d7b54a41f58f88104d28262d3d": {
      "model_module": "@jupyter-widgets/controls",
      "model_module_version": "1.2.0",
      "model_name": "DescriptionStyleModel",
      "state": {
       "description_width": ""
      }
     },
     "b73a641e40424e768a0e7967182105d1": {
      "model_module": "@jupyter-widgets/controls",
      "model_module_version": "1.2.0",
      "model_name": "DescriptionStyleModel",
      "state": {
       "description_width": ""
      }
     },
     "b8ff097c716d4d988b96a66c5bf7442a": {
      "model_module": "@jupyter-widgets/controls",
      "model_module_version": "1.2.0",
      "model_name": "DescriptionStyleModel",
      "state": {
       "description_width": ""
      }
     },
     "b93c86a930c843d390cba75b8a68c8f7": {
      "model_module": "@jupyter-widgets/controls",
      "model_module_version": "1.2.0",
      "model_name": "DescriptionStyleModel",
      "state": {
       "description_width": ""
      }
     },
     "b94e001f485b4d0fa7642a36782554e1": {
      "model_module": "@jupyter-widgets/base",
      "model_module_version": "1.0.0",
      "model_name": "LayoutModel",
      "state": {}
     },
     "b9e6009f606a4c7f989a9ae6867e4827": {
      "model_module": "@jupyter-widgets/controls",
      "model_module_version": "1.2.0",
      "model_name": "VBoxModel",
      "state": {
       "_dom_classes": [
        "widget-interact"
       ],
       "children": [
        "IPY_MODEL_1ba8458410e3416a9d945545fbfd6920",
        "IPY_MODEL_2fbf60a06e914288a7324d1408caba55"
       ],
       "layout": "IPY_MODEL_5c9890db51e0468b932e624fd38fb6ec"
      }
     },
     "bce0196e2d2f4ab5b1ac4e1731501ad4": {
      "model_module": "@jupyter-widgets/base",
      "model_module_version": "1.0.0",
      "model_name": "LayoutModel",
      "state": {}
     },
     "c03977c560544c5f8c2a4345f3b4e17b": {
      "model_module": "@jupyter-widgets/controls",
      "model_module_version": "1.2.0",
      "model_name": "TextModel",
      "state": {
       "layout": "IPY_MODEL_edc99a629dc443bfb363752850c36db7",
       "style": "IPY_MODEL_4f00cecfb80e49fcb69ce2d03ed1b1d3",
       "value": "AQIDBAmZmZmZ"
      }
     },
     "c313eff3672449838c8bd01898ca3d9d": {
      "model_module": "@jupyter-widgets/controls",
      "model_module_version": "1.2.0",
      "model_name": "DescriptionStyleModel",
      "state": {
       "description_width": ""
      }
     },
     "c3deb551b6b04e94810d02011c602486": {
      "model_module": "@jupyter-widgets/controls",
      "model_module_version": "1.2.0",
      "model_name": "SliderStyleModel",
      "state": {
       "description_width": ""
      }
     },
     "c4542ca71e0b4f5ba674cc6892fbb513": {
      "model_module": "@jupyter-widgets/controls",
      "model_module_version": "1.2.0",
      "model_name": "DescriptionStyleModel",
      "state": {
       "description_width": ""
      }
     },
     "c7e18f7a7b134c0fb538be5e85e0c4e6": {
      "model_module": "@jupyter-widgets/base",
      "model_module_version": "1.0.0",
      "model_name": "LayoutModel",
      "state": {}
     },
     "cb110e7d8b844a9ebe991ada635a30e1": {
      "model_module": "@jupyter-widgets/base",
      "model_module_version": "1.0.0",
      "model_name": "LayoutModel",
      "state": {}
     },
     "ccca849ead034951b4a251aec8954400": {
      "model_module": "@jupyter-widgets/controls",
      "model_module_version": "1.2.0",
      "model_name": "TextModel",
      "state": {
       "layout": "IPY_MODEL_42969e488f684dd5a00e226b85838ae2",
       "style": "IPY_MODEL_594e2e280fa747e887b3e57a96a487e0",
       "value": "010203040609"
      }
     },
     "d0c22c392204492aa7d93d3d8003583b": {
      "model_module": "@jupyter-widgets/controls",
      "model_module_version": "1.2.0",
      "model_name": "DescriptionStyleModel",
      "state": {
       "description_width": ""
      }
     },
     "d20df720818841409b27c66289e2a3be": {
      "model_module": "@jupyter-widgets/controls",
      "model_module_version": "1.2.0",
      "model_name": "DescriptionStyleModel",
      "state": {
       "description_width": ""
      }
     },
     "db09652c3de5414cadd74e1e7ee3e9c9": {
      "model_module": "@jupyter-widgets/controls",
      "model_module_version": "1.2.0",
      "model_name": "VBoxModel",
      "state": {
       "_dom_classes": [
        "widget-interact"
       ],
       "children": [
        "IPY_MODEL_e78cd1fa2e984562bd48126f53699b76",
        "IPY_MODEL_1b29d9877acc4aa68458c5f291753619"
       ],
       "layout": "IPY_MODEL_4c3ef24a40a74e6e9a771df814b65124"
      }
     },
     "dca53aa436d944b2b270773af7bf34bc": {
      "model_module": "@jupyter-widgets/output",
      "model_module_version": "1.0.0",
      "model_name": "OutputModel",
      "state": {
       "layout": "IPY_MODEL_1c380ad87cd645738cce06faa7075c4f",
       "outputs": [
        {
         "data": {
          "text/plain": "'01020304'"
         },
         "metadata": {},
         "output_type": "display_data"
        }
       ]
      }
     },
     "dec68d21bdbe4ad2aba53513351a8bd5": {
      "model_module": "@jupyter-widgets/controls",
      "model_module_version": "1.2.0",
      "model_name": "TextModel",
      "state": {
       "description": "x",
       "layout": "IPY_MODEL_52ae4dad48ec4a7095a9a76c81849dc8",
       "style": "IPY_MODEL_26c389864c7146ee8716d6db90ec780e",
       "value": "010203"
      }
     },
     "df2581faa56e4c768add2e838bfb0488": {
      "model_module": "@jupyter-widgets/controls",
      "model_module_version": "1.2.0",
      "model_name": "TextModel",
      "state": {
       "layout": "IPY_MODEL_3ac9ffd47c2c417e965e72fc75371230",
       "style": "IPY_MODEL_b73a641e40424e768a0e7967182105d1",
       "value": "qqq"
      }
     },
     "dfb4ef2ba32644f1ad52077b97822823": {
      "model_module": "@jupyter-widgets/controls",
      "model_module_version": "1.2.0",
      "model_name": "DescriptionStyleModel",
      "state": {
       "description_width": ""
      }
     },
     "e069b841beb14190bb7dae6267e55684": {
      "model_module": "@jupyter-widgets/controls",
      "model_module_version": "1.2.0",
      "model_name": "LabelModel",
      "state": {
       "layout": "IPY_MODEL_0f38e58b693e405b83428456dab010b9",
       "style": "IPY_MODEL_17651a328aa3427cbdf4d9ac1f17efe0"
      }
     },
     "e244189f3da3429ca65edb3c6bfc6123": {
      "model_module": "@jupyter-widgets/base",
      "model_module_version": "1.0.0",
      "model_name": "LayoutModel",
      "state": {}
     },
     "e264afdbdd974af9995de0006fbdc585": {
      "model_module": "@jupyter-widgets/output",
      "model_module_version": "1.0.0",
      "model_name": "OutputModel",
      "state": {
       "layout": "IPY_MODEL_8e3d431f421d4cebb45a1ee9ec6653f6",
       "outputs": [
        {
         "data": {
          "text/plain": "'010203'"
         },
         "metadata": {},
         "output_type": "display_data"
        }
       ]
      }
     },
     "e273ecc56d064173888eec99f5ff5356": {
      "model_module": "@jupyter-widgets/controls",
      "model_module_version": "1.2.0",
      "model_name": "DescriptionStyleModel",
      "state": {
       "description_width": ""
      }
     },
     "e3b2070687fc4f29aec7a717ae87333f": {
      "model_module": "@jupyter-widgets/base",
      "model_module_version": "1.0.0",
      "model_name": "LayoutModel",
      "state": {}
     },
     "e3b766f51dad4e76a328874681243a2f": {
      "model_module": "@jupyter-widgets/base",
      "model_module_version": "1.0.0",
      "model_name": "LayoutModel",
      "state": {}
     },
     "e50f9222f8534d9f98f26cad37b693bb": {
      "model_module": "@jupyter-widgets/controls",
      "model_module_version": "1.2.0",
      "model_name": "TextModel",
      "state": {
       "layout": "IPY_MODEL_61492b38804940d1b1e338bb0b3151a6",
       "style": "IPY_MODEL_42c42b2d0a4f4ab482dede6188290d9f"
      }
     },
     "e5e27007b54e420fa870fff6e27a46ac": {
      "model_module": "@jupyter-widgets/base",
      "model_module_version": "1.0.0",
      "model_name": "LayoutModel",
      "state": {}
     },
     "e5f47b9988144f8e9979087280463909": {
      "model_module": "@jupyter-widgets/base",
      "model_module_version": "1.0.0",
      "model_name": "LayoutModel",
      "state": {}
     },
     "e78cd1fa2e984562bd48126f53699b76": {
      "model_module": "@jupyter-widgets/controls",
      "model_module_version": "1.2.0",
      "model_name": "TextModel",
      "state": {
       "description": "x",
       "layout": "IPY_MODEL_771a23d99a264785af216c5df56ab569",
       "style": "IPY_MODEL_189b2c44de4348ba9f1a0365dea43ceb",
       "value": "010203"
      }
     },
     "eb7a2bc15e72477897e0dc3be6a9685a": {
      "model_module": "@jupyter-widgets/controls",
      "model_module_version": "1.2.0",
      "model_name": "LabelModel",
      "state": {
       "layout": "IPY_MODEL_bce0196e2d2f4ab5b1ac4e1731501ad4",
       "style": "IPY_MODEL_7a15cf0afdf9480e8145bc04ebb4a329",
       "value": "01020309"
      }
     },
     "eca734aa47eb471b8a9bdd4f90631451": {
      "model_module": "@jupyter-widgets/controls",
      "model_module_version": "1.2.0",
      "model_name": "TextModel",
      "state": {
       "layout": "IPY_MODEL_33738cc52b2844309d951dbeef6509c8",
       "style": "IPY_MODEL_a115d6d8126045cebfb7d68a982fd19b",
       "value": "01020304"
      }
     },
     "ed90dc92104048ebba69efcd3791977a": {
      "model_module": "@jupyter-widgets/base",
      "model_module_version": "1.0.0",
      "model_name": "LayoutModel",
      "state": {}
     },
     "edc99a629dc443bfb363752850c36db7": {
      "model_module": "@jupyter-widgets/base",
      "model_module_version": "1.0.0",
      "model_name": "LayoutModel",
      "state": {}
     },
     "f055c10169d84e92912dc5ecad4748c2": {
      "model_module": "@jupyter-widgets/base",
      "model_module_version": "1.0.0",
      "model_name": "LayoutModel",
      "state": {}
     },
     "f0b86ac076d24ce5bf00120e9b5f4494": {
      "model_module": "@jupyter-widgets/controls",
      "model_module_version": "1.2.0",
      "model_name": "LabelModel",
      "state": {
       "layout": "IPY_MODEL_26b33eb9d93d4291a94b7697bdad6e12",
       "style": "IPY_MODEL_dfb4ef2ba32644f1ad52077b97822823",
       "value": "OK"
      }
     },
     "f118c852dc7643f98520a65f3c2b027d": {
      "model_module": "@jupyter-widgets/output",
      "model_module_version": "1.0.0",
      "model_name": "OutputModel",
      "state": {
       "layout": "IPY_MODEL_e5f47b9988144f8e9979087280463909",
       "outputs": [
        {
         "data": {
          "text/plain": "'01020309'"
         },
         "metadata": {},
         "output_type": "display_data"
        }
       ]
      }
     },
     "f57813d2c0b447738ef6e7e8672ad8e5": {
      "model_module": "@jupyter-widgets/controls",
      "model_module_version": "1.2.0",
      "model_name": "TextModel",
      "state": {
       "layout": "IPY_MODEL_e5e27007b54e420fa870fff6e27a46ac",
       "style": "IPY_MODEL_b51046d7b54a41f58f88104d28262d3d",
       "value": "01020304"
      }
     },
     "f93f49734e7048039fa79972098b4cda": {
      "model_module": "@jupyter-widgets/controls",
      "model_module_version": "1.2.0",
      "model_name": "TextModel",
      "state": {
       "layout": "IPY_MODEL_e3b766f51dad4e76a328874681243a2f",
       "style": "IPY_MODEL_b1c3d00d623f476783a82ba57383086d",
       "value": "010203040978"
      }
     },
     "f9f62155e13846c0b52cbf6fe16d1e72": {
      "model_module": "@jupyter-widgets/controls",
      "model_module_version": "1.2.0",
      "model_name": "DescriptionStyleModel",
      "state": {
       "description_width": ""
      }
     },
     "fb999caf4b5141dcb59547ea23cc2488": {
      "model_module": "@jupyter-widgets/controls",
      "model_module_version": "1.2.0",
      "model_name": "DescriptionStyleModel",
      "state": {
       "description_width": ""
      }
     },
     "fd1418e475684ea3b7b6f5f73778561e": {
      "model_module": "@jupyter-widgets/controls",
      "model_module_version": "1.2.0",
      "model_name": "VBoxModel",
      "state": {
       "_dom_classes": [
        "widget-interact"
       ],
       "children": [
        "IPY_MODEL_0baee9203ebe46a2b12d794369da1b14",
        "IPY_MODEL_f118c852dc7643f98520a65f3c2b027d"
       ],
       "layout": "IPY_MODEL_b94e001f485b4d0fa7642a36782554e1"
      }
     },
     "fd9b0843eca04fdf96b301556747cd49": {
      "model_module": "@jupyter-widgets/base",
      "model_module_version": "1.0.0",
      "model_name": "LayoutModel",
      "state": {}
     }
    },
    "version_major": 2,
    "version_minor": 0
   }
  }
 },
 "nbformat": 4,
 "nbformat_minor": 2
}
