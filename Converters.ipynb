{
 "cells": [
  {
   "cell_type": "code",
   "execution_count": 35,
   "metadata": {},
   "outputs": [],
   "source": [
    "from ipywidgets import interact, interactive, fixed, interact_manual\n",
    "import ipywidgets as widgets"
   ]
  },
  {
   "cell_type": "code",
   "execution_count": 38,
   "metadata": {},
   "outputs": [],
   "source": [
    "import codecs\n",
    "def hex2base64(hex_str):\n",
    "    err='OK'\n",
    "    b64_str=''\n",
    "    try: \n",
    "        b64_str = codecs.encode(codecs.decode(hex_str, 'hex'), 'base64').decode()\n",
    "    except:\n",
    "        err = 'Error, hex string contains only numbers'\n",
    "    return b64_str.strip(), err "
   ]
  },
  {
   "cell_type": "code",
   "execution_count": 39,
   "metadata": {},
   "outputs": [
    {
     "data": {
      "application/vnd.jupyter.widget-view+json": {
       "model_id": "fcd54197c6d541b2b8e6e91ab4001bb9",
       "version_major": 2,
       "version_minor": 0
      },
      "text/plain": [
       "interactive(children=(Text(value='010203', description='hex_str'), Output()), _dom_classes=('widget-interact',…"
      ]
     },
     "metadata": {},
     "output_type": "display_data"
    }
   ],
   "source": [
    "interact(hex2base64, hex_str='010203');"
   ]
  },
  {
   "cell_type": "code",
   "execution_count": null,
   "metadata": {},
   "outputs": [],
   "source": []
  },
  {
   "cell_type": "code",
   "execution_count": null,
   "metadata": {},
   "outputs": [],
   "source": []
  }
 ],
 "metadata": {
  "kernelspec": {
   "display_name": "Python 3",
   "language": "python",
   "name": "python3"
  },
  "language_info": {
   "codemirror_mode": {
    "name": "ipython",
    "version": 3
   },
   "file_extension": ".py",
   "mimetype": "text/x-python",
   "name": "python",
   "nbconvert_exporter": "python",
   "pygments_lexer": "ipython3",
   "version": "3.6.5"
  },
  "widgets": {
   "application/vnd.jupyter.widget-state+json": {
    "state": {
     "08c5929d9b244a2d9500ebb5da40d997": {
      "model_module": "@jupyter-widgets/base",
      "model_module_version": "1.0.0",
      "model_name": "LayoutModel",
      "state": {}
     },
     "09428a842ddd4d1782c8363bf4f8b38f": {
      "model_module": "@jupyter-widgets/controls",
      "model_module_version": "1.2.0",
      "model_name": "VBoxModel",
      "state": {
       "_dom_classes": [
        "widget-interact"
       ],
       "children": [
        "IPY_MODEL_4b755d5d974c4a5fbb42ee6f8438c456",
        "IPY_MODEL_a5e7d7d265894538a49192aa4d7a78ab"
       ],
       "layout": "IPY_MODEL_ec0b76b01ca54676a18e5b7f468b9fec"
      }
     },
     "0cfc4a56c4394d75bf4f5b8632f074c4": {
      "model_module": "@jupyter-widgets/base",
      "model_module_version": "1.0.0",
      "model_name": "LayoutModel",
      "state": {}
     },
     "1041c3845b80403fb2455c5973770766": {
      "model_module": "@jupyter-widgets/output",
      "model_module_version": "1.0.0",
      "model_name": "OutputModel",
      "state": {
       "layout": "IPY_MODEL_e2e5d921834c44c597d9dd5f88b49053",
       "outputs": [
        {
         "data": {
          "text/plain": "10"
         },
         "metadata": {},
         "output_type": "display_data"
        }
       ]
      }
     },
     "14db77ff98134fdda172d141a98978c0": {
      "model_module": "@jupyter-widgets/controls",
      "model_module_version": "1.2.0",
      "model_name": "TextModel",
      "state": {
       "description": "hex_str",
       "layout": "IPY_MODEL_0cfc4a56c4394d75bf4f5b8632f074c4",
       "style": "IPY_MODEL_7f06accd2704471a8fd5631a673f8477",
       "value": "010203040506000000"
      }
     },
     "207227c585ae4b43a2cfd4d1fc351eaf": {
      "model_module": "@jupyter-widgets/base",
      "model_module_version": "1.0.0",
      "model_name": "LayoutModel",
      "state": {}
     },
     "211ba74b79b349daa01aac8801d33d5b": {
      "model_module": "@jupyter-widgets/base",
      "model_module_version": "1.0.0",
      "model_name": "LayoutModel",
      "state": {}
     },
     "27677f657a1a4f7f8dbe8e7c5f415d5e": {
      "model_module": "@jupyter-widgets/output",
      "model_module_version": "1.0.0",
      "model_name": "OutputModel",
      "state": {
       "layout": "IPY_MODEL_f12ba38709f64f0595d6ad43bec5105b",
       "outputs": [
        {
         "data": {
          "text/plain": "'wwweee'"
         },
         "metadata": {},
         "output_type": "display_data"
        }
       ]
      }
     },
     "286113fb95d445d4ac109aa07bada887": {
      "model_module": "@jupyter-widgets/output",
      "model_module_version": "1.0.0",
      "model_name": "OutputModel",
      "state": {
       "layout": "IPY_MODEL_b14372280fce4ba3bbf931f10d66b743",
       "outputs": [
        {
         "data": {
          "text/plain": "2"
         },
         "metadata": {},
         "output_type": "display_data"
        }
       ]
      }
     },
     "2b54dcf50510411a9bc3bdffe163305c": {
      "model_module": "@jupyter-widgets/base",
      "model_module_version": "1.0.0",
      "model_name": "LayoutModel",
      "state": {}
     },
     "2c99b1f9023e40f2bc4e7baeb9348295": {
      "model_module": "@jupyter-widgets/base",
      "model_module_version": "1.0.0",
      "model_name": "LayoutModel",
      "state": {}
     },
     "2d4e6538dfd743aeb2a047dcd94a09c2": {
      "model_module": "@jupyter-widgets/controls",
      "model_module_version": "1.2.0",
      "model_name": "VBoxModel",
      "state": {
       "_dom_classes": [
        "widget-interact"
       ],
       "children": [
        "IPY_MODEL_5f3a4301b381427190103f9c5234d05f",
        "IPY_MODEL_27677f657a1a4f7f8dbe8e7c5f415d5e"
       ],
       "layout": "IPY_MODEL_dc12eb1955cf42e58a95e51632b8913d"
      }
     },
     "31c299f49d5c4defa14198f870f80e3b": {
      "model_module": "@jupyter-widgets/output",
      "model_module_version": "1.0.0",
      "model_name": "OutputModel",
      "state": {
       "layout": "IPY_MODEL_a055ee30bb984a5fa2db737b49178438",
       "outputs": [
        {
         "data": {
          "text/plain": "'www'"
         },
         "metadata": {},
         "output_type": "display_data"
        }
       ]
      }
     },
     "34f2a2ef570940f796be5245dac3b26f": {
      "model_module": "@jupyter-widgets/base",
      "model_module_version": "1.0.0",
      "model_name": "LayoutModel",
      "state": {}
     },
     "3862201806dc4257a673c8a8925fccf3": {
      "model_module": "@jupyter-widgets/controls",
      "model_module_version": "1.2.0",
      "model_name": "TextModel",
      "state": {
       "description": "hex_str",
       "layout": "IPY_MODEL_abd8f20b348449b19182441851829c48",
       "style": "IPY_MODEL_6c1d60b51f14495c89221d5d52fcdfc5",
       "value": "010203888"
      }
     },
     "39ca320fb8174587b3173fa9c985d35c": {
      "model_module": "@jupyter-widgets/controls",
      "model_module_version": "1.2.0",
      "model_name": "VBoxModel",
      "state": {
       "_dom_classes": [
        "widget-interact"
       ],
       "children": [
        "IPY_MODEL_74d52e96c478479aa701c0e0c3851797",
        "IPY_MODEL_acc358df843e4809a7756abfa0ab9788"
       ],
       "layout": "IPY_MODEL_82fe2373f6ce4dd89a258bb790bf2e4f"
      }
     },
     "39d05129922442e3a98cc93f78168ad2": {
      "model_module": "@jupyter-widgets/base",
      "model_module_version": "1.0.0",
      "model_name": "LayoutModel",
      "state": {}
     },
     "3d82b7b6c48d40beb2638e23411e216f": {
      "model_module": "@jupyter-widgets/controls",
      "model_module_version": "1.2.0",
      "model_name": "VBoxModel",
      "state": {
       "_dom_classes": [
        "widget-interact"
       ],
       "children": [
        "IPY_MODEL_3862201806dc4257a673c8a8925fccf3",
        "IPY_MODEL_420eccf00c574b50a636fadedd597177"
       ],
       "layout": "IPY_MODEL_aa3a774215f54d6f9fa06782b1936eca"
      }
     },
     "3db27e1804a74bbb989bc22307126bf9": {
      "model_module": "@jupyter-widgets/controls",
      "model_module_version": "1.2.0",
      "model_name": "VBoxModel",
      "state": {
       "_dom_classes": [
        "widget-interact"
       ],
       "children": [
        "IPY_MODEL_59d2386c370543c78a4d55bf2d0c4526",
        "IPY_MODEL_d771f00f205b4a229731f4ad42d934f7"
       ],
       "layout": "IPY_MODEL_e35feea5bdcf4692b391aeb8b41d8426"
      }
     },
     "3f7a83a1c5ff429082679334fe442a42": {
      "model_module": "@jupyter-widgets/base",
      "model_module_version": "1.0.0",
      "model_name": "LayoutModel",
      "state": {}
     },
     "40b564ce05c0449b8880bba9e1868167": {
      "model_module": "@jupyter-widgets/controls",
      "model_module_version": "1.2.0",
      "model_name": "TextModel",
      "state": {
       "description": "hex_str",
       "layout": "IPY_MODEL_6b108dd359ea4d00b70f112a611c2786",
       "style": "IPY_MODEL_91ddf039cda146d1aaa8a841285984bb",
       "value": "01020304"
      }
     },
     "420eccf00c574b50a636fadedd597177": {
      "model_module": "@jupyter-widgets/output",
      "model_module_version": "1.0.0",
      "model_name": "OutputModel",
      "state": {
       "layout": "IPY_MODEL_641965f721bc43509fbdc08567cb414c",
       "outputs": [
        {
         "ename": "UnboundLocalError",
         "evalue": "local variable 'b64_str' referenced before assignment",
         "output_type": "error",
         "traceback": [
          "\u001b[1;31m---------------------------------------------------------------------------\u001b[0m",
          "\u001b[1;31mUnboundLocalError\u001b[0m                         Traceback (most recent call last)",
          "\u001b[1;32mC:\\Anaconda3\\lib\\site-packages\\ipywidgets\\widgets\\interaction.py\u001b[0m in \u001b[0;36mupdate\u001b[1;34m(self, *args)\u001b[0m\n\u001b[0;32m    249\u001b[0m                     \u001b[0mvalue\u001b[0m \u001b[1;33m=\u001b[0m \u001b[0mwidget\u001b[0m\u001b[1;33m.\u001b[0m\u001b[0mget_interact_value\u001b[0m\u001b[1;33m(\u001b[0m\u001b[1;33m)\u001b[0m\u001b[1;33m\u001b[0m\u001b[0m\n\u001b[0;32m    250\u001b[0m                     \u001b[0mself\u001b[0m\u001b[1;33m.\u001b[0m\u001b[0mkwargs\u001b[0m\u001b[1;33m[\u001b[0m\u001b[0mwidget\u001b[0m\u001b[1;33m.\u001b[0m\u001b[0m_kwarg\u001b[0m\u001b[1;33m]\u001b[0m \u001b[1;33m=\u001b[0m \u001b[0mvalue\u001b[0m\u001b[1;33m\u001b[0m\u001b[0m\n\u001b[1;32m--> 251\u001b[1;33m                 \u001b[0mself\u001b[0m\u001b[1;33m.\u001b[0m\u001b[0mresult\u001b[0m \u001b[1;33m=\u001b[0m \u001b[0mself\u001b[0m\u001b[1;33m.\u001b[0m\u001b[0mf\u001b[0m\u001b[1;33m(\u001b[0m\u001b[1;33m**\u001b[0m\u001b[0mself\u001b[0m\u001b[1;33m.\u001b[0m\u001b[0mkwargs\u001b[0m\u001b[1;33m)\u001b[0m\u001b[1;33m\u001b[0m\u001b[0m\n\u001b[0m\u001b[0;32m    252\u001b[0m                 \u001b[0mshow_inline_matplotlib_plots\u001b[0m\u001b[1;33m(\u001b[0m\u001b[1;33m)\u001b[0m\u001b[1;33m\u001b[0m\u001b[0m\n\u001b[0;32m    253\u001b[0m                 \u001b[1;32mif\u001b[0m \u001b[0mself\u001b[0m\u001b[1;33m.\u001b[0m\u001b[0mauto_display\u001b[0m \u001b[1;32mand\u001b[0m \u001b[0mself\u001b[0m\u001b[1;33m.\u001b[0m\u001b[0mresult\u001b[0m \u001b[1;32mis\u001b[0m \u001b[1;32mnot\u001b[0m \u001b[1;32mNone\u001b[0m\u001b[1;33m:\u001b[0m\u001b[1;33m\u001b[0m\u001b[0m\n",
          "\u001b[1;32m<ipython-input-30-e3e88b9a28c2>\u001b[0m in \u001b[0;36mhex2base64\u001b[1;34m(hex_str)\u001b[0m\n\u001b[0;32m      6\u001b[0m     \u001b[1;32mexcept\u001b[0m\u001b[1;33m:\u001b[0m\u001b[1;33m\u001b[0m\u001b[0m\n\u001b[0;32m      7\u001b[0m         \u001b[0merror\u001b[0m \u001b[1;33m=\u001b[0m \u001b[1;34m'Error, hex string contains only numbers'\u001b[0m\u001b[1;33m\u001b[0m\u001b[0m\n\u001b[1;32m----> 8\u001b[1;33m     \u001b[1;32mreturn\u001b[0m \u001b[0mb64_str\u001b[0m\u001b[1;33m,\u001b[0m \u001b[0merr\u001b[0m\u001b[1;33m\u001b[0m\u001b[0m\n\u001b[0m",
          "\u001b[1;31mUnboundLocalError\u001b[0m: local variable 'b64_str' referenced before assignment"
         ]
        }
       ]
      }
     },
     "42cf6089c207480188425fe0886470a4": {
      "model_module": "@jupyter-widgets/base",
      "model_module_version": "1.0.0",
      "model_name": "LayoutModel",
      "state": {}
     },
     "4b755d5d974c4a5fbb42ee6f8438c456": {
      "model_module": "@jupyter-widgets/controls",
      "model_module_version": "1.2.0",
      "model_name": "TextModel",
      "state": {
       "description": "hex_str",
       "layout": "IPY_MODEL_2b54dcf50510411a9bc3bdffe163305c",
       "style": "IPY_MODEL_6c41bcfe622347579f55967bffb39e7d",
       "value": "0102039"
      }
     },
     "52aab67a058d4f4ab67d4f810a4d8a6c": {
      "model_module": "@jupyter-widgets/base",
      "model_module_version": "1.0.0",
      "model_name": "LayoutModel",
      "state": {}
     },
     "5579fce2ffe64067bbdd0991d5eb6882": {
      "model_module": "@jupyter-widgets/base",
      "model_module_version": "1.0.0",
      "model_name": "LayoutModel",
      "state": {}
     },
     "59d2386c370543c78a4d55bf2d0c4526": {
      "model_module": "@jupyter-widgets/controls",
      "model_module_version": "1.2.0",
      "model_name": "TextModel",
      "state": {
       "description": "x",
       "layout": "IPY_MODEL_e04992a55e104bb2a9eccc3ee5ada11a",
       "style": "IPY_MODEL_a2e110df56334353a6b4921b1364545d",
       "value": "0000"
      }
     },
     "59fc9666e48c4b338548146bec620bab": {
      "model_module": "@jupyter-widgets/output",
      "model_module_version": "1.0.0",
      "model_name": "OutputModel",
      "state": {
       "layout": "IPY_MODEL_f3587168f8bd47c2baa8eebae201a68d",
       "outputs": [
        {
         "data": {
          "text/plain": "'AQIDBAUGAAAA\\n'"
         },
         "metadata": {},
         "output_type": "display_data"
        }
       ]
      }
     },
     "5f3a4301b381427190103f9c5234d05f": {
      "model_module": "@jupyter-widgets/controls",
      "model_module_version": "1.2.0",
      "model_name": "TextModel",
      "state": {
       "description": "x",
       "layout": "IPY_MODEL_2c99b1f9023e40f2bc4e7baeb9348295",
       "style": "IPY_MODEL_617bbbfccbc54b0face74a19aab16031",
       "value": "wwweee"
      }
     },
     "61104725518e4ee1bdeaebd702378834": {
      "model_module": "@jupyter-widgets/controls",
      "model_module_version": "1.2.0",
      "model_name": "VBoxModel",
      "state": {
       "_dom_classes": [
        "widget-interact"
       ],
       "layout": "IPY_MODEL_65dd56d880f443599848f009e4308cb6"
      }
     },
     "617bbbfccbc54b0face74a19aab16031": {
      "model_module": "@jupyter-widgets/controls",
      "model_module_version": "1.2.0",
      "model_name": "DescriptionStyleModel",
      "state": {
       "description_width": ""
      }
     },
     "641965f721bc43509fbdc08567cb414c": {
      "model_module": "@jupyter-widgets/base",
      "model_module_version": "1.0.0",
      "model_name": "LayoutModel",
      "state": {}
     },
     "6515be2052a247ae91b979b71a992a64": {
      "model_module": "@jupyter-widgets/base",
      "model_module_version": "1.0.0",
      "model_name": "LayoutModel",
      "state": {}
     },
     "65dd56d880f443599848f009e4308cb6": {
      "model_module": "@jupyter-widgets/base",
      "model_module_version": "1.0.0",
      "model_name": "LayoutModel",
      "state": {}
     },
     "68676f5036a7440ba37e25a22bef8883": {
      "model_module": "@jupyter-widgets/output",
      "model_module_version": "1.0.0",
      "model_name": "OutputModel",
      "state": {
       "layout": "IPY_MODEL_5579fce2ffe64067bbdd0991d5eb6882",
       "outputs": [
        {
         "data": {
          "text/plain": "('AQIDBA==', 'OK')"
         },
         "metadata": {},
         "output_type": "display_data"
        }
       ]
      }
     },
     "6b108dd359ea4d00b70f112a611c2786": {
      "model_module": "@jupyter-widgets/base",
      "model_module_version": "1.0.0",
      "model_name": "LayoutModel",
      "state": {}
     },
     "6b80a54acd894ab889b4056d348772fe": {
      "model_module": "@jupyter-widgets/controls",
      "model_module_version": "1.2.0",
      "model_name": "VBoxModel",
      "state": {
       "_dom_classes": [
        "widget-interact"
       ],
       "children": [
        "IPY_MODEL_7ac516889acd4a9cbe0654495edb2098",
        "IPY_MODEL_ed299d694d9240748726f99c02069b42"
       ],
       "layout": "IPY_MODEL_3f7a83a1c5ff429082679334fe442a42"
      }
     },
     "6bc1f6ed011d4004a440e136acab5e5e": {
      "model_module": "@jupyter-widgets/controls",
      "model_module_version": "1.2.0",
      "model_name": "DescriptionStyleModel",
      "state": {
       "description_width": ""
      }
     },
     "6c1d60b51f14495c89221d5d52fcdfc5": {
      "model_module": "@jupyter-widgets/controls",
      "model_module_version": "1.2.0",
      "model_name": "DescriptionStyleModel",
      "state": {
       "description_width": ""
      }
     },
     "6c41bcfe622347579f55967bffb39e7d": {
      "model_module": "@jupyter-widgets/controls",
      "model_module_version": "1.2.0",
      "model_name": "DescriptionStyleModel",
      "state": {
       "description_width": ""
      }
     },
     "732615c99b3345b0b4dca76b42307193": {
      "model_module": "@jupyter-widgets/base",
      "model_module_version": "1.0.0",
      "model_name": "LayoutModel",
      "state": {}
     },
     "74d52e96c478479aa701c0e0c3851797": {
      "model_module": "@jupyter-widgets/controls",
      "model_module_version": "1.2.0",
      "model_name": "TextModel",
      "state": {
       "description": "hex_str",
       "layout": "IPY_MODEL_f3fe62355d544210b2288b259e969ee0",
       "style": "IPY_MODEL_6bc1f6ed011d4004a440e136acab5e5e",
       "value": "010203"
      }
     },
     "77e7ebbcc52047689ca9607276125353": {
      "model_module": "@jupyter-widgets/controls",
      "model_module_version": "1.2.0",
      "model_name": "IntSliderModel",
      "state": {
       "description": "x",
       "layout": "IPY_MODEL_bfb6cbcd06e44a38b98d08241a99ac96",
       "max": 3,
       "min": -1,
       "style": "IPY_MODEL_877688d79e244083aabbec9ec4e50964",
       "value": 2
      }
     },
     "7805a0fd15f548d0a8f8c2fd5ab69384": {
      "model_module": "@jupyter-widgets/controls",
      "model_module_version": "1.2.0",
      "model_name": "DescriptionStyleModel",
      "state": {
       "description_width": ""
      }
     },
     "78aff075f767490b9ca7e05723bce0ce": {
      "model_module": "@jupyter-widgets/controls",
      "model_module_version": "1.2.0",
      "model_name": "VBoxModel",
      "state": {
       "_dom_classes": [
        "widget-interact"
       ],
       "children": [
        "IPY_MODEL_14db77ff98134fdda172d141a98978c0",
        "IPY_MODEL_59fc9666e48c4b338548146bec620bab"
       ],
       "layout": "IPY_MODEL_f18e756682b24605ac266c281621a914"
      }
     },
     "793146fcaea048759fd21f63d90c9ff4": {
      "model_module": "@jupyter-widgets/controls",
      "model_module_version": "1.2.0",
      "model_name": "IntSliderModel",
      "state": {
       "description": "x",
       "layout": "IPY_MODEL_e3fc0de931f142ff915b5915f0fe4a57",
       "max": 30,
       "min": -10,
       "style": "IPY_MODEL_bdcac8e3173249279f66a11b658a93af",
       "value": 8
      }
     },
     "7ac516889acd4a9cbe0654495edb2098": {
      "model_module": "@jupyter-widgets/controls",
      "model_module_version": "1.2.0",
      "model_name": "TextModel",
      "state": {
       "description": "hex_str",
       "layout": "IPY_MODEL_207227c585ae4b43a2cfd4d1fc351eaf",
       "style": "IPY_MODEL_ef18e401d5144194aeaadb1b15e4fb7b",
       "value": "33"
      }
     },
     "7f06accd2704471a8fd5631a673f8477": {
      "model_module": "@jupyter-widgets/controls",
      "model_module_version": "1.2.0",
      "model_name": "DescriptionStyleModel",
      "state": {
       "description_width": ""
      }
     },
     "7f9708bd2bbd4b4f97937c6d4c089d83": {
      "model_module": "@jupyter-widgets/base",
      "model_module_version": "1.0.0",
      "model_name": "LayoutModel",
      "state": {}
     },
     "7f98a4f3fb194d99a3e92df33c947201": {
      "model_module": "@jupyter-widgets/controls",
      "model_module_version": "1.2.0",
      "model_name": "TextModel",
      "state": {
       "description": "hex_str",
       "layout": "IPY_MODEL_732615c99b3345b0b4dca76b42307193",
       "style": "IPY_MODEL_adc816e94a1d4f2baa714f89e55a398a",
       "value": "010203"
      }
     },
     "82fe2373f6ce4dd89a258bb790bf2e4f": {
      "model_module": "@jupyter-widgets/base",
      "model_module_version": "1.0.0",
      "model_name": "LayoutModel",
      "state": {}
     },
     "877688d79e244083aabbec9ec4e50964": {
      "model_module": "@jupyter-widgets/controls",
      "model_module_version": "1.2.0",
      "model_name": "SliderStyleModel",
      "state": {
       "description_width": ""
      }
     },
     "87e195fb55454e85b5ec6a8d438f62aa": {
      "model_module": "@jupyter-widgets/controls",
      "model_module_version": "1.2.0",
      "model_name": "TextModel",
      "state": {
       "description": "hex_str",
       "layout": "IPY_MODEL_e81d09ed00d14b6eaac8e5dca10221e9",
       "style": "IPY_MODEL_7805a0fd15f548d0a8f8c2fd5ab69384",
       "value": "010203"
      }
     },
     "89b9f50294db4c1186e0ffd132b8c8f8": {
      "model_module": "@jupyter-widgets/controls",
      "model_module_version": "1.2.0",
      "model_name": "DescriptionStyleModel",
      "state": {
       "description_width": ""
      }
     },
     "8d4cfcc540ce4c0b9b6bfef4c23871d8": {
      "model_module": "@jupyter-widgets/controls",
      "model_module_version": "1.2.0",
      "model_name": "VBoxModel",
      "state": {
       "_dom_classes": [
        "widget-interact"
       ],
       "children": [
        "IPY_MODEL_95489883e49a49399088e48723edab1b",
        "IPY_MODEL_31c299f49d5c4defa14198f870f80e3b"
       ],
       "layout": "IPY_MODEL_b900c403aee74c40a648a15ab3481b3d"
      }
     },
     "91ddf039cda146d1aaa8a841285984bb": {
      "model_module": "@jupyter-widgets/controls",
      "model_module_version": "1.2.0",
      "model_name": "DescriptionStyleModel",
      "state": {
       "description_width": ""
      }
     },
     "95489883e49a49399088e48723edab1b": {
      "model_module": "@jupyter-widgets/controls",
      "model_module_version": "1.2.0",
      "model_name": "TextModel",
      "state": {
       "description": "x",
       "layout": "IPY_MODEL_39d05129922442e3a98cc93f78168ad2",
       "style": "IPY_MODEL_89b9f50294db4c1186e0ffd132b8c8f8",
       "value": "www"
      }
     },
     "965c7495c930461bad04907a3402dd55": {
      "model_module": "@jupyter-widgets/controls",
      "model_module_version": "1.2.0",
      "model_name": "VBoxModel",
      "state": {
       "_dom_classes": [
        "widget-interact"
       ],
       "layout": "IPY_MODEL_211ba74b79b349daa01aac8801d33d5b"
      }
     },
     "a055ee30bb984a5fa2db737b49178438": {
      "model_module": "@jupyter-widgets/base",
      "model_module_version": "1.0.0",
      "model_name": "LayoutModel",
      "state": {}
     },
     "a2e110df56334353a6b4921b1364545d": {
      "model_module": "@jupyter-widgets/controls",
      "model_module_version": "1.2.0",
      "model_name": "DescriptionStyleModel",
      "state": {
       "description_width": ""
      }
     },
     "a5e7d7d265894538a49192aa4d7a78ab": {
      "model_module": "@jupyter-widgets/output",
      "model_module_version": "1.0.0",
      "model_name": "OutputModel",
      "state": {
       "layout": "IPY_MODEL_42cf6089c207480188425fe0886470a4",
       "outputs": [
        {
         "data": {
          "text/plain": "('', 'OK')"
         },
         "metadata": {},
         "output_type": "display_data"
        }
       ]
      }
     },
     "aa3a774215f54d6f9fa06782b1936eca": {
      "model_module": "@jupyter-widgets/base",
      "model_module_version": "1.0.0",
      "model_name": "LayoutModel",
      "state": {}
     },
     "abd8f20b348449b19182441851829c48": {
      "model_module": "@jupyter-widgets/base",
      "model_module_version": "1.0.0",
      "model_name": "LayoutModel",
      "state": {}
     },
     "acc358df843e4809a7756abfa0ab9788": {
      "model_module": "@jupyter-widgets/output",
      "model_module_version": "1.0.0",
      "model_name": "OutputModel",
      "state": {
       "layout": "IPY_MODEL_d8b8c0ef59c14bf9a803904e85c84d87",
       "outputs": [
        {
         "ename": "AttributeError",
         "evalue": "'str' object has no attribute 'decode'",
         "output_type": "error",
         "traceback": [
          "\u001b[1;31m---------------------------------------------------------------------------\u001b[0m",
          "\u001b[1;31mAttributeError\u001b[0m                            Traceback (most recent call last)",
          "\u001b[1;32mC:\\Anaconda3\\lib\\site-packages\\ipywidgets\\widgets\\interaction.py\u001b[0m in \u001b[0;36mupdate\u001b[1;34m(self, *args)\u001b[0m\n\u001b[0;32m    249\u001b[0m                     \u001b[0mvalue\u001b[0m \u001b[1;33m=\u001b[0m \u001b[0mwidget\u001b[0m\u001b[1;33m.\u001b[0m\u001b[0mget_interact_value\u001b[0m\u001b[1;33m(\u001b[0m\u001b[1;33m)\u001b[0m\u001b[1;33m\u001b[0m\u001b[0m\n\u001b[0;32m    250\u001b[0m                     \u001b[0mself\u001b[0m\u001b[1;33m.\u001b[0m\u001b[0mkwargs\u001b[0m\u001b[1;33m[\u001b[0m\u001b[0mwidget\u001b[0m\u001b[1;33m.\u001b[0m\u001b[0m_kwarg\u001b[0m\u001b[1;33m]\u001b[0m \u001b[1;33m=\u001b[0m \u001b[0mvalue\u001b[0m\u001b[1;33m\u001b[0m\u001b[0m\n\u001b[1;32m--> 251\u001b[1;33m                 \u001b[0mself\u001b[0m\u001b[1;33m.\u001b[0m\u001b[0mresult\u001b[0m \u001b[1;33m=\u001b[0m \u001b[0mself\u001b[0m\u001b[1;33m.\u001b[0m\u001b[0mf\u001b[0m\u001b[1;33m(\u001b[0m\u001b[1;33m**\u001b[0m\u001b[0mself\u001b[0m\u001b[1;33m.\u001b[0m\u001b[0mkwargs\u001b[0m\u001b[1;33m)\u001b[0m\u001b[1;33m\u001b[0m\u001b[0m\n\u001b[0m\u001b[0;32m    252\u001b[0m                 \u001b[0mshow_inline_matplotlib_plots\u001b[0m\u001b[1;33m(\u001b[0m\u001b[1;33m)\u001b[0m\u001b[1;33m\u001b[0m\u001b[0m\n\u001b[0;32m    253\u001b[0m                 \u001b[1;32mif\u001b[0m \u001b[0mself\u001b[0m\u001b[1;33m.\u001b[0m\u001b[0mauto_display\u001b[0m \u001b[1;32mand\u001b[0m \u001b[0mself\u001b[0m\u001b[1;33m.\u001b[0m\u001b[0mresult\u001b[0m \u001b[1;32mis\u001b[0m \u001b[1;32mnot\u001b[0m \u001b[1;32mNone\u001b[0m\u001b[1;33m:\u001b[0m\u001b[1;33m\u001b[0m\u001b[0m\n",
          "\u001b[1;32m<ipython-input-21-b1beb9b86fb3>\u001b[0m in \u001b[0;36mhex2base64\u001b[1;34m(hex_str)\u001b[0m\n\u001b[0;32m      1\u001b[0m \u001b[1;32mdef\u001b[0m \u001b[0mhex2base64\u001b[0m\u001b[1;33m(\u001b[0m\u001b[0mhex_str\u001b[0m\u001b[1;33m)\u001b[0m\u001b[1;33m:\u001b[0m\u001b[1;33m\u001b[0m\u001b[0m\n\u001b[1;32m----> 2\u001b[1;33m     \u001b[0mb64_str\u001b[0m \u001b[1;33m=\u001b[0m \u001b[0mhex_str\u001b[0m\u001b[1;33m.\u001b[0m\u001b[0mdecode\u001b[0m\u001b[1;33m(\u001b[0m\u001b[1;34m\"hex\"\u001b[0m\u001b[1;33m)\u001b[0m\u001b[1;33m.\u001b[0m\u001b[0mencode\u001b[0m\u001b[1;33m(\u001b[0m\u001b[1;34m\"base64\"\u001b[0m\u001b[1;33m)\u001b[0m\u001b[1;33m\u001b[0m\u001b[0m\n\u001b[0m\u001b[0;32m      3\u001b[0m     \u001b[1;31m#b64_str='->'+hex_str\u001b[0m\u001b[1;33m\u001b[0m\u001b[1;33m\u001b[0m\u001b[0m\n\u001b[0;32m      4\u001b[0m     \u001b[1;32mreturn\u001b[0m \u001b[0mb64_str\u001b[0m\u001b[1;33m\u001b[0m\u001b[0m\n",
          "\u001b[1;31mAttributeError\u001b[0m: 'str' object has no attribute 'decode'"
         ]
        }
       ]
      }
     },
     "adc816e94a1d4f2baa714f89e55a398a": {
      "model_module": "@jupyter-widgets/controls",
      "model_module_version": "1.2.0",
      "model_name": "DescriptionStyleModel",
      "state": {
       "description_width": ""
      }
     },
     "b14372280fce4ba3bbf931f10d66b743": {
      "model_module": "@jupyter-widgets/base",
      "model_module_version": "1.0.0",
      "model_name": "LayoutModel",
      "state": {}
     },
     "b52b37c5d9234081b6e725a7629a8e53": {
      "model_module": "@jupyter-widgets/base",
      "model_module_version": "1.0.0",
      "model_name": "LayoutModel",
      "state": {}
     },
     "b900c403aee74c40a648a15ab3481b3d": {
      "model_module": "@jupyter-widgets/base",
      "model_module_version": "1.0.0",
      "model_name": "LayoutModel",
      "state": {}
     },
     "ba3c8e7b70aa437283cf98c0ab3a3f22": {
      "model_module": "@jupyter-widgets/controls",
      "model_module_version": "1.2.0",
      "model_name": "VBoxModel",
      "state": {
       "_dom_classes": [
        "widget-interact"
       ],
       "children": [
        "IPY_MODEL_77e7ebbcc52047689ca9607276125353",
        "IPY_MODEL_286113fb95d445d4ac109aa07bada887"
       ],
       "layout": "IPY_MODEL_7f9708bd2bbd4b4f97937c6d4c089d83"
      }
     },
     "bdcac8e3173249279f66a11b658a93af": {
      "model_module": "@jupyter-widgets/controls",
      "model_module_version": "1.2.0",
      "model_name": "SliderStyleModel",
      "state": {
       "description_width": ""
      }
     },
     "bf6501fee8c9458084e4406d2cd0d979": {
      "model_module": "@jupyter-widgets/base",
      "model_module_version": "1.0.0",
      "model_name": "LayoutModel",
      "state": {}
     },
     "bfb6cbcd06e44a38b98d08241a99ac96": {
      "model_module": "@jupyter-widgets/base",
      "model_module_version": "1.0.0",
      "model_name": "LayoutModel",
      "state": {}
     },
     "d466756174104ef8a50fd270c29a31ea": {
      "model_module": "@jupyter-widgets/controls",
      "model_module_version": "1.2.0",
      "model_name": "VBoxModel",
      "state": {
       "_dom_classes": [
        "widget-interact"
       ],
       "children": [
        "IPY_MODEL_87e195fb55454e85b5ec6a8d438f62aa",
        "IPY_MODEL_e2e11d118f554a14942370d68b045fb4"
       ],
       "layout": "IPY_MODEL_34f2a2ef570940f796be5245dac3b26f"
      }
     },
     "d49203c7689747ceb45f4e56332758f1": {
      "model_module": "@jupyter-widgets/base",
      "model_module_version": "1.0.0",
      "model_name": "LayoutModel",
      "state": {}
     },
     "d771f00f205b4a229731f4ad42d934f7": {
      "model_module": "@jupyter-widgets/output",
      "model_module_version": "1.0.0",
      "model_name": "OutputModel",
      "state": {
       "layout": "IPY_MODEL_bf6501fee8c9458084e4406d2cd0d979",
       "outputs": [
        {
         "data": {
          "text/plain": "'0000'"
         },
         "metadata": {},
         "output_type": "display_data"
        }
       ]
      }
     },
     "d8b8c0ef59c14bf9a803904e85c84d87": {
      "model_module": "@jupyter-widgets/base",
      "model_module_version": "1.0.0",
      "model_name": "LayoutModel",
      "state": {}
     },
     "d97398bf0e0c4a32a127281f39b6e07b": {
      "model_module": "@jupyter-widgets/controls",
      "model_module_version": "1.2.0",
      "model_name": "VBoxModel",
      "state": {
       "_dom_classes": [
        "widget-interact"
       ],
       "children": [
        "IPY_MODEL_793146fcaea048759fd21f63d90c9ff4",
        "IPY_MODEL_1041c3845b80403fb2455c5973770766"
       ],
       "layout": "IPY_MODEL_52aab67a058d4f4ab67d4f810a4d8a6c"
      }
     },
     "dc12eb1955cf42e58a95e51632b8913d": {
      "model_module": "@jupyter-widgets/base",
      "model_module_version": "1.0.0",
      "model_name": "LayoutModel",
      "state": {}
     },
     "e04992a55e104bb2a9eccc3ee5ada11a": {
      "model_module": "@jupyter-widgets/base",
      "model_module_version": "1.0.0",
      "model_name": "LayoutModel",
      "state": {}
     },
     "e2e11d118f554a14942370d68b045fb4": {
      "model_module": "@jupyter-widgets/output",
      "model_module_version": "1.0.0",
      "model_name": "OutputModel",
      "state": {
       "layout": "IPY_MODEL_b52b37c5d9234081b6e725a7629a8e53",
       "outputs": [
        {
         "data": {
          "text/plain": "('AQID\\n', 'OK')"
         },
         "metadata": {},
         "output_type": "display_data"
        }
       ]
      }
     },
     "e2e5d921834c44c597d9dd5f88b49053": {
      "model_module": "@jupyter-widgets/base",
      "model_module_version": "1.0.0",
      "model_name": "LayoutModel",
      "state": {}
     },
     "e35feea5bdcf4692b391aeb8b41d8426": {
      "model_module": "@jupyter-widgets/base",
      "model_module_version": "1.0.0",
      "model_name": "LayoutModel",
      "state": {}
     },
     "e3fc0de931f142ff915b5915f0fe4a57": {
      "model_module": "@jupyter-widgets/base",
      "model_module_version": "1.0.0",
      "model_name": "LayoutModel",
      "state": {}
     },
     "e66a0bd7dd154770b2291976e5c4b33f": {
      "model_module": "@jupyter-widgets/output",
      "model_module_version": "1.0.0",
      "model_name": "OutputModel",
      "state": {
       "layout": "IPY_MODEL_d49203c7689747ceb45f4e56332758f1",
       "outputs": [
        {
         "data": {
          "text/plain": "'->010203'"
         },
         "metadata": {},
         "output_type": "display_data"
        }
       ]
      }
     },
     "e81d09ed00d14b6eaac8e5dca10221e9": {
      "model_module": "@jupyter-widgets/base",
      "model_module_version": "1.0.0",
      "model_name": "LayoutModel",
      "state": {}
     },
     "ec0b76b01ca54676a18e5b7f468b9fec": {
      "model_module": "@jupyter-widgets/base",
      "model_module_version": "1.0.0",
      "model_name": "LayoutModel",
      "state": {}
     },
     "ed299d694d9240748726f99c02069b42": {
      "model_module": "@jupyter-widgets/output",
      "model_module_version": "1.0.0",
      "model_name": "OutputModel",
      "state": {
       "layout": "IPY_MODEL_fae1c82a23984404b01cf98c912e03cf",
       "outputs": [
        {
         "data": {
          "text/plain": "('Mw==\\n', 'OK')"
         },
         "metadata": {},
         "output_type": "display_data"
        }
       ]
      }
     },
     "ed5f671e66db42fb9c3be21d74b9a6a3": {
      "model_module": "@jupyter-widgets/controls",
      "model_module_version": "1.2.0",
      "model_name": "VBoxModel",
      "state": {
       "_dom_classes": [
        "widget-interact"
       ],
       "children": [
        "IPY_MODEL_7f98a4f3fb194d99a3e92df33c947201",
        "IPY_MODEL_e66a0bd7dd154770b2291976e5c4b33f"
       ],
       "layout": "IPY_MODEL_08c5929d9b244a2d9500ebb5da40d997"
      }
     },
     "ef18e401d5144194aeaadb1b15e4fb7b": {
      "model_module": "@jupyter-widgets/controls",
      "model_module_version": "1.2.0",
      "model_name": "DescriptionStyleModel",
      "state": {
       "description_width": ""
      }
     },
     "f12ba38709f64f0595d6ad43bec5105b": {
      "model_module": "@jupyter-widgets/base",
      "model_module_version": "1.0.0",
      "model_name": "LayoutModel",
      "state": {}
     },
     "f18e756682b24605ac266c281621a914": {
      "model_module": "@jupyter-widgets/base",
      "model_module_version": "1.0.0",
      "model_name": "LayoutModel",
      "state": {}
     },
     "f3587168f8bd47c2baa8eebae201a68d": {
      "model_module": "@jupyter-widgets/base",
      "model_module_version": "1.0.0",
      "model_name": "LayoutModel",
      "state": {}
     },
     "f3fe62355d544210b2288b259e969ee0": {
      "model_module": "@jupyter-widgets/base",
      "model_module_version": "1.0.0",
      "model_name": "LayoutModel",
      "state": {}
     },
     "fae1c82a23984404b01cf98c912e03cf": {
      "model_module": "@jupyter-widgets/base",
      "model_module_version": "1.0.0",
      "model_name": "LayoutModel",
      "state": {}
     },
     "fcd54197c6d541b2b8e6e91ab4001bb9": {
      "model_module": "@jupyter-widgets/controls",
      "model_module_version": "1.2.0",
      "model_name": "VBoxModel",
      "state": {
       "_dom_classes": [
        "widget-interact"
       ],
       "children": [
        "IPY_MODEL_40b564ce05c0449b8880bba9e1868167",
        "IPY_MODEL_68676f5036a7440ba37e25a22bef8883"
       ],
       "layout": "IPY_MODEL_6515be2052a247ae91b979b71a992a64"
      }
     }
    },
    "version_major": 2,
    "version_minor": 0
   }
  }
 },
 "nbformat": 4,
 "nbformat_minor": 2
}
